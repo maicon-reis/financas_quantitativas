{
  "nbformat": 4,
  "nbformat_minor": 0,
  "metadata": {
    "colab": {
      "name": "RSI_Trade-Função.ipynb",
      "provenance": [],
      "collapsed_sections": [],
      "authorship_tag": "ABX9TyM7lz6tpuvgBkgXDTIsEP88",
      "include_colab_link": true
    },
    "kernelspec": {
      "name": "python3",
      "display_name": "Python 3"
    },
    "language_info": {
      "name": "python"
    }
  },
  "cells": [
    {
      "cell_type": "markdown",
      "metadata": {
        "id": "view-in-github",
        "colab_type": "text"
      },
      "source": [
        "<a href=\"https://colab.research.google.com/github/maicon-reis/python_para_financas/blob/main/RSI_Trade_Fun%C3%A7%C3%A3o.ipynb\" target=\"_parent\"><img src=\"https://colab.research.google.com/assets/colab-badge.svg\" alt=\"Open In Colab\"/></a>"
      ]
    },
    {
      "cell_type": "code",
      "metadata": {
        "id": "6pqIg3Z1IqMq",
        "colab": {
          "base_uri": "https://localhost:8080/"
        },
        "outputId": "c883f446-3a38-44e9-999c-9cc1f2ac20c7"
      },
      "source": [
        "!pip install -q yfinance"
      ],
      "execution_count": null,
      "outputs": [
        {
          "output_type": "stream",
          "text": [
            "\u001b[K     |████████████████████████████████| 6.3 MB 6.5 MB/s \n",
            "\u001b[?25h  Building wheel for yfinance (setup.py) ... \u001b[?25l\u001b[?25hdone\n"
          ],
          "name": "stdout"
        }
      ]
    },
    {
      "cell_type": "markdown",
      "metadata": {
        "id": "KnGYItiCd08n"
      },
      "source": [
        "# **1. Criando Função que calcula RSI**"
      ]
    },
    {
      "cell_type": "code",
      "metadata": {
        "id": "EbgpoB-4IsXw"
      },
      "source": [
        "# bibliotecas\n",
        "from datetime import date\n",
        "import pandas as pd\n",
        "import numpy as np\n",
        "import yfinance as yf\n",
        "import matplotlib.pyplot as plt\n",
        "import matplotlib\n",
        "import datetime as dt\n",
        "pd.options.mode.chained_assignment = None\n",
        "\n",
        "def RSIcalc(asset):\n",
        "    '''\n",
        "    Função que calcula média movel de 200 e RSI.\n",
        "    '''\n",
        "    # coletando dados\n",
        "    df = yf.download( asset, start=dt.datetime( 2015, 1, 1 ), end=dt.datetime.now() )\n",
        "\n",
        "    # calcula média móvel de 200 períodos\n",
        "    df.loc[ :, 'MA200' ] = df[ 'Adj Close' ].rolling( window=200 ).mean()\n",
        "\n",
        "    # retornos relativos (retornos diários)\n",
        "    df.loc[ :, 'price change'] = df[ 'Adj Close' ].pct_change()\n",
        "\n",
        "    # coletando períodos positivos e negativos\n",
        "    df.loc[ :,  'Upmove' ] = df[ 'price change' ].apply( lambda x: x if x > 0 else 0 )\n",
        "    df.loc[ :, 'Downmove' ] = df[ 'price change' ].apply( lambda x: abs( x ) if x < 0 else 0 )\n",
        "\n",
        "    # calculando média de 19 períodos\n",
        "    df.loc[ :,  'avg Up' ] = df[ 'Upmove' ].ewm( span=14 ).mean()\n",
        "    df.loc[ :,  'avg Down' ] = df[ 'Downmove' ].ewm( span=14 ).mean()\n",
        "    df.dropna(inplace=True)\n",
        "\n",
        "    # Calculando a força relativa obtida entre períodos de alta e baixa\n",
        "    df.loc[ :, 'RS' ] = df[ 'avg Up' ] / df[ 'avg Down' ]\n",
        "\n",
        "    # Calculando o indicador RSI\n",
        "    df.loc[ :, 'RSI' ] = df[ 'RS' ].apply( lambda x: 100 - ( 100 / ( x+1 ) ) )\n",
        "\n",
        "    # Regra de Trade Caso o RSI seja maior que zero e o nível de preço/pontos\n",
        "    # esteja acima da média de 200 indica compra\n",
        "    df.loc[ ( df[ 'Adj Close' ] > df[ 'MA200' ] ) & ( df[ 'RSI' ] < 30 ), 'Buy' ] = 'Yes'\n",
        "    df.loc[ ( df[ 'Adj Close' ] < df[ 'MA200' ] ) | ( df[ 'RSI' ] > 30 ), 'Buy' ] = 'No'\n",
        "    return df\n",
        "\n",
        "def getSignals(df):\n",
        "    '''\n",
        "    Função para coletar sinal de compra e venda.\n",
        "    '''\n",
        "    buying_dates = []\n",
        "    selling_dates = []\n",
        "\n",
        "    for i in range(len(df)):\n",
        "        if 'Yes' in df['Buy'].iloc[i]:\n",
        "            buying_dates.append(df.iloc[i+1].name)\n",
        "            for j in range(1, 11):\n",
        "                if df['RSI'].iloc[i+j] > 40:\n",
        "                    selling_dates.append(df.iloc[i+j+1].name)\n",
        "                    break\n",
        "                elif j == 10:\n",
        "                    selling_dates.append(df.iloc[i+j+1].name)\n",
        "    return buying_dates, selling_dates"
      ],
      "execution_count": null,
      "outputs": []
    },
    {
      "cell_type": "markdown",
      "metadata": {
        "id": "o6JrOGvieBbu"
      },
      "source": [
        "# **2. Coleta Ações que compõem o Ibov**"
      ]
    },
    {
      "cell_type": "code",
      "metadata": {
        "id": "bZHQs9tQBAlB"
      },
      "source": [
        "# Webscrapping das ações que compôem o Ibov\n",
        "tickers = pd.read_html('https://pt.wikipedia.org/wiki/Lista_de_companhias_citadas_no_Ibovespa')[0]\n",
        "ativos = tickers.Código.to_list()\n",
        "lista_ativos = []\n",
        "for ativo in ativos:\n",
        "    lista_ativos.append('{}.SA'.format(ativo))"
      ],
      "execution_count": null,
      "outputs": []
    },
    {
      "cell_type": "markdown",
      "metadata": {
        "id": "ozzU6aqseMZ-"
      },
      "source": [
        "# **3. Cria matriz com resultados**"
      ]
    },
    {
      "cell_type": "code",
      "metadata": {
        "colab": {
          "base_uri": "https://localhost:8080/"
        },
        "id": "qTXtMDUV-dmH",
        "outputId": "995262b5-b21a-4d09-8766-0a44a424830d"
      },
      "source": [
        "# cria uma matriz com os sinais e resultados de todos os ativos\n",
        "matrixsignals = []\n",
        "matrixprofits = []\n",
        "\n",
        "for i in range(len(lista_ativos)):\n",
        "    try:\n",
        "        frame = RSIcalc(lista_ativos[i])\n",
        "        buy, sell = getSignals(frame)\n",
        "        profits = (frame.loc[sell].Open.values - frame.loc[buy].Open.values) / frame.loc[buy].Open.values\n",
        "        matrixsignals.append(buy)\n",
        "        matrixprofits.append(profits)\n",
        "    except Exception:\n",
        "        continue\n",
        "\n",
        "# Unindo todos os resultados em uma única lista\n",
        "allprofit = []\n",
        "for i in matrixprofits:\n",
        "    for e in i:\n",
        "        allprofit.append(e)\n",
        "\n",
        "# Coletando dentre os resultados apenas os positivos\n",
        "wins = [i for i in allprofit if i > 0]\n",
        "\n",
        "print('Proporção de trades vencedores: {}%'.format(round(len(wins)/len(allprofit) * 100, 2)))"
      ],
      "execution_count": null,
      "outputs": [
        {
          "output_type": "stream",
          "text": [
            "[*********************100%***********************]  1 of 1 completed\n",
            "[*********************100%***********************]  1 of 1 completed\n",
            "[*********************100%***********************]  1 of 1 completed\n",
            "[*********************100%***********************]  1 of 1 completed\n",
            "[*********************100%***********************]  1 of 1 completed\n",
            "[*********************100%***********************]  1 of 1 completed\n",
            "[*********************100%***********************]  1 of 1 completed\n",
            "[*********************100%***********************]  1 of 1 completed\n",
            "[*********************100%***********************]  1 of 1 completed\n",
            "[*********************100%***********************]  1 of 1 completed\n",
            "[*********************100%***********************]  1 of 1 completed\n",
            "[*********************100%***********************]  1 of 1 completed\n",
            "[*********************100%***********************]  1 of 1 completed\n",
            "[*********************100%***********************]  1 of 1 completed\n",
            "[*********************100%***********************]  1 of 1 completed\n",
            "[*********************100%***********************]  1 of 1 completed\n",
            "[*********************100%***********************]  1 of 1 completed\n",
            "[*********************100%***********************]  1 of 1 completed\n",
            "[*********************100%***********************]  1 of 1 completed\n",
            "[*********************100%***********************]  1 of 1 completed\n",
            "[*********************100%***********************]  1 of 1 completed\n",
            "[*********************100%***********************]  1 of 1 completed\n",
            "[*********************100%***********************]  1 of 1 completed\n",
            "[*********************100%***********************]  1 of 1 completed\n",
            "[*********************100%***********************]  1 of 1 completed\n",
            "[*********************100%***********************]  1 of 1 completed\n",
            "[*********************100%***********************]  1 of 1 completed\n",
            "[*********************100%***********************]  1 of 1 completed\n",
            "[*********************100%***********************]  1 of 1 completed\n",
            "[*********************100%***********************]  1 of 1 completed\n",
            "[*********************100%***********************]  1 of 1 completed\n",
            "[*********************100%***********************]  1 of 1 completed\n",
            "[*********************100%***********************]  1 of 1 completed\n",
            "[*********************100%***********************]  1 of 1 completed\n",
            "[*********************100%***********************]  1 of 1 completed\n",
            "[*********************100%***********************]  1 of 1 completed\n",
            "[*********************100%***********************]  1 of 1 completed\n",
            "[*********************100%***********************]  1 of 1 completed\n",
            "[*********************100%***********************]  1 of 1 completed\n",
            "[*********************100%***********************]  1 of 1 completed\n",
            "[*********************100%***********************]  1 of 1 completed\n",
            "[*********************100%***********************]  1 of 1 completed\n",
            "[*********************100%***********************]  1 of 1 completed\n",
            "[*********************100%***********************]  1 of 1 completed\n",
            "[*********************100%***********************]  1 of 1 completed\n",
            "[*********************100%***********************]  1 of 1 completed\n",
            "[*********************100%***********************]  1 of 1 completed\n",
            "[*********************100%***********************]  1 of 1 completed\n",
            "[*********************100%***********************]  1 of 1 completed\n",
            "[*********************100%***********************]  1 of 1 completed\n",
            "[*********************100%***********************]  1 of 1 completed\n",
            "[*********************100%***********************]  1 of 1 completed\n",
            "[*********************100%***********************]  1 of 1 completed\n",
            "[*********************100%***********************]  1 of 1 completed\n",
            "[*********************100%***********************]  1 of 1 completed\n",
            "[*********************100%***********************]  1 of 1 completed\n",
            "[*********************100%***********************]  1 of 1 completed\n",
            "[*********************100%***********************]  1 of 1 completed\n",
            "[*********************100%***********************]  1 of 1 completed\n",
            "[*********************100%***********************]  1 of 1 completed\n",
            "[*********************100%***********************]  1 of 1 completed\n",
            "[*********************100%***********************]  1 of 1 completed\n",
            "[*********************100%***********************]  1 of 1 completed\n",
            "[*********************100%***********************]  1 of 1 completed\n",
            "[*********************100%***********************]  1 of 1 completed\n",
            "[*********************100%***********************]  1 of 1 completed\n",
            "[*********************100%***********************]  1 of 1 completed\n",
            "\n",
            "1 Failed download:\n",
            "- TIMP3.SA: No data found, symbol may be delisted\n",
            "[*********************100%***********************]  1 of 1 completed\n",
            "[*********************100%***********************]  1 of 1 completed\n",
            "[*********************100%***********************]  1 of 1 completed\n",
            "[*********************100%***********************]  1 of 1 completed\n",
            "[*********************100%***********************]  1 of 1 completed\n",
            "\n",
            "1 Failed download:\n",
            "- VIVT4.SA: No data found, symbol may be delisted\n",
            "[*********************100%***********************]  1 of 1 completed\n",
            "[*********************100%***********************]  1 of 1 completed\n",
            "[*********************100%***********************]  1 of 1 completed\n",
            "Proporção de trades vencedores: 69.52%\n"
          ],
          "name": "stdout"
        }
      ]
    },
    {
      "cell_type": "markdown",
      "metadata": {
        "id": "Cg0cHyldeaIS"
      },
      "source": [
        "# **4. Cria Gráfico de Dispersão com Resultados**"
      ]
    },
    {
      "cell_type": "code",
      "metadata": {
        "colab": {
          "base_uri": "https://localhost:8080/"
        },
        "id": "DdCXvc80Zgxm",
        "outputId": "89130463-8717-4396-fa24-614ed8e00987"
      },
      "source": [
        "import seaborn as sns\n",
        "\n",
        "sns.displot(allprofit)\n",
        "plt.show()"
      ],
      "execution_count": null,
      "outputs": [
        {
          "output_type": "display_data",
          "data": {
            "image/png": "[encoded data removed]",
            "text/plain": [
              "<Figure size 360x360 with 1 Axes>"
            ]
          },
          "metadata": {
            "needs_background": "light"
          }
        }
      ]
    },
    {
      "cell_type": "code",
      "metadata": {
        "id": "69XFFv9nZxZC"
      },
      "source": [
        ""
      ],
      "execution_count": null,
      "outputs": []
    }
  ]
}