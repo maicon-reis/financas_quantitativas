{
  "cells": [
    {
      "cell_type": "markdown",
      "metadata": {
        "colab_type": "text",
        "id": "view-in-github"
      },
      "source": [
        "<a href=\"https://colab.research.google.com/github/maicon-reis/financas_quantitativas/blob/main/Analisando_FIIS_com_Python.ipynb\" target=\"_parent\"><img src=\"https://colab.research.google.com/assets/colab-badge.svg\" alt=\"Open In Colab\"/></a>"
      ]
    },
    {
      "cell_type": "markdown",
      "metadata": {
        "id": "5LMKoFK-1_GM"
      },
      "source": [
        "<hr>\n",
        "\n",
        "## **Web Scrapping de FIIS com Python**\n",
        "\n",
        "<hr>"
      ]
    },
    {
      "cell_type": "code",
      "execution_count": 25,
      "metadata": {
        "id": "843v3qYh1P6b"
      },
      "outputs": [],
      "source": [
        "# Instalando as libs (Caso necessite instalar as bibliotecas)\n",
        "#!pip install -q requests\n",
        "#!pip install -q bs4\n",
        "# !pip install -q squarify"
      ]
    },
    {
      "cell_type": "code",
      "execution_count": 29,
      "metadata": {
        "id": "YnLvGObb1hlA"
      },
      "outputs": [],
      "source": [
        "# Bibliotecas utilizadas\n",
        "import pandas as pd\n",
        "import numpy as np\n",
        "import matplotlib.pyplot as plt\n",
        "import seaborn as sns\n",
        "import requests\n",
        "from bs4 import BeautifulSoup\n",
        "import plotly.express as px\n",
        "import squarify"
      ]
    },
    {
      "cell_type": "code",
      "execution_count": 2,
      "metadata": {
        "id": "k37AQ6rc2kOz"
      },
      "outputs": [],
      "source": [
        "# Realizando o scraping do site\n",
        "fii_url = 'https://fundsexplorer.com.br/ranking'\n",
        "fii_re = requests.get(fii_url)\n",
        "\n",
        "fii_bs4 = BeautifulSoup(fii_re.text, \"html.parser\")\n",
        "fii_table = fii_bs4.findAll(attrs={\"id\": \"scroll-wrapper\"})[0].findAll('table')\n",
        "fii_df = pd.read_html(str(fii_table[0]))[0]"
      ]
    },
    {
      "cell_type": "code",
      "execution_count": 3,
      "metadata": {
        "id": "PQqZCLe92-FP"
      },
      "outputs": [
        {
          "name": "stdout",
          "output_type": "stream",
          "text": [
            "Foram coletados  282 FIIS no ranking do site Funds Explorer.\n"
          ]
        }
      ],
      "source": [
        "# Criando uma lista com os tickers dos FIIS\n",
        "fii_lista = fii_df['Códigodo fundo'].to_list()\n",
        "\n",
        "print(f'Foram coletados  {len(fii_lista)} FIIS no ranking do site Funds Explorer.')"
      ]
    },
    {
      "cell_type": "code",
      "execution_count": 4,
      "metadata": {
        "id": "2dqp8GiRI-8m"
      },
      "outputs": [],
      "source": [
        "# Eliminando colunas com mais de 50% de valores faltantes\n",
        "fii_isna = dict(fii_df.isna().sum() / fii_df.shape[0] * 100)\n",
        "\n",
        "for k, v in fii_isna.items():\n",
        "    if fii_isna[k] > 50:\n",
        "        fii_df.drop(k, axis=1, inplace=True)"
      ]
    },
    {
      "cell_type": "code",
      "execution_count": 5,
      "metadata": {
        "id": "XxEuAjv_5J_B"
      },
      "outputs": [],
      "source": [
        "# Renomeando as colunas\n",
        "fii_df.columns = ['codigo_fundo', 'Setor', 'preco_atual', 'liquidez_diaria',\n",
        "       'dividendo', 'dividend_yield', 'dy_3m_acum', 'dy_6m_acum',\n",
        "       'dy_12m_acum', 'dy_3m_media', 'dy_6m_media', 'dy_12m_media', 'DY Ano',\n",
        "       'var_preco', 'Rent_periodo', 'rent_acum', 'patr_liq', 'vpa', 'p_vpa', \n",
        "       'dy_patr', 'var_patr', 'rent_patr_no_per', 'rent_patr_acum', 'qtd_ativos']"
      ]
    },
    {
      "cell_type": "code",
      "execution_count": 6,
      "metadata": {
        "id": "NEnroDVY7GTi"
      },
      "outputs": [],
      "source": [
        "# Tratamento dos dados \n",
        "fii_df = fii_df.replace(to_replace=r'^R\\$ ', value='', regex=True)\n",
        "fii_df = fii_df.replace(to_replace=r'%$', value='', regex=True)\n",
        "\n",
        "fii_df['preco_atual'] = fii_df['preco_atual'].str.replace('.', '')\n",
        "fii_df['patr_liq'] = fii_df['patr_liq'].str.replace('.', '')\n",
        "fii_df['vpa'] = fii_df['vpa'].str.replace('.', '')\n",
        "\n",
        "colunas = ['preco_atual', 'dividendo', 'dividend_yield', 'dy_3m_acum', \n",
        "           'dy_6m_acum', 'dy_12m_acum', 'dy_3m_media', 'dy_6m_media',\n",
        "           'dy_12m_media', 'DY Ano', 'var_preco', 'Rent_periodo', 'rent_acum',\n",
        "           'patr_liq', 'vpa', 'dy_patr', 'var_patr', 'rent_patr_no_per',\n",
        "           'rent_patr_acum']\n",
        "\n",
        "for coluna in colunas:\n",
        "    fii_df[coluna] = fii_df[coluna].str.replace(',', '.')"
      ]
    },
    {
      "cell_type": "code",
      "execution_count": 7,
      "metadata": {
        "id": "SH2nzFxk9U0q"
      },
      "outputs": [
        {
          "name": "stdout",
          "output_type": "stream",
          "text": [
            "<class 'pandas.core.frame.DataFrame'>\n",
            "RangeIndex: 282 entries, 0 to 281\n",
            "Data columns (total 24 columns):\n",
            " #   Column            Non-Null Count  Dtype  \n",
            "---  ------            --------------  -----  \n",
            " 0   codigo_fundo      282 non-null    object \n",
            " 1   Setor             278 non-null    object \n",
            " 2   preco_atual       274 non-null    object \n",
            " 3   liquidez_diaria   274 non-null    float64\n",
            " 4   dividendo         282 non-null    object \n",
            " 5   dividend_yield    276 non-null    object \n",
            " 6   dy_3m_acum        276 non-null    object \n",
            " 7   dy_6m_acum        276 non-null    object \n",
            " 8   dy_12m_acum       276 non-null    object \n",
            " 9   dy_3m_media       276 non-null    object \n",
            " 10  dy_6m_media       276 non-null    object \n",
            " 11  dy_12m_media      276 non-null    object \n",
            " 12  DY Ano            262 non-null    object \n",
            " 13  var_preco         276 non-null    object \n",
            " 14  Rent_periodo      276 non-null    object \n",
            " 15  rent_acum         276 non-null    object \n",
            " 16  patr_liq          282 non-null    object \n",
            " 17  vpa               282 non-null    object \n",
            " 18  p_vpa             274 non-null    float64\n",
            " 19  dy_patr           247 non-null    object \n",
            " 20  var_patr          247 non-null    object \n",
            " 21  rent_patr_no_per  247 non-null    object \n",
            " 22  rent_patr_acum    247 non-null    object \n",
            " 23  qtd_ativos        282 non-null    int64  \n",
            "dtypes: float64(2), int64(1), object(21)\n",
            "memory usage: 53.0+ KB\n"
          ]
        }
      ],
      "source": [
        "fii_df.info()"
      ]
    },
    {
      "cell_type": "code",
      "execution_count": 8,
      "metadata": {
        "id": "5sWqmPuDA3mA"
      },
      "outputs": [],
      "source": [
        "# Modificação do tipo de dado de object para float\n",
        "for coluna in colunas:\n",
        "    fii_df[coluna] = fii_df[coluna].astype(float)"
      ]
    },
    {
      "cell_type": "code",
      "execution_count": 9,
      "metadata": {
        "id": "oQEOpOKzBsv7"
      },
      "outputs": [],
      "source": [
        "# Excluindo os FIIS com dados faltantes.\n",
        "fii_df.dropna(axis=0, inplace=True)"
      ]
    },
    {
      "cell_type": "code",
      "execution_count": 10,
      "metadata": {
        "id": "miagFcHNB2eP"
      },
      "outputs": [],
      "source": [
        "# Resetando o índice após o tratamento dos dados\n",
        "fii_df.reset_index(drop=True, inplace=True)"
      ]
    },
    {
      "cell_type": "code",
      "execution_count": 11,
      "metadata": {
        "id": "By6nZT9R4q0J"
      },
      "outputs": [
        {
          "data": {
            "text/html": [
              "<div>\n",
              "<style scoped>\n",
              "    .dataframe tbody tr th:only-of-type {\n",
              "        vertical-align: middle;\n",
              "    }\n",
              "\n",
              "    .dataframe tbody tr th {\n",
              "        vertical-align: top;\n",
              "    }\n",
              "\n",
              "    .dataframe thead th {\n",
              "        text-align: right;\n",
              "    }\n",
              "</style>\n",
              "<table border=\"1\" class=\"dataframe\">\n",
              "  <thead>\n",
              "    <tr style=\"text-align: right;\">\n",
              "      <th></th>\n",
              "      <th>codigo_fundo</th>\n",
              "      <th>Setor</th>\n",
              "      <th>preco_atual</th>\n",
              "      <th>liquidez_diaria</th>\n",
              "      <th>dividendo</th>\n",
              "      <th>dividend_yield</th>\n",
              "      <th>dy_3m_acum</th>\n",
              "      <th>dy_6m_acum</th>\n",
              "      <th>dy_12m_acum</th>\n",
              "      <th>dy_3m_media</th>\n",
              "      <th>...</th>\n",
              "      <th>Rent_periodo</th>\n",
              "      <th>rent_acum</th>\n",
              "      <th>patr_liq</th>\n",
              "      <th>vpa</th>\n",
              "      <th>p_vpa</th>\n",
              "      <th>dy_patr</th>\n",
              "      <th>var_patr</th>\n",
              "      <th>rent_patr_no_per</th>\n",
              "      <th>rent_patr_acum</th>\n",
              "      <th>qtd_ativos</th>\n",
              "    </tr>\n",
              "  </thead>\n",
              "  <tbody>\n",
              "    <tr>\n",
              "      <th>0</th>\n",
              "      <td>BNFS11</td>\n",
              "      <td>Outros</td>\n",
              "      <td>119.86</td>\n",
              "      <td>249.0</td>\n",
              "      <td>1.42</td>\n",
              "      <td>1.20</td>\n",
              "      <td>3.22</td>\n",
              "      <td>6.37</td>\n",
              "      <td>11.76</td>\n",
              "      <td>1.07</td>\n",
              "      <td>...</td>\n",
              "      <td>-0.07</td>\n",
              "      <td>-2.60</td>\n",
              "      <td>6.941729e+07</td>\n",
              "      <td>99.17</td>\n",
              "      <td>121.0</td>\n",
              "      <td>1.43</td>\n",
              "      <td>0.01</td>\n",
              "      <td>1.44</td>\n",
              "      <td>5.44</td>\n",
              "      <td>18</td>\n",
              "    </tr>\n",
              "    <tr>\n",
              "      <th>1</th>\n",
              "      <td>HSML11</td>\n",
              "      <td>Shoppings</td>\n",
              "      <td>79.50</td>\n",
              "      <td>30292.0</td>\n",
              "      <td>0.60</td>\n",
              "      <td>0.74</td>\n",
              "      <td>2.27</td>\n",
              "      <td>4.37</td>\n",
              "      <td>7.72</td>\n",
              "      <td>0.76</td>\n",
              "      <td>...</td>\n",
              "      <td>1.07</td>\n",
              "      <td>9.17</td>\n",
              "      <td>1.479544e+09</td>\n",
              "      <td>93.76</td>\n",
              "      <td>85.0</td>\n",
              "      <td>0.64</td>\n",
              "      <td>-0.06</td>\n",
              "      <td>0.58</td>\n",
              "      <td>1.59</td>\n",
              "      <td>5</td>\n",
              "    </tr>\n",
              "    <tr>\n",
              "      <th>2</th>\n",
              "      <td>SHPH11</td>\n",
              "      <td>Shoppings</td>\n",
              "      <td>758.99</td>\n",
              "      <td>8.0</td>\n",
              "      <td>3.35</td>\n",
              "      <td>0.41</td>\n",
              "      <td>1.34</td>\n",
              "      <td>2.81</td>\n",
              "      <td>4.75</td>\n",
              "      <td>0.45</td>\n",
              "      <td>...</td>\n",
              "      <td>0.06</td>\n",
              "      <td>4.60</td>\n",
              "      <td>5.403845e+08</td>\n",
              "      <td>887.40</td>\n",
              "      <td>86.0</td>\n",
              "      <td>0.40</td>\n",
              "      <td>-0.04</td>\n",
              "      <td>0.36</td>\n",
              "      <td>1.30</td>\n",
              "      <td>1</td>\n",
              "    </tr>\n",
              "    <tr>\n",
              "      <th>3</th>\n",
              "      <td>SPTW11</td>\n",
              "      <td>Lajes Corporativas</td>\n",
              "      <td>43.89</td>\n",
              "      <td>4357.0</td>\n",
              "      <td>0.40</td>\n",
              "      <td>0.90</td>\n",
              "      <td>2.71</td>\n",
              "      <td>5.30</td>\n",
              "      <td>16.30</td>\n",
              "      <td>0.90</td>\n",
              "      <td>...</td>\n",
              "      <td>0.07</td>\n",
              "      <td>1.30</td>\n",
              "      <td>9.506514e+07</td>\n",
              "      <td>52.87</td>\n",
              "      <td>83.0</td>\n",
              "      <td>0.76</td>\n",
              "      <td>0.06</td>\n",
              "      <td>0.81</td>\n",
              "      <td>3.30</td>\n",
              "      <td>1</td>\n",
              "    </tr>\n",
              "    <tr>\n",
              "      <th>4</th>\n",
              "      <td>HUSC11</td>\n",
              "      <td>Outros</td>\n",
              "      <td>94.00</td>\n",
              "      <td>34.0</td>\n",
              "      <td>0.88</td>\n",
              "      <td>0.96</td>\n",
              "      <td>1.98</td>\n",
              "      <td>3.33</td>\n",
              "      <td>7.08</td>\n",
              "      <td>0.66</td>\n",
              "      <td>...</td>\n",
              "      <td>-6.38</td>\n",
              "      <td>-16.03</td>\n",
              "      <td>1.135982e+08</td>\n",
              "      <td>142.96</td>\n",
              "      <td>66.0</td>\n",
              "      <td>0.38</td>\n",
              "      <td>0.18</td>\n",
              "      <td>0.56</td>\n",
              "      <td>1.40</td>\n",
              "      <td>0</td>\n",
              "    </tr>\n",
              "  </tbody>\n",
              "</table>\n",
              "<p>5 rows × 24 columns</p>\n",
              "</div>"
            ],
            "text/plain": [
              "  codigo_fundo               Setor  preco_atual  liquidez_diaria  dividendo  \\\n",
              "0       BNFS11              Outros       119.86            249.0       1.42   \n",
              "1       HSML11           Shoppings        79.50          30292.0       0.60   \n",
              "2       SHPH11           Shoppings       758.99              8.0       3.35   \n",
              "3       SPTW11  Lajes Corporativas        43.89           4357.0       0.40   \n",
              "4       HUSC11              Outros        94.00             34.0       0.88   \n",
              "\n",
              "   dividend_yield  dy_3m_acum  dy_6m_acum  dy_12m_acum  dy_3m_media  ...  \\\n",
              "0            1.20        3.22        6.37        11.76         1.07  ...   \n",
              "1            0.74        2.27        4.37         7.72         0.76  ...   \n",
              "2            0.41        1.34        2.81         4.75         0.45  ...   \n",
              "3            0.90        2.71        5.30        16.30         0.90  ...   \n",
              "4            0.96        1.98        3.33         7.08         0.66  ...   \n",
              "\n",
              "   Rent_periodo  rent_acum      patr_liq     vpa  p_vpa  dy_patr  var_patr  \\\n",
              "0         -0.07      -2.60  6.941729e+07   99.17  121.0     1.43      0.01   \n",
              "1          1.07       9.17  1.479544e+09   93.76   85.0     0.64     -0.06   \n",
              "2          0.06       4.60  5.403845e+08  887.40   86.0     0.40     -0.04   \n",
              "3          0.07       1.30  9.506514e+07   52.87   83.0     0.76      0.06   \n",
              "4         -6.38     -16.03  1.135982e+08  142.96   66.0     0.38      0.18   \n",
              "\n",
              "   rent_patr_no_per  rent_patr_acum  qtd_ativos  \n",
              "0              1.44            5.44          18  \n",
              "1              0.58            1.59           5  \n",
              "2              0.36            1.30           1  \n",
              "3              0.81            3.30           1  \n",
              "4              0.56            1.40           0  \n",
              "\n",
              "[5 rows x 24 columns]"
            ]
          },
          "execution_count": 11,
          "metadata": {},
          "output_type": "execute_result"
        }
      ],
      "source": [
        "# Verificação dos dados\n",
        "fii_df.head()"
      ]
    },
    {
      "cell_type": "code",
      "execution_count": 12,
      "metadata": {
        "id": "RvYmwqKQCILp"
      },
      "outputs": [
        {
          "data": {
            "text/html": [
              "<div>\n",
              "<style scoped>\n",
              "    .dataframe tbody tr th:only-of-type {\n",
              "        vertical-align: middle;\n",
              "    }\n",
              "\n",
              "    .dataframe tbody tr th {\n",
              "        vertical-align: top;\n",
              "    }\n",
              "\n",
              "    .dataframe thead th {\n",
              "        text-align: right;\n",
              "    }\n",
              "</style>\n",
              "<table border=\"1\" class=\"dataframe\">\n",
              "  <thead>\n",
              "    <tr style=\"text-align: right;\">\n",
              "      <th></th>\n",
              "      <th>0</th>\n",
              "      <th>1</th>\n",
              "      <th>2</th>\n",
              "      <th>3</th>\n",
              "      <th>4</th>\n",
              "      <th>5</th>\n",
              "      <th>6</th>\n",
              "      <th>7</th>\n",
              "      <th>8</th>\n",
              "      <th>9</th>\n",
              "      <th>...</th>\n",
              "      <th>225</th>\n",
              "      <th>226</th>\n",
              "      <th>227</th>\n",
              "      <th>228</th>\n",
              "      <th>229</th>\n",
              "      <th>230</th>\n",
              "      <th>231</th>\n",
              "      <th>232</th>\n",
              "      <th>233</th>\n",
              "      <th>234</th>\n",
              "    </tr>\n",
              "  </thead>\n",
              "  <tbody>\n",
              "    <tr>\n",
              "      <th>codigo_fundo</th>\n",
              "      <td>BNFS11</td>\n",
              "      <td>HSML11</td>\n",
              "      <td>SHPH11</td>\n",
              "      <td>SPTW11</td>\n",
              "      <td>HUSC11</td>\n",
              "      <td>TEPP11</td>\n",
              "      <td>BLMO11</td>\n",
              "      <td>VTLT11</td>\n",
              "      <td>KISU11</td>\n",
              "      <td>APTO11</td>\n",
              "      <td>...</td>\n",
              "      <td>HSLG11</td>\n",
              "      <td>PLOG11</td>\n",
              "      <td>KNHY11</td>\n",
              "      <td>JFLL11</td>\n",
              "      <td>KNCR11</td>\n",
              "      <td>RNDP11</td>\n",
              "      <td>PLCR11</td>\n",
              "      <td>CXCO11</td>\n",
              "      <td>PATL11</td>\n",
              "      <td>HGRU11</td>\n",
              "    </tr>\n",
              "    <tr>\n",
              "      <th>Setor</th>\n",
              "      <td>Outros</td>\n",
              "      <td>Shoppings</td>\n",
              "      <td>Shoppings</td>\n",
              "      <td>Lajes Corporativas</td>\n",
              "      <td>Outros</td>\n",
              "      <td>Lajes Corporativas</td>\n",
              "      <td>Lajes Corporativas</td>\n",
              "      <td>Logística</td>\n",
              "      <td>Títulos e Val. Mob.</td>\n",
              "      <td>Híbrido</td>\n",
              "      <td>...</td>\n",
              "      <td>Logística</td>\n",
              "      <td>Logística</td>\n",
              "      <td>Títulos e Val. Mob.</td>\n",
              "      <td>Residencial</td>\n",
              "      <td>Títulos e Val. Mob.</td>\n",
              "      <td>Títulos e Val. Mob.</td>\n",
              "      <td>Híbrido</td>\n",
              "      <td>Lajes Corporativas</td>\n",
              "      <td>Híbrido</td>\n",
              "      <td>Híbrido</td>\n",
              "    </tr>\n",
              "    <tr>\n",
              "      <th>preco_atual</th>\n",
              "      <td>119.86</td>\n",
              "      <td>79.5</td>\n",
              "      <td>758.99</td>\n",
              "      <td>43.89</td>\n",
              "      <td>94</td>\n",
              "      <td>68.31</td>\n",
              "      <td>24800</td>\n",
              "      <td>90.26</td>\n",
              "      <td>7.48</td>\n",
              "      <td>10.07</td>\n",
              "      <td>...</td>\n",
              "      <td>86.15</td>\n",
              "      <td>71.4</td>\n",
              "      <td>104.8</td>\n",
              "      <td>71.31</td>\n",
              "      <td>101.49</td>\n",
              "      <td>380</td>\n",
              "      <td>87.66</td>\n",
              "      <td>77.03</td>\n",
              "      <td>76.05</td>\n",
              "      <td>117.97</td>\n",
              "    </tr>\n",
              "    <tr>\n",
              "      <th>liquidez_diaria</th>\n",
              "      <td>249</td>\n",
              "      <td>30292</td>\n",
              "      <td>8</td>\n",
              "      <td>4357</td>\n",
              "      <td>34</td>\n",
              "      <td>3967</td>\n",
              "      <td>4</td>\n",
              "      <td>601</td>\n",
              "      <td>145026</td>\n",
              "      <td>432</td>\n",
              "      <td>...</td>\n",
              "      <td>3817</td>\n",
              "      <td>1753</td>\n",
              "      <td>25587</td>\n",
              "      <td>2212</td>\n",
              "      <td>95444</td>\n",
              "      <td>8</td>\n",
              "      <td>6928</td>\n",
              "      <td>2069</td>\n",
              "      <td>10687</td>\n",
              "      <td>23532</td>\n",
              "    </tr>\n",
              "    <tr>\n",
              "      <th>dividendo</th>\n",
              "      <td>1.42</td>\n",
              "      <td>0.6</td>\n",
              "      <td>3.35</td>\n",
              "      <td>0.4</td>\n",
              "      <td>0.88</td>\n",
              "      <td>0.49</td>\n",
              "      <td>17.51</td>\n",
              "      <td>0.83</td>\n",
              "      <td>0.07</td>\n",
              "      <td>0.12</td>\n",
              "      <td>...</td>\n",
              "      <td>0.63</td>\n",
              "      <td>0.75</td>\n",
              "      <td>1.55</td>\n",
              "      <td>0.62</td>\n",
              "      <td>0.97</td>\n",
              "      <td>4.26</td>\n",
              "      <td>1.1</td>\n",
              "      <td>0.73</td>\n",
              "      <td>0.58</td>\n",
              "      <td>0.82</td>\n",
              "    </tr>\n",
              "  </tbody>\n",
              "</table>\n",
              "<p>5 rows × 235 columns</p>\n",
              "</div>"
            ],
            "text/plain": [
              "                    0          1          2                   3       4    \\\n",
              "codigo_fundo     BNFS11     HSML11     SHPH11              SPTW11  HUSC11   \n",
              "Setor            Outros  Shoppings  Shoppings  Lajes Corporativas  Outros   \n",
              "preco_atual      119.86       79.5     758.99               43.89      94   \n",
              "liquidez_diaria     249      30292          8                4357      34   \n",
              "dividendo          1.42        0.6       3.35                 0.4    0.88   \n",
              "\n",
              "                                5                   6          7    \\\n",
              "codigo_fundo                 TEPP11              BLMO11     VTLT11   \n",
              "Setor            Lajes Corporativas  Lajes Corporativas  Logística   \n",
              "preco_atual                   68.31               24800      90.26   \n",
              "liquidez_diaria                3967                   4        601   \n",
              "dividendo                      0.49               17.51       0.83   \n",
              "\n",
              "                                 8        9    ...        225        226  \\\n",
              "codigo_fundo                  KISU11   APTO11  ...     HSLG11     PLOG11   \n",
              "Setor            Títulos e Val. Mob.  Híbrido  ...  Logística  Logística   \n",
              "preco_atual                     7.48    10.07  ...      86.15       71.4   \n",
              "liquidez_diaria               145026      432  ...       3817       1753   \n",
              "dividendo                       0.07     0.12  ...       0.63       0.75   \n",
              "\n",
              "                                 227          228                  229  \\\n",
              "codigo_fundo                  KNHY11       JFLL11               KNCR11   \n",
              "Setor            Títulos e Val. Mob.  Residencial  Títulos e Val. Mob.   \n",
              "preco_atual                    104.8        71.31               101.49   \n",
              "liquidez_diaria                25587         2212                95444   \n",
              "dividendo                       1.55         0.62                 0.97   \n",
              "\n",
              "                                 230      231                 232      233  \\\n",
              "codigo_fundo                  RNDP11   PLCR11              CXCO11   PATL11   \n",
              "Setor            Títulos e Val. Mob.  Híbrido  Lajes Corporativas  Híbrido   \n",
              "preco_atual                      380    87.66               77.03    76.05   \n",
              "liquidez_diaria                    8     6928                2069    10687   \n",
              "dividendo                       4.26      1.1                0.73     0.58   \n",
              "\n",
              "                     234  \n",
              "codigo_fundo      HGRU11  \n",
              "Setor            Híbrido  \n",
              "preco_atual       117.97  \n",
              "liquidez_diaria    23532  \n",
              "dividendo           0.82  \n",
              "\n",
              "[5 rows x 235 columns]"
            ]
          },
          "execution_count": 12,
          "metadata": {},
          "output_type": "execute_result"
        }
      ],
      "source": [
        "# Fazendo a transposição da tabela para fornecer mais uma forma de visualização.\n",
        "fii_df_transposta = fii_df.transpose()\n",
        "\n",
        "# Verificando os dados\n",
        "fii_df_transposta.head()"
      ]
    },
    {
      "cell_type": "markdown",
      "metadata": {
        "id": "LHcJW4hRPpIa"
      },
      "source": [
        "<hr>\n",
        "\n",
        "## **4. Análises Estatísticas exploratórias do FIIs**\n",
        "<hr>"
      ]
    },
    {
      "cell_type": "markdown",
      "metadata": {
        "id": "iHYjDIbaP0Cm"
      },
      "source": [
        "#### **Gráfico de Dispersão entre o Preço Atual e o Dividend Yield Acumulado de 12 meses**"
      ]
    },
    {
      "cell_type": "code",
      "execution_count": 17,
      "metadata": {
        "id": "vtFj2BQRQEmI"
      },
      "outputs": [
        {
          "data": {
            "application/vnd.plotly.v1+json": {
              "config": {
                "plotlyServerURL": "https://plotly.com"
              },
              "data": [
                {
                  "hovertemplate": "Setor=Outros<br>preco_atual=%{x}<br>dy_12m_acum=%{y}<extra></extra>",
                  "legendgroup": "Outros",
                  "marker": {
                    "color": "#636efa",
                    "symbol": "circle"
                  },
                  "mode": "markers",
                  "name": "Outros",
                  "orientation": "v",
                  "showlegend": true,
                  "type": "scatter",
                  "x": [
                    119.86,
                    94,
                    12.67,
                    98.6,
                    99.4,
                    119.99,
                    96.78,
                    93.4,
                    111.95,
                    38.82,
                    82.4,
                    117.13,
                    77.08,
                    119,
                    97.85,
                    86.9,
                    94.95,
                    78.65,
                    43.9,
                    47.08,
                    63.63,
                    81.99,
                    9.17,
                    9.19,
                    112.91,
                    143.97,
                    62.16,
                    77.02,
                    102,
                    54,
                    94.84,
                    7.1
                  ],
                  "xaxis": "x",
                  "y": [
                    11.76,
                    7.08,
                    3.98,
                    9.08,
                    15.11,
                    9.87,
                    10.35,
                    10.75,
                    18.42,
                    12.16,
                    0,
                    11.6,
                    8.29,
                    8.34,
                    9.53,
                    6.64,
                    12.4,
                    11.73,
                    8.03,
                    9.11,
                    10.31,
                    9.56,
                    15.36,
                    11.05,
                    15.45,
                    10.11,
                    7.21,
                    0,
                    0,
                    9.52,
                    12.53,
                    10.43
                  ],
                  "yaxis": "y"
                },
                {
                  "hovertemplate": "Setor=Shoppings<br>preco_atual=%{x}<br>dy_12m_acum=%{y}<extra></extra>",
                  "legendgroup": "Shoppings",
                  "marker": {
                    "color": "#EF553B",
                    "symbol": "circle"
                  },
                  "mode": "markers",
                  "name": "Shoppings",
                  "orientation": "v",
                  "showlegend": true,
                  "type": "scatter",
                  "x": [
                    79.5,
                    116.75,
                    72.45,
                    90,
                    79.98,
                    65.5,
                    178.98,
                    82,
                    50.43,
                    100.99,
                    66.56,
                    98.79,
                    101.29,
                    5.91,
                    76.58,
                    28.45
                  ],
                  "xaxis": "x",
                  "y": [
                    7.72,
                    7.1,
                    8.77,
                    6.83,
                    8.66,
                    0,
                    6.04,
                    5.5,
                    6.76,
                    7.66,
                    0,
                    7.31,
                    7.04,
                    2.71,
                    6.83,
                    5.12
                  ],
                  "yaxis": "y"
                },
                {
                  "hovertemplate": "Setor=Lajes Corporativas<br>preco_atual=%{x}<br>dy_12m_acum=%{y}<extra></extra>",
                  "legendgroup": "Lajes Corporativas",
                  "marker": {
                    "color": "#00cc96",
                    "symbol": "circle"
                  },
                  "mode": "markers",
                  "name": "Lajes Corporativas",
                  "orientation": "v",
                  "showlegend": true,
                  "type": "scatter",
                  "x": [
                    43.89,
                    68.31,
                    37,
                    213.43,
                    71.97,
                    105.49,
                    79.96,
                    68,
                    48.8,
                    83.68,
                    96.1,
                    33,
                    34.69,
                    47.58,
                    203.71,
                    119.99,
                    157.44,
                    124.47,
                    62.06,
                    94.4,
                    19.12,
                    98.09,
                    16.5,
                    95.32,
                    129.95,
                    62.9,
                    95,
                    77.03
                  ],
                  "xaxis": "x",
                  "y": [
                    16.3,
                    7.65,
                    8.78,
                    7.26,
                    9.69,
                    0,
                    10.22,
                    5.61,
                    7.84,
                    11.25,
                    6.13,
                    3.22,
                    3.47,
                    9.84,
                    7.55,
                    4.19,
                    6.54,
                    6.41,
                    9.1,
                    8.53,
                    6.93,
                    0,
                    10.16,
                    7.38,
                    8.47,
                    12.26,
                    6.64,
                    9.31
                  ],
                  "yaxis": "y"
                },
                {
                  "hovertemplate": "Setor=Logística<br>preco_atual=%{x}<br>dy_12m_acum=%{y}<extra></extra>",
                  "legendgroup": "Logística",
                  "marker": {
                    "color": "#ab63fa",
                    "symbol": "circle"
                  },
                  "mode": "markers",
                  "name": "Logística",
                  "orientation": "v",
                  "showlegend": true,
                  "type": "scatter",
                  "x": [
                    90.26,
                    77.17,
                    91.42,
                    233.28,
                    153,
                    164.35,
                    99.78,
                    95.3,
                    115.19,
                    98.97,
                    102.55,
                    86.99,
                    108.6,
                    83.87,
                    48,
                    86.27,
                    100.72,
                    86.58,
                    56.91,
                    86.15,
                    71.4
                  ],
                  "xaxis": "x",
                  "y": [
                    9.61,
                    8.1,
                    9.41,
                    9.24,
                    8.72,
                    8.91,
                    7.15,
                    7.57,
                    7.31,
                    7.55,
                    8.13,
                    9.3,
                    8.78,
                    11.23,
                    0,
                    8.97,
                    7.99,
                    7.63,
                    7.52,
                    7.79,
                    11.14
                  ],
                  "yaxis": "y"
                },
                {
                  "hovertemplate": "Setor=Títulos e Val. Mob.<br>preco_atual=%{x}<br>dy_12m_acum=%{y}<extra></extra>",
                  "legendgroup": "Títulos e Val. Mob.",
                  "marker": {
                    "color": "#FFA15A",
                    "symbol": "circle"
                  },
                  "mode": "markers",
                  "name": "Títulos e Val. Mob.",
                  "orientation": "v",
                  "showlegend": true,
                  "type": "scatter",
                  "x": [
                    7.48,
                    37.45,
                    96.3,
                    99.23,
                    90.56,
                    74.42,
                    86,
                    94.33,
                    70.26,
                    11.23,
                    98.34,
                    9.59,
                    93.45,
                    97.73,
                    83.85,
                    85.47,
                    71.1,
                    98.5,
                    90.5,
                    91.74,
                    50.62,
                    108.81,
                    110.81,
                    72.55,
                    9.81,
                    99.79,
                    105.5,
                    103.93,
                    102.83,
                    101.26,
                    10,
                    97.91,
                    94.28,
                    83.39,
                    70.82,
                    55.01,
                    93.3,
                    103.46,
                    103.4,
                    99,
                    68.69,
                    94,
                    110,
                    99.86,
                    100,
                    99.49,
                    7.05,
                    7.46,
                    86.71,
                    75.23,
                    72,
                    107,
                    65.89,
                    102.75,
                    83.51,
                    77.13,
                    97.9,
                    88.75,
                    65.02,
                    7.37,
                    98.14,
                    61.89,
                    96.74,
                    89.99,
                    65.4,
                    100.75,
                    98.15,
                    101.38,
                    75.94,
                    104.25,
                    62.49,
                    101.75,
                    94.75,
                    70.72,
                    104.8,
                    78.9,
                    95.18,
                    108.35,
                    10.03,
                    95.49,
                    96.49,
                    72.55,
                    64.7,
                    104.8,
                    101.49
                  ],
                  "xaxis": "x",
                  "y": [
                    8.99,
                    10.95,
                    13.24,
                    13.81,
                    13.62,
                    10.31,
                    0,
                    13.07,
                    10.13,
                    0,
                    10.41,
                    0,
                    12.75,
                    11.71,
                    8.99,
                    12.89,
                    0,
                    6.97,
                    13.41,
                    8.29,
                    9.92,
                    13.48,
                    10.52,
                    8.71,
                    16.63,
                    12.88,
                    11.37,
                    14.92,
                    15.19,
                    13.27,
                    0,
                    14.23,
                    11.2,
                    0,
                    8.12,
                    10.85,
                    14.13,
                    14.93,
                    0,
                    14.16,
                    10.5,
                    0,
                    0,
                    0,
                    0,
                    0,
                    9.76,
                    0,
                    12.17,
                    10.29,
                    11.11,
                    13.66,
                    11.3,
                    0,
                    0,
                    13.01,
                    13.97,
                    0,
                    7.89,
                    10.9,
                    15.12,
                    9.62,
                    11.71,
                    11.57,
                    8.52,
                    14.24,
                    0,
                    12.99,
                    10.66,
                    12.08,
                    9.76,
                    11.67,
                    0,
                    9.5,
                    12.56,
                    9.28,
                    12.8,
                    0,
                    0,
                    15.68,
                    11.01,
                    8.61,
                    10.18,
                    14.31,
                    8.02
                  ],
                  "yaxis": "y"
                },
                {
                  "hovertemplate": "Setor=Híbrido<br>preco_atual=%{x}<br>dy_12m_acum=%{y}<extra></extra>",
                  "legendgroup": "Híbrido",
                  "marker": {
                    "color": "#19d3f3",
                    "symbol": "circle"
                  },
                  "mode": "markers",
                  "name": "Híbrido",
                  "orientation": "v",
                  "showlegend": true,
                  "type": "scatter",
                  "x": [
                    10.07,
                    85,
                    61,
                    132.42,
                    86.9,
                    77.63,
                    99,
                    103.5,
                    93.63,
                    94.7,
                    9.89,
                    94.84,
                    104.75,
                    90.65,
                    62.8,
                    116.77,
                    94,
                    101.7,
                    103.95,
                    67.03,
                    70.69,
                    58.29,
                    74,
                    150,
                    69.42,
                    103.84,
                    9.95,
                    72.7,
                    106.5,
                    74.12,
                    96.98,
                    99.74,
                    98.5,
                    69.25,
                    45.21,
                    87.66,
                    76.05,
                    117.97
                  ],
                  "xaxis": "x",
                  "y": [
                    0,
                    10.4,
                    7.43,
                    6.72,
                    0,
                    7.85,
                    6.52,
                    12.45,
                    14.93,
                    10.16,
                    10.39,
                    9.81,
                    15.16,
                    0,
                    8.07,
                    5.9,
                    6.82,
                    8.78,
                    0,
                    7.98,
                    0,
                    8.88,
                    11.12,
                    4.8,
                    10.51,
                    0,
                    0,
                    11.84,
                    15.15,
                    9.55,
                    9.32,
                    12.49,
                    0,
                    7.2,
                    6.4,
                    12.96,
                    9.13,
                    7.94
                  ],
                  "yaxis": "y"
                },
                {
                  "hovertemplate": "Setor=Residencial<br>preco_atual=%{x}<br>dy_12m_acum=%{y}<extra></extra>",
                  "legendgroup": "Residencial",
                  "marker": {
                    "color": "#FF6692",
                    "symbol": "circle"
                  },
                  "mode": "markers",
                  "name": "Residencial",
                  "orientation": "v",
                  "showlegend": true,
                  "type": "scatter",
                  "x": [
                    74.49,
                    80.7,
                    12.8,
                    71.31
                  ],
                  "xaxis": "x",
                  "y": [
                    0,
                    7.35,
                    0,
                    9.41
                  ],
                  "yaxis": "y"
                },
                {
                  "hovertemplate": "Setor=Hotel<br>preco_atual=%{x}<br>dy_12m_acum=%{y}<extra></extra>",
                  "legendgroup": "Hotel",
                  "marker": {
                    "color": "#B6E880",
                    "symbol": "circle"
                  },
                  "mode": "markers",
                  "name": "Hotel",
                  "orientation": "v",
                  "showlegend": true,
                  "type": "scatter",
                  "x": [
                    68.94,
                    104.01
                  ],
                  "xaxis": "x",
                  "y": [
                    10.2,
                    4.87
                  ],
                  "yaxis": "y"
                },
                {
                  "hovertemplate": "Setor=Hospital<br>preco_atual=%{x}<br>dy_12m_acum=%{y}<extra></extra>",
                  "legendgroup": "Hospital",
                  "marker": {
                    "color": "#FF97FF",
                    "symbol": "circle"
                  },
                  "mode": "markers",
                  "name": "Hospital",
                  "orientation": "v",
                  "showlegend": true,
                  "type": "scatter",
                  "x": [
                    11.45
                  ],
                  "xaxis": "x",
                  "y": [
                    6.87
                  ],
                  "yaxis": "y"
                }
              ],
              "layout": {
                "legend": {
                  "title": {
                    "text": "Setor"
                  },
                  "tracegroupgap": 0
                },
                "margin": {
                  "t": 60
                },
                "template": {
                  "data": {
                    "bar": [
                      {
                        "error_x": {
                          "color": "#2a3f5f"
                        },
                        "error_y": {
                          "color": "#2a3f5f"
                        },
                        "marker": {
                          "line": {
                            "color": "#E5ECF6",
                            "width": 0.5
                          }
                        },
                        "type": "bar"
                      }
                    ],
                    "barpolar": [
                      {
                        "marker": {
                          "line": {
                            "color": "#E5ECF6",
                            "width": 0.5
                          }
                        },
                        "type": "barpolar"
                      }
                    ],
                    "carpet": [
                      {
                        "aaxis": {
                          "endlinecolor": "#2a3f5f",
                          "gridcolor": "white",
                          "linecolor": "white",
                          "minorgridcolor": "white",
                          "startlinecolor": "#2a3f5f"
                        },
                        "baxis": {
                          "endlinecolor": "#2a3f5f",
                          "gridcolor": "white",
                          "linecolor": "white",
                          "minorgridcolor": "white",
                          "startlinecolor": "#2a3f5f"
                        },
                        "type": "carpet"
                      }
                    ],
                    "choropleth": [
                      {
                        "colorbar": {
                          "outlinewidth": 0,
                          "ticks": ""
                        },
                        "type": "choropleth"
                      }
                    ],
                    "contour": [
                      {
                        "colorbar": {
                          "outlinewidth": 0,
                          "ticks": ""
                        },
                        "colorscale": [
                          [
                            0,
                            "#0d0887"
                          ],
                          [
                            0.1111111111111111,
                            "#46039f"
                          ],
                          [
                            0.2222222222222222,
                            "#7201a8"
                          ],
                          [
                            0.3333333333333333,
                            "#9c179e"
                          ],
                          [
                            0.4444444444444444,
                            "#bd3786"
                          ],
                          [
                            0.5555555555555556,
                            "#d8576b"
                          ],
                          [
                            0.6666666666666666,
                            "#ed7953"
                          ],
                          [
                            0.7777777777777778,
                            "#fb9f3a"
                          ],
                          [
                            0.8888888888888888,
                            "#fdca26"
                          ],
                          [
                            1,
                            "#f0f921"
                          ]
                        ],
                        "type": "contour"
                      }
                    ],
                    "contourcarpet": [
                      {
                        "colorbar": {
                          "outlinewidth": 0,
                          "ticks": ""
                        },
                        "type": "contourcarpet"
                      }
                    ],
                    "heatmap": [
                      {
                        "colorbar": {
                          "outlinewidth": 0,
                          "ticks": ""
                        },
                        "colorscale": [
                          [
                            0,
                            "#0d0887"
                          ],
                          [
                            0.1111111111111111,
                            "#46039f"
                          ],
                          [
                            0.2222222222222222,
                            "#7201a8"
                          ],
                          [
                            0.3333333333333333,
                            "#9c179e"
                          ],
                          [
                            0.4444444444444444,
                            "#bd3786"
                          ],
                          [
                            0.5555555555555556,
                            "#d8576b"
                          ],
                          [
                            0.6666666666666666,
                            "#ed7953"
                          ],
                          [
                            0.7777777777777778,
                            "#fb9f3a"
                          ],
                          [
                            0.8888888888888888,
                            "#fdca26"
                          ],
                          [
                            1,
                            "#f0f921"
                          ]
                        ],
                        "type": "heatmap"
                      }
                    ],
                    "heatmapgl": [
                      {
                        "colorbar": {
                          "outlinewidth": 0,
                          "ticks": ""
                        },
                        "colorscale": [
                          [
                            0,
                            "#0d0887"
                          ],
                          [
                            0.1111111111111111,
                            "#46039f"
                          ],
                          [
                            0.2222222222222222,
                            "#7201a8"
                          ],
                          [
                            0.3333333333333333,
                            "#9c179e"
                          ],
                          [
                            0.4444444444444444,
                            "#bd3786"
                          ],
                          [
                            0.5555555555555556,
                            "#d8576b"
                          ],
                          [
                            0.6666666666666666,
                            "#ed7953"
                          ],
                          [
                            0.7777777777777778,
                            "#fb9f3a"
                          ],
                          [
                            0.8888888888888888,
                            "#fdca26"
                          ],
                          [
                            1,
                            "#f0f921"
                          ]
                        ],
                        "type": "heatmapgl"
                      }
                    ],
                    "histogram": [
                      {
                        "marker": {
                          "colorbar": {
                            "outlinewidth": 0,
                            "ticks": ""
                          }
                        },
                        "type": "histogram"
                      }
                    ],
                    "histogram2d": [
                      {
                        "colorbar": {
                          "outlinewidth": 0,
                          "ticks": ""
                        },
                        "colorscale": [
                          [
                            0,
                            "#0d0887"
                          ],
                          [
                            0.1111111111111111,
                            "#46039f"
                          ],
                          [
                            0.2222222222222222,
                            "#7201a8"
                          ],
                          [
                            0.3333333333333333,
                            "#9c179e"
                          ],
                          [
                            0.4444444444444444,
                            "#bd3786"
                          ],
                          [
                            0.5555555555555556,
                            "#d8576b"
                          ],
                          [
                            0.6666666666666666,
                            "#ed7953"
                          ],
                          [
                            0.7777777777777778,
                            "#fb9f3a"
                          ],
                          [
                            0.8888888888888888,
                            "#fdca26"
                          ],
                          [
                            1,
                            "#f0f921"
                          ]
                        ],
                        "type": "histogram2d"
                      }
                    ],
                    "histogram2dcontour": [
                      {
                        "colorbar": {
                          "outlinewidth": 0,
                          "ticks": ""
                        },
                        "colorscale": [
                          [
                            0,
                            "#0d0887"
                          ],
                          [
                            0.1111111111111111,
                            "#46039f"
                          ],
                          [
                            0.2222222222222222,
                            "#7201a8"
                          ],
                          [
                            0.3333333333333333,
                            "#9c179e"
                          ],
                          [
                            0.4444444444444444,
                            "#bd3786"
                          ],
                          [
                            0.5555555555555556,
                            "#d8576b"
                          ],
                          [
                            0.6666666666666666,
                            "#ed7953"
                          ],
                          [
                            0.7777777777777778,
                            "#fb9f3a"
                          ],
                          [
                            0.8888888888888888,
                            "#fdca26"
                          ],
                          [
                            1,
                            "#f0f921"
                          ]
                        ],
                        "type": "histogram2dcontour"
                      }
                    ],
                    "mesh3d": [
                      {
                        "colorbar": {
                          "outlinewidth": 0,
                          "ticks": ""
                        },
                        "type": "mesh3d"
                      }
                    ],
                    "parcoords": [
                      {
                        "line": {
                          "colorbar": {
                            "outlinewidth": 0,
                            "ticks": ""
                          }
                        },
                        "type": "parcoords"
                      }
                    ],
                    "pie": [
                      {
                        "automargin": true,
                        "type": "pie"
                      }
                    ],
                    "scatter": [
                      {
                        "marker": {
                          "colorbar": {
                            "outlinewidth": 0,
                            "ticks": ""
                          }
                        },
                        "type": "scatter"
                      }
                    ],
                    "scatter3d": [
                      {
                        "line": {
                          "colorbar": {
                            "outlinewidth": 0,
                            "ticks": ""
                          }
                        },
                        "marker": {
                          "colorbar": {
                            "outlinewidth": 0,
                            "ticks": ""
                          }
                        },
                        "type": "scatter3d"
                      }
                    ],
                    "scattercarpet": [
                      {
                        "marker": {
                          "colorbar": {
                            "outlinewidth": 0,
                            "ticks": ""
                          }
                        },
                        "type": "scattercarpet"
                      }
                    ],
                    "scattergeo": [
                      {
                        "marker": {
                          "colorbar": {
                            "outlinewidth": 0,
                            "ticks": ""
                          }
                        },
                        "type": "scattergeo"
                      }
                    ],
                    "scattergl": [
                      {
                        "marker": {
                          "colorbar": {
                            "outlinewidth": 0,
                            "ticks": ""
                          }
                        },
                        "type": "scattergl"
                      }
                    ],
                    "scattermapbox": [
                      {
                        "marker": {
                          "colorbar": {
                            "outlinewidth": 0,
                            "ticks": ""
                          }
                        },
                        "type": "scattermapbox"
                      }
                    ],
                    "scatterpolar": [
                      {
                        "marker": {
                          "colorbar": {
                            "outlinewidth": 0,
                            "ticks": ""
                          }
                        },
                        "type": "scatterpolar"
                      }
                    ],
                    "scatterpolargl": [
                      {
                        "marker": {
                          "colorbar": {
                            "outlinewidth": 0,
                            "ticks": ""
                          }
                        },
                        "type": "scatterpolargl"
                      }
                    ],
                    "scatterternary": [
                      {
                        "marker": {
                          "colorbar": {
                            "outlinewidth": 0,
                            "ticks": ""
                          }
                        },
                        "type": "scatterternary"
                      }
                    ],
                    "surface": [
                      {
                        "colorbar": {
                          "outlinewidth": 0,
                          "ticks": ""
                        },
                        "colorscale": [
                          [
                            0,
                            "#0d0887"
                          ],
                          [
                            0.1111111111111111,
                            "#46039f"
                          ],
                          [
                            0.2222222222222222,
                            "#7201a8"
                          ],
                          [
                            0.3333333333333333,
                            "#9c179e"
                          ],
                          [
                            0.4444444444444444,
                            "#bd3786"
                          ],
                          [
                            0.5555555555555556,
                            "#d8576b"
                          ],
                          [
                            0.6666666666666666,
                            "#ed7953"
                          ],
                          [
                            0.7777777777777778,
                            "#fb9f3a"
                          ],
                          [
                            0.8888888888888888,
                            "#fdca26"
                          ],
                          [
                            1,
                            "#f0f921"
                          ]
                        ],
                        "type": "surface"
                      }
                    ],
                    "table": [
                      {
                        "cells": {
                          "fill": {
                            "color": "#EBF0F8"
                          },
                          "line": {
                            "color": "white"
                          }
                        },
                        "header": {
                          "fill": {
                            "color": "#C8D4E3"
                          },
                          "line": {
                            "color": "white"
                          }
                        },
                        "type": "table"
                      }
                    ]
                  },
                  "layout": {
                    "annotationdefaults": {
                      "arrowcolor": "#2a3f5f",
                      "arrowhead": 0,
                      "arrowwidth": 1
                    },
                    "autotypenumbers": "strict",
                    "coloraxis": {
                      "colorbar": {
                        "outlinewidth": 0,
                        "ticks": ""
                      }
                    },
                    "colorscale": {
                      "diverging": [
                        [
                          0,
                          "#8e0152"
                        ],
                        [
                          0.1,
                          "#c51b7d"
                        ],
                        [
                          0.2,
                          "#de77ae"
                        ],
                        [
                          0.3,
                          "#f1b6da"
                        ],
                        [
                          0.4,
                          "#fde0ef"
                        ],
                        [
                          0.5,
                          "#f7f7f7"
                        ],
                        [
                          0.6,
                          "#e6f5d0"
                        ],
                        [
                          0.7,
                          "#b8e186"
                        ],
                        [
                          0.8,
                          "#7fbc41"
                        ],
                        [
                          0.9,
                          "#4d9221"
                        ],
                        [
                          1,
                          "#276419"
                        ]
                      ],
                      "sequential": [
                        [
                          0,
                          "#0d0887"
                        ],
                        [
                          0.1111111111111111,
                          "#46039f"
                        ],
                        [
                          0.2222222222222222,
                          "#7201a8"
                        ],
                        [
                          0.3333333333333333,
                          "#9c179e"
                        ],
                        [
                          0.4444444444444444,
                          "#bd3786"
                        ],
                        [
                          0.5555555555555556,
                          "#d8576b"
                        ],
                        [
                          0.6666666666666666,
                          "#ed7953"
                        ],
                        [
                          0.7777777777777778,
                          "#fb9f3a"
                        ],
                        [
                          0.8888888888888888,
                          "#fdca26"
                        ],
                        [
                          1,
                          "#f0f921"
                        ]
                      ],
                      "sequentialminus": [
                        [
                          0,
                          "#0d0887"
                        ],
                        [
                          0.1111111111111111,
                          "#46039f"
                        ],
                        [
                          0.2222222222222222,
                          "#7201a8"
                        ],
                        [
                          0.3333333333333333,
                          "#9c179e"
                        ],
                        [
                          0.4444444444444444,
                          "#bd3786"
                        ],
                        [
                          0.5555555555555556,
                          "#d8576b"
                        ],
                        [
                          0.6666666666666666,
                          "#ed7953"
                        ],
                        [
                          0.7777777777777778,
                          "#fb9f3a"
                        ],
                        [
                          0.8888888888888888,
                          "#fdca26"
                        ],
                        [
                          1,
                          "#f0f921"
                        ]
                      ]
                    },
                    "colorway": [
                      "#636efa",
                      "#EF553B",
                      "#00cc96",
                      "#ab63fa",
                      "#FFA15A",
                      "#19d3f3",
                      "#FF6692",
                      "#B6E880",
                      "#FF97FF",
                      "#FECB52"
                    ],
                    "font": {
                      "color": "#2a3f5f"
                    },
                    "geo": {
                      "bgcolor": "white",
                      "lakecolor": "white",
                      "landcolor": "#E5ECF6",
                      "showlakes": true,
                      "showland": true,
                      "subunitcolor": "white"
                    },
                    "hoverlabel": {
                      "align": "left"
                    },
                    "hovermode": "closest",
                    "mapbox": {
                      "style": "light"
                    },
                    "paper_bgcolor": "white",
                    "plot_bgcolor": "#E5ECF6",
                    "polar": {
                      "angularaxis": {
                        "gridcolor": "white",
                        "linecolor": "white",
                        "ticks": ""
                      },
                      "bgcolor": "#E5ECF6",
                      "radialaxis": {
                        "gridcolor": "white",
                        "linecolor": "white",
                        "ticks": ""
                      }
                    },
                    "scene": {
                      "xaxis": {
                        "backgroundcolor": "#E5ECF6",
                        "gridcolor": "white",
                        "gridwidth": 2,
                        "linecolor": "white",
                        "showbackground": true,
                        "ticks": "",
                        "zerolinecolor": "white"
                      },
                      "yaxis": {
                        "backgroundcolor": "#E5ECF6",
                        "gridcolor": "white",
                        "gridwidth": 2,
                        "linecolor": "white",
                        "showbackground": true,
                        "ticks": "",
                        "zerolinecolor": "white"
                      },
                      "zaxis": {
                        "backgroundcolor": "#E5ECF6",
                        "gridcolor": "white",
                        "gridwidth": 2,
                        "linecolor": "white",
                        "showbackground": true,
                        "ticks": "",
                        "zerolinecolor": "white"
                      }
                    },
                    "shapedefaults": {
                      "line": {
                        "color": "#2a3f5f"
                      }
                    },
                    "ternary": {
                      "aaxis": {
                        "gridcolor": "white",
                        "linecolor": "white",
                        "ticks": ""
                      },
                      "baxis": {
                        "gridcolor": "white",
                        "linecolor": "white",
                        "ticks": ""
                      },
                      "bgcolor": "#E5ECF6",
                      "caxis": {
                        "gridcolor": "white",
                        "linecolor": "white",
                        "ticks": ""
                      }
                    },
                    "title": {
                      "x": 0.05
                    },
                    "xaxis": {
                      "automargin": true,
                      "gridcolor": "white",
                      "linecolor": "white",
                      "ticks": "",
                      "title": {
                        "standoff": 15
                      },
                      "zerolinecolor": "white",
                      "zerolinewidth": 2
                    },
                    "yaxis": {
                      "automargin": true,
                      "gridcolor": "white",
                      "linecolor": "white",
                      "ticks": "",
                      "title": {
                        "standoff": 15
                      },
                      "zerolinecolor": "white",
                      "zerolinewidth": 2
                    }
                  }
                },
                "xaxis": {
                  "anchor": "y",
                  "domain": [
                    0,
                    1
                  ],
                  "title": {
                    "text": "preco_atual"
                  }
                },
                "yaxis": {
                  "anchor": "x",
                  "domain": [
                    0,
                    1
                  ],
                  "title": {
                    "text": "dy_12m_acum"
                  }
                }
              }
            }
          },
          "metadata": {},
          "output_type": "display_data"
        }
      ],
      "source": [
        "# Utiliando sómente a base de dados com FIIs com preço atual menor ou igual a 250\n",
        "fii_df2 = fii_df[fii_df['preco_atual'] <= 250.00]\n",
        "\n",
        "fig = px.scatter(fii_df2, x='preco_atual', y='dy_12m_acum', color='Setor')\n",
        "fig.show()"
      ]
    },
    {
      "cell_type": "code",
      "execution_count": 16,
      "metadata": {
        "id": "zuYvSfgkQSNW"
      },
      "outputs": [
        {
          "name": "stderr",
          "output_type": "stream",
          "text": [
            "<ipython-input-16-b5c659c75465>:3: SettingWithCopyWarning:\n",
            "\n",
            "\n",
            "A value is trying to be set on a copy of a slice from a DataFrame.\n",
            "Try using .loc[row_indexer,col_indexer] = value instead\n",
            "\n",
            "See the caveats in the documentation: https://pandas.pydata.org/pandas-docs/stable/user_guide/indexing.html#returning-a-view-versus-a-copy\n",
            "\n"
          ]
        },
        {
          "data": {
            "application/vnd.plotly.v1+json": {
              "config": {
                "plotlyServerURL": "https://plotly.com"
              },
              "data": [
                {
                  "hovertemplate": "Setor=Outros<br>log_preco_atual=%{x}<br>dy_12m_acum=%{y}<extra></extra>",
                  "legendgroup": "Outros",
                  "marker": {
                    "color": "#636efa",
                    "symbol": "circle"
                  },
                  "mode": "markers",
                  "name": "Outros",
                  "orientation": "v",
                  "showlegend": true,
                  "type": "scatter",
                  "x": [
                    4.794632850933413,
                    4.553876891600541,
                    2.6152036507358583,
                    4.601162164590552,
                    4.609162207257629,
                    4.7957078975533864,
                    4.5827200571505,
                    4.547541073151455,
                    4.726945242914012,
                    3.6843692986360503,
                    4.423648309364701,
                    4.771785712960429,
                    4.357733942104837,
                    4.787491742782046,
                    4.593603549616626,
                    4.476199804691132,
                    4.563827222453709,
                    4.3776420363560575,
                    3.8044377947482086,
                    3.872866290226952,
                    4.168678699274804,
                    4.418720118610357,
                    2.3194422100604686,
                    2.321406847234633,
                    4.735408662911821,
                    4.976526824462806,
                    4.145671189387441,
                    4.35696520407851,
                    4.634728988229636,
                    4.007333185232471,
                    4.562680134367139,
                    2.0918640616783932
                  ],
                  "xaxis": "x",
                  "y": [
                    11.76,
                    7.08,
                    3.98,
                    9.08,
                    15.11,
                    9.87,
                    10.35,
                    10.75,
                    18.42,
                    12.16,
                    0,
                    11.6,
                    8.29,
                    8.34,
                    9.53,
                    6.64,
                    12.4,
                    11.73,
                    8.03,
                    9.11,
                    10.31,
                    9.56,
                    15.36,
                    11.05,
                    15.45,
                    10.11,
                    7.21,
                    0,
                    0,
                    9.52,
                    12.53,
                    10.43
                  ],
                  "yaxis": "y"
                },
                {
                  "hovertemplate": "Setor=Shoppings<br>log_preco_atual=%{x}<br>dy_12m_acum=%{y}<extra></extra>",
                  "legendgroup": "Shoppings",
                  "marker": {
                    "color": "#EF553B",
                    "symbol": "circle"
                  },
                  "mode": "markers",
                  "name": "Shoppings",
                  "orientation": "v",
                  "showlegend": true,
                  "type": "scatter",
                  "x": [
                    4.388257184424518,
                    4.768563732896527,
                    4.296604902619887,
                    4.51085950651685,
                    4.394202210604015,
                    4.197201947661808,
                    5.192845733605802,
                    4.418840607796598,
                    3.940221659786825,
                    4.624874769262426,
                    4.2130160919396,
                    4.603067977896221,
                    4.627811916468916,
                    1.9329696377795786,
                    4.351309662011821,
                    3.3826939100975957
                  ],
                  "xaxis": "x",
                  "y": [
                    7.72,
                    7.1,
                    8.77,
                    6.83,
                    8.66,
                    0,
                    6.04,
                    5.5,
                    6.76,
                    7.66,
                    0,
                    7.31,
                    7.04,
                    2.71,
                    6.83,
                    5.12
                  ],
                  "yaxis": "y"
                },
                {
                  "hovertemplate": "Setor=Lajes Corporativas<br>log_preco_atual=%{x}<br>dy_12m_acum=%{y}<extra></extra>",
                  "legendgroup": "Lajes Corporativas",
                  "marker": {
                    "color": "#00cc96",
                    "symbol": "circle"
                  },
                  "mode": "markers",
                  "name": "Lajes Corporativas",
                  "orientation": "v",
                  "showlegend": true,
                  "type": "scatter",
                  "x": [
                    3.804215052793841,
                    4.238589195929893,
                    3.6375861597263857,
                    5.367983344781139,
                    4.290048397777529,
                    4.668051084027292,
                    4.3939552055391555,
                    4.23410650459726,
                    3.9080149840306073,
                    4.4388794462666645,
                    4.575741375297279,
                    3.5263605246161616,
                    3.574870537502069,
                    3.8832119235740263,
                    5.32159434345253,
                    4.7957078975533864,
                    5.065375972753716,
                    4.832066686171609,
                    4.144086654116915,
                    4.558078578454241,
                    3.0017143452315387,
                    4.596028528070808,
                    2.8622008809294686,
                    4.567675981560511,
                    4.874815570953721,
                    4.157319361383489,
                    4.564348191467836,
                    4.35709336812867
                  ],
                  "xaxis": "x",
                  "y": [
                    16.3,
                    7.65,
                    8.78,
                    7.26,
                    9.69,
                    0,
                    10.22,
                    5.61,
                    7.84,
                    11.25,
                    6.13,
                    3.22,
                    3.47,
                    9.84,
                    7.55,
                    4.19,
                    6.54,
                    6.41,
                    9.1,
                    8.53,
                    6.93,
                    0,
                    10.16,
                    7.38,
                    8.47,
                    12.26,
                    6.64,
                    9.31
                  ],
                  "yaxis": "y"
                },
                {
                  "hovertemplate": "Setor=Logística<br>log_preco_atual=%{x}<br>dy_12m_acum=%{y}<extra></extra>",
                  "legendgroup": "Logística",
                  "marker": {
                    "color": "#ab63fa",
                    "symbol": "circle"
                  },
                  "mode": "markers",
                  "name": "Logística",
                  "orientation": "v",
                  "showlegend": true,
                  "type": "scatter",
                  "x": [
                    4.513712575499256,
                    4.358885942232239,
                    4.5263434054421205,
                    5.456516981221582,
                    5.0369526024136295,
                    5.108064439427801,
                    4.612939923252452,
                    4.56746831880408,
                    4.755226782194771,
                    4.60487014097909,
                    4.640054587841593,
                    4.477223171657469,
                    4.696837374513915,
                    4.441120673981586,
                    3.8918202981106265,
                    4.46900676117522,
                    4.622223940553919,
                    4.4725526613732525,
                    4.058890081237698,
                    4.46763077196603,
                    4.282206299391671
                  ],
                  "xaxis": "x",
                  "y": [
                    9.61,
                    8.1,
                    9.41,
                    9.24,
                    8.72,
                    8.91,
                    7.15,
                    7.57,
                    7.31,
                    7.55,
                    8.13,
                    9.3,
                    8.78,
                    11.23,
                    0,
                    8.97,
                    7.99,
                    7.63,
                    7.52,
                    7.79,
                    11.14
                  ],
                  "yaxis": "y"
                },
                {
                  "hovertemplate": "Setor=Títulos e Val. Mob.<br>log_preco_atual=%{x}<br>dy_12m_acum=%{y}<extra></extra>",
                  "legendgroup": "Títulos e Val. Mob.",
                  "marker": {
                    "color": "#FFA15A",
                    "symbol": "circle"
                  },
                  "mode": "markers",
                  "name": "Títulos e Val. Mob.",
                  "orientation": "v",
                  "showlegend": true,
                  "type": "scatter",
                  "x": [
                    2.1377104498038118,
                    3.649358695951653,
                    4.577798989191959,
                    4.607467545036775,
                    4.516994495084366,
                    4.323072491830211,
                    4.465908118654584,
                    4.557344556505487,
                    4.26633516017769,
                    2.503891949699081,
                    4.598548309679204,
                    2.359910159613315,
                    4.548070593947519,
                    4.592388851623358,
                    4.440884991680235,
                    4.459797532972339,
                    4.278054044290903,
                    4.600157644164547,
                    4.516338972281476,
                    4.529799878963315,
                    3.943909194290468,
                    4.698751599609622,
                    4.716801002159277,
                    4.297965447047447,
                    2.3804716316511167,
                    4.613039144366787,
                    4.66814498514948,
                    4.653293461169819,
                    4.642754946315362,
                    4.627518589651853,
                    2.3978952727983707,
                    4.594210345751749,
                    4.556819925047044,
                    4.435448911169876,
                    4.274162988797936,
                    4.025530246221741,
                    4.546481189639412,
                    4.6488042230081525,
                    4.648229675448539,
                    4.605170185988092,
                    4.244056835450428,
                    4.553876891600541,
                    4.709530201312334,
                    4.6137334166485795,
                    4.61512051684126,
                    4.610058220060867,
                    2.0856720914304723,
                    2.135349173618132,
                    4.47403591796329,
                    4.333755086000182,
                    4.290459441148391,
                    4.68213122712422,
                    4.203049479130317,
                    4.641984159110808,
                    4.436869870556391,
                    4.358374106008653,
                    4.594109238628667,
                    4.497028027368389,
                    4.189957726425047,
                    2.124653884501384,
                    4.596532992592428,
                    4.141387168555412,
                    4.582310891842009,
                    4.5107496103686,
                    4.1956970564823886,
                    4.622518824322705,
                    4.5966338549658055,
                    4.628691381029437,
                    4.343025897324149,
                    4.656338472562491,
                    4.150882413182359,
                    4.632298853376344,
                    4.561740628060756,
                    4.272769648736932,
                    4.661550519424199,
                    4.380775852772229,
                    4.566221435849517,
                    4.694553747122777,
                    2.400618833265411,
                    4.569439376032292,
                    4.57974980864118,
                    4.297965447047447,
                    4.185098925490565,
                    4.661550519424199,
                    4.6297652328434715
                  ],
                  "xaxis": "x",
                  "y": [
                    8.99,
                    10.95,
                    13.24,
                    13.81,
                    13.62,
                    10.31,
                    0,
                    13.07,
                    10.13,
                    0,
                    10.41,
                    0,
                    12.75,
                    11.71,
                    8.99,
                    12.89,
                    0,
                    6.97,
                    13.41,
                    8.29,
                    9.92,
                    13.48,
                    10.52,
                    8.71,
                    16.63,
                    12.88,
                    11.37,
                    14.92,
                    15.19,
                    13.27,
                    0,
                    14.23,
                    11.2,
                    0,
                    8.12,
                    10.85,
                    14.13,
                    14.93,
                    0,
                    14.16,
                    10.5,
                    0,
                    0,
                    0,
                    0,
                    0,
                    9.76,
                    0,
                    12.17,
                    10.29,
                    11.11,
                    13.66,
                    11.3,
                    0,
                    0,
                    13.01,
                    13.97,
                    0,
                    7.89,
                    10.9,
                    15.12,
                    9.62,
                    11.71,
                    11.57,
                    8.52,
                    14.24,
                    0,
                    12.99,
                    10.66,
                    12.08,
                    9.76,
                    11.67,
                    0,
                    9.5,
                    12.56,
                    9.28,
                    12.8,
                    0,
                    0,
                    15.68,
                    11.01,
                    8.61,
                    10.18,
                    14.31,
                    8.02
                  ],
                  "yaxis": "y"
                },
                {
                  "hovertemplate": "Setor=Híbrido<br>log_preco_atual=%{x}<br>dy_12m_acum=%{y}<extra></extra>",
                  "legendgroup": "Híbrido",
                  "marker": {
                    "color": "#19d3f3",
                    "symbol": "circle"
                  },
                  "mode": "markers",
                  "name": "Híbrido",
                  "orientation": "v",
                  "showlegend": true,
                  "type": "scatter",
                  "x": [
                    2.4042387467205457,
                    4.454347296253507,
                    4.127134385045092,
                    4.893502047281369,
                    4.476199804691132,
                    4.364753306003425,
                    4.605170185988092,
                    4.6491870714048655,
                    4.549974550520141,
                    4.5612182984589085,
                    2.387844936944869,
                    4.562680134367139,
                    4.661077817926388,
                    4.517976974285714,
                    4.155753190350744,
                    4.768733569853457,
                    4.553876891600541,
                    4.631812116934513,
                    4.653484046266642,
                    4.219948784356969,
                    4.272351267864781,
                    4.0824406577192764,
                    4.31748811353631,
                    5.017279836814924,
                    4.254477313726906,
                    4.6524353784552055,
                    2.3933394562625097,
                    4.300002799195291,
                    4.677490847567717,
                    4.319086834900007,
                    4.584763376210429,
                    4.612542940317504,
                    4.600157644164547,
                    4.2520603082138555,
                    3.833196224882175,
                    4.484808829316908,
                    4.344454561766125,
                    4.778871360488434
                  ],
                  "xaxis": "x",
                  "y": [
                    0,
                    10.4,
                    7.43,
                    6.72,
                    0,
                    7.85,
                    6.52,
                    12.45,
                    14.93,
                    10.16,
                    10.39,
                    9.81,
                    15.16,
                    0,
                    8.07,
                    5.9,
                    6.82,
                    8.78,
                    0,
                    7.98,
                    0,
                    8.88,
                    11.12,
                    4.8,
                    10.51,
                    0,
                    0,
                    11.84,
                    15.15,
                    9.55,
                    9.32,
                    12.49,
                    0,
                    7.2,
                    6.4,
                    12.96,
                    9.13,
                    7.94
                  ],
                  "yaxis": "y"
                },
                {
                  "hovertemplate": "Setor=Residencial<br>log_preco_atual=%{x}<br>dy_12m_acum=%{y}<extra></extra>",
                  "legendgroup": "Residencial",
                  "marker": {
                    "color": "#FF6692",
                    "symbol": "circle"
                  },
                  "mode": "markers",
                  "name": "Residencial",
                  "orientation": "v",
                  "showlegend": true,
                  "type": "scatter",
                  "x": [
                    4.324000197151533,
                    4.403054001865957,
                    2.624668592163159,
                    4.28096243218686
                  ],
                  "xaxis": "x",
                  "y": [
                    0,
                    7.35,
                    0,
                    9.41
                  ],
                  "yaxis": "y"
                },
                {
                  "hovertemplate": "Setor=Hotel<br>log_preco_atual=%{x}<br>dy_12m_acum=%{y}<extra></extra>",
                  "legendgroup": "Hotel",
                  "marker": {
                    "color": "#B6E880",
                    "symbol": "circle"
                  },
                  "mode": "markers",
                  "name": "Hotel",
                  "orientation": "v",
                  "showlegend": true,
                  "type": "scatter",
                  "x": [
                    4.24763773163523,
                    4.654055583717902
                  ],
                  "xaxis": "x",
                  "y": [
                    10.2,
                    4.87
                  ],
                  "yaxis": "y"
                },
                {
                  "hovertemplate": "Setor=Hospital<br>log_preco_atual=%{x}<br>dy_12m_acum=%{y}<extra></extra>",
                  "legendgroup": "Hospital",
                  "marker": {
                    "color": "#FF97FF",
                    "symbol": "circle"
                  },
                  "mode": "markers",
                  "name": "Hospital",
                  "orientation": "v",
                  "showlegend": true,
                  "type": "scatter",
                  "x": [
                    2.5217206229107165
                  ],
                  "xaxis": "x",
                  "y": [
                    6.87
                  ],
                  "yaxis": "y"
                }
              ],
              "layout": {
                "legend": {
                  "title": {
                    "text": "Setor"
                  },
                  "tracegroupgap": 0
                },
                "margin": {
                  "t": 60
                },
                "template": {
                  "data": {
                    "bar": [
                      {
                        "error_x": {
                          "color": "#2a3f5f"
                        },
                        "error_y": {
                          "color": "#2a3f5f"
                        },
                        "marker": {
                          "line": {
                            "color": "#E5ECF6",
                            "width": 0.5
                          }
                        },
                        "type": "bar"
                      }
                    ],
                    "barpolar": [
                      {
                        "marker": {
                          "line": {
                            "color": "#E5ECF6",
                            "width": 0.5
                          }
                        },
                        "type": "barpolar"
                      }
                    ],
                    "carpet": [
                      {
                        "aaxis": {
                          "endlinecolor": "#2a3f5f",
                          "gridcolor": "white",
                          "linecolor": "white",
                          "minorgridcolor": "white",
                          "startlinecolor": "#2a3f5f"
                        },
                        "baxis": {
                          "endlinecolor": "#2a3f5f",
                          "gridcolor": "white",
                          "linecolor": "white",
                          "minorgridcolor": "white",
                          "startlinecolor": "#2a3f5f"
                        },
                        "type": "carpet"
                      }
                    ],
                    "choropleth": [
                      {
                        "colorbar": {
                          "outlinewidth": 0,
                          "ticks": ""
                        },
                        "type": "choropleth"
                      }
                    ],
                    "contour": [
                      {
                        "colorbar": {
                          "outlinewidth": 0,
                          "ticks": ""
                        },
                        "colorscale": [
                          [
                            0,
                            "#0d0887"
                          ],
                          [
                            0.1111111111111111,
                            "#46039f"
                          ],
                          [
                            0.2222222222222222,
                            "#7201a8"
                          ],
                          [
                            0.3333333333333333,
                            "#9c179e"
                          ],
                          [
                            0.4444444444444444,
                            "#bd3786"
                          ],
                          [
                            0.5555555555555556,
                            "#d8576b"
                          ],
                          [
                            0.6666666666666666,
                            "#ed7953"
                          ],
                          [
                            0.7777777777777778,
                            "#fb9f3a"
                          ],
                          [
                            0.8888888888888888,
                            "#fdca26"
                          ],
                          [
                            1,
                            "#f0f921"
                          ]
                        ],
                        "type": "contour"
                      }
                    ],
                    "contourcarpet": [
                      {
                        "colorbar": {
                          "outlinewidth": 0,
                          "ticks": ""
                        },
                        "type": "contourcarpet"
                      }
                    ],
                    "heatmap": [
                      {
                        "colorbar": {
                          "outlinewidth": 0,
                          "ticks": ""
                        },
                        "colorscale": [
                          [
                            0,
                            "#0d0887"
                          ],
                          [
                            0.1111111111111111,
                            "#46039f"
                          ],
                          [
                            0.2222222222222222,
                            "#7201a8"
                          ],
                          [
                            0.3333333333333333,
                            "#9c179e"
                          ],
                          [
                            0.4444444444444444,
                            "#bd3786"
                          ],
                          [
                            0.5555555555555556,
                            "#d8576b"
                          ],
                          [
                            0.6666666666666666,
                            "#ed7953"
                          ],
                          [
                            0.7777777777777778,
                            "#fb9f3a"
                          ],
                          [
                            0.8888888888888888,
                            "#fdca26"
                          ],
                          [
                            1,
                            "#f0f921"
                          ]
                        ],
                        "type": "heatmap"
                      }
                    ],
                    "heatmapgl": [
                      {
                        "colorbar": {
                          "outlinewidth": 0,
                          "ticks": ""
                        },
                        "colorscale": [
                          [
                            0,
                            "#0d0887"
                          ],
                          [
                            0.1111111111111111,
                            "#46039f"
                          ],
                          [
                            0.2222222222222222,
                            "#7201a8"
                          ],
                          [
                            0.3333333333333333,
                            "#9c179e"
                          ],
                          [
                            0.4444444444444444,
                            "#bd3786"
                          ],
                          [
                            0.5555555555555556,
                            "#d8576b"
                          ],
                          [
                            0.6666666666666666,
                            "#ed7953"
                          ],
                          [
                            0.7777777777777778,
                            "#fb9f3a"
                          ],
                          [
                            0.8888888888888888,
                            "#fdca26"
                          ],
                          [
                            1,
                            "#f0f921"
                          ]
                        ],
                        "type": "heatmapgl"
                      }
                    ],
                    "histogram": [
                      {
                        "marker": {
                          "colorbar": {
                            "outlinewidth": 0,
                            "ticks": ""
                          }
                        },
                        "type": "histogram"
                      }
                    ],
                    "histogram2d": [
                      {
                        "colorbar": {
                          "outlinewidth": 0,
                          "ticks": ""
                        },
                        "colorscale": [
                          [
                            0,
                            "#0d0887"
                          ],
                          [
                            0.1111111111111111,
                            "#46039f"
                          ],
                          [
                            0.2222222222222222,
                            "#7201a8"
                          ],
                          [
                            0.3333333333333333,
                            "#9c179e"
                          ],
                          [
                            0.4444444444444444,
                            "#bd3786"
                          ],
                          [
                            0.5555555555555556,
                            "#d8576b"
                          ],
                          [
                            0.6666666666666666,
                            "#ed7953"
                          ],
                          [
                            0.7777777777777778,
                            "#fb9f3a"
                          ],
                          [
                            0.8888888888888888,
                            "#fdca26"
                          ],
                          [
                            1,
                            "#f0f921"
                          ]
                        ],
                        "type": "histogram2d"
                      }
                    ],
                    "histogram2dcontour": [
                      {
                        "colorbar": {
                          "outlinewidth": 0,
                          "ticks": ""
                        },
                        "colorscale": [
                          [
                            0,
                            "#0d0887"
                          ],
                          [
                            0.1111111111111111,
                            "#46039f"
                          ],
                          [
                            0.2222222222222222,
                            "#7201a8"
                          ],
                          [
                            0.3333333333333333,
                            "#9c179e"
                          ],
                          [
                            0.4444444444444444,
                            "#bd3786"
                          ],
                          [
                            0.5555555555555556,
                            "#d8576b"
                          ],
                          [
                            0.6666666666666666,
                            "#ed7953"
                          ],
                          [
                            0.7777777777777778,
                            "#fb9f3a"
                          ],
                          [
                            0.8888888888888888,
                            "#fdca26"
                          ],
                          [
                            1,
                            "#f0f921"
                          ]
                        ],
                        "type": "histogram2dcontour"
                      }
                    ],
                    "mesh3d": [
                      {
                        "colorbar": {
                          "outlinewidth": 0,
                          "ticks": ""
                        },
                        "type": "mesh3d"
                      }
                    ],
                    "parcoords": [
                      {
                        "line": {
                          "colorbar": {
                            "outlinewidth": 0,
                            "ticks": ""
                          }
                        },
                        "type": "parcoords"
                      }
                    ],
                    "pie": [
                      {
                        "automargin": true,
                        "type": "pie"
                      }
                    ],
                    "scatter": [
                      {
                        "marker": {
                          "colorbar": {
                            "outlinewidth": 0,
                            "ticks": ""
                          }
                        },
                        "type": "scatter"
                      }
                    ],
                    "scatter3d": [
                      {
                        "line": {
                          "colorbar": {
                            "outlinewidth": 0,
                            "ticks": ""
                          }
                        },
                        "marker": {
                          "colorbar": {
                            "outlinewidth": 0,
                            "ticks": ""
                          }
                        },
                        "type": "scatter3d"
                      }
                    ],
                    "scattercarpet": [
                      {
                        "marker": {
                          "colorbar": {
                            "outlinewidth": 0,
                            "ticks": ""
                          }
                        },
                        "type": "scattercarpet"
                      }
                    ],
                    "scattergeo": [
                      {
                        "marker": {
                          "colorbar": {
                            "outlinewidth": 0,
                            "ticks": ""
                          }
                        },
                        "type": "scattergeo"
                      }
                    ],
                    "scattergl": [
                      {
                        "marker": {
                          "colorbar": {
                            "outlinewidth": 0,
                            "ticks": ""
                          }
                        },
                        "type": "scattergl"
                      }
                    ],
                    "scattermapbox": [
                      {
                        "marker": {
                          "colorbar": {
                            "outlinewidth": 0,
                            "ticks": ""
                          }
                        },
                        "type": "scattermapbox"
                      }
                    ],
                    "scatterpolar": [
                      {
                        "marker": {
                          "colorbar": {
                            "outlinewidth": 0,
                            "ticks": ""
                          }
                        },
                        "type": "scatterpolar"
                      }
                    ],
                    "scatterpolargl": [
                      {
                        "marker": {
                          "colorbar": {
                            "outlinewidth": 0,
                            "ticks": ""
                          }
                        },
                        "type": "scatterpolargl"
                      }
                    ],
                    "scatterternary": [
                      {
                        "marker": {
                          "colorbar": {
                            "outlinewidth": 0,
                            "ticks": ""
                          }
                        },
                        "type": "scatterternary"
                      }
                    ],
                    "surface": [
                      {
                        "colorbar": {
                          "outlinewidth": 0,
                          "ticks": ""
                        },
                        "colorscale": [
                          [
                            0,
                            "#0d0887"
                          ],
                          [
                            0.1111111111111111,
                            "#46039f"
                          ],
                          [
                            0.2222222222222222,
                            "#7201a8"
                          ],
                          [
                            0.3333333333333333,
                            "#9c179e"
                          ],
                          [
                            0.4444444444444444,
                            "#bd3786"
                          ],
                          [
                            0.5555555555555556,
                            "#d8576b"
                          ],
                          [
                            0.6666666666666666,
                            "#ed7953"
                          ],
                          [
                            0.7777777777777778,
                            "#fb9f3a"
                          ],
                          [
                            0.8888888888888888,
                            "#fdca26"
                          ],
                          [
                            1,
                            "#f0f921"
                          ]
                        ],
                        "type": "surface"
                      }
                    ],
                    "table": [
                      {
                        "cells": {
                          "fill": {
                            "color": "#EBF0F8"
                          },
                          "line": {
                            "color": "white"
                          }
                        },
                        "header": {
                          "fill": {
                            "color": "#C8D4E3"
                          },
                          "line": {
                            "color": "white"
                          }
                        },
                        "type": "table"
                      }
                    ]
                  },
                  "layout": {
                    "annotationdefaults": {
                      "arrowcolor": "#2a3f5f",
                      "arrowhead": 0,
                      "arrowwidth": 1
                    },
                    "autotypenumbers": "strict",
                    "coloraxis": {
                      "colorbar": {
                        "outlinewidth": 0,
                        "ticks": ""
                      }
                    },
                    "colorscale": {
                      "diverging": [
                        [
                          0,
                          "#8e0152"
                        ],
                        [
                          0.1,
                          "#c51b7d"
                        ],
                        [
                          0.2,
                          "#de77ae"
                        ],
                        [
                          0.3,
                          "#f1b6da"
                        ],
                        [
                          0.4,
                          "#fde0ef"
                        ],
                        [
                          0.5,
                          "#f7f7f7"
                        ],
                        [
                          0.6,
                          "#e6f5d0"
                        ],
                        [
                          0.7,
                          "#b8e186"
                        ],
                        [
                          0.8,
                          "#7fbc41"
                        ],
                        [
                          0.9,
                          "#4d9221"
                        ],
                        [
                          1,
                          "#276419"
                        ]
                      ],
                      "sequential": [
                        [
                          0,
                          "#0d0887"
                        ],
                        [
                          0.1111111111111111,
                          "#46039f"
                        ],
                        [
                          0.2222222222222222,
                          "#7201a8"
                        ],
                        [
                          0.3333333333333333,
                          "#9c179e"
                        ],
                        [
                          0.4444444444444444,
                          "#bd3786"
                        ],
                        [
                          0.5555555555555556,
                          "#d8576b"
                        ],
                        [
                          0.6666666666666666,
                          "#ed7953"
                        ],
                        [
                          0.7777777777777778,
                          "#fb9f3a"
                        ],
                        [
                          0.8888888888888888,
                          "#fdca26"
                        ],
                        [
                          1,
                          "#f0f921"
                        ]
                      ],
                      "sequentialminus": [
                        [
                          0,
                          "#0d0887"
                        ],
                        [
                          0.1111111111111111,
                          "#46039f"
                        ],
                        [
                          0.2222222222222222,
                          "#7201a8"
                        ],
                        [
                          0.3333333333333333,
                          "#9c179e"
                        ],
                        [
                          0.4444444444444444,
                          "#bd3786"
                        ],
                        [
                          0.5555555555555556,
                          "#d8576b"
                        ],
                        [
                          0.6666666666666666,
                          "#ed7953"
                        ],
                        [
                          0.7777777777777778,
                          "#fb9f3a"
                        ],
                        [
                          0.8888888888888888,
                          "#fdca26"
                        ],
                        [
                          1,
                          "#f0f921"
                        ]
                      ]
                    },
                    "colorway": [
                      "#636efa",
                      "#EF553B",
                      "#00cc96",
                      "#ab63fa",
                      "#FFA15A",
                      "#19d3f3",
                      "#FF6692",
                      "#B6E880",
                      "#FF97FF",
                      "#FECB52"
                    ],
                    "font": {
                      "color": "#2a3f5f"
                    },
                    "geo": {
                      "bgcolor": "white",
                      "lakecolor": "white",
                      "landcolor": "#E5ECF6",
                      "showlakes": true,
                      "showland": true,
                      "subunitcolor": "white"
                    },
                    "hoverlabel": {
                      "align": "left"
                    },
                    "hovermode": "closest",
                    "mapbox": {
                      "style": "light"
                    },
                    "paper_bgcolor": "white",
                    "plot_bgcolor": "#E5ECF6",
                    "polar": {
                      "angularaxis": {
                        "gridcolor": "white",
                        "linecolor": "white",
                        "ticks": ""
                      },
                      "bgcolor": "#E5ECF6",
                      "radialaxis": {
                        "gridcolor": "white",
                        "linecolor": "white",
                        "ticks": ""
                      }
                    },
                    "scene": {
                      "xaxis": {
                        "backgroundcolor": "#E5ECF6",
                        "gridcolor": "white",
                        "gridwidth": 2,
                        "linecolor": "white",
                        "showbackground": true,
                        "ticks": "",
                        "zerolinecolor": "white"
                      },
                      "yaxis": {
                        "backgroundcolor": "#E5ECF6",
                        "gridcolor": "white",
                        "gridwidth": 2,
                        "linecolor": "white",
                        "showbackground": true,
                        "ticks": "",
                        "zerolinecolor": "white"
                      },
                      "zaxis": {
                        "backgroundcolor": "#E5ECF6",
                        "gridcolor": "white",
                        "gridwidth": 2,
                        "linecolor": "white",
                        "showbackground": true,
                        "ticks": "",
                        "zerolinecolor": "white"
                      }
                    },
                    "shapedefaults": {
                      "line": {
                        "color": "#2a3f5f"
                      }
                    },
                    "ternary": {
                      "aaxis": {
                        "gridcolor": "white",
                        "linecolor": "white",
                        "ticks": ""
                      },
                      "baxis": {
                        "gridcolor": "white",
                        "linecolor": "white",
                        "ticks": ""
                      },
                      "bgcolor": "#E5ECF6",
                      "caxis": {
                        "gridcolor": "white",
                        "linecolor": "white",
                        "ticks": ""
                      }
                    },
                    "title": {
                      "x": 0.05
                    },
                    "xaxis": {
                      "automargin": true,
                      "gridcolor": "white",
                      "linecolor": "white",
                      "ticks": "",
                      "title": {
                        "standoff": 15
                      },
                      "zerolinecolor": "white",
                      "zerolinewidth": 2
                    },
                    "yaxis": {
                      "automargin": true,
                      "gridcolor": "white",
                      "linecolor": "white",
                      "ticks": "",
                      "title": {
                        "standoff": 15
                      },
                      "zerolinecolor": "white",
                      "zerolinewidth": 2
                    }
                  }
                },
                "xaxis": {
                  "anchor": "y",
                  "domain": [
                    0,
                    1
                  ],
                  "title": {
                    "text": "log_preco_atual"
                  }
                },
                "yaxis": {
                  "anchor": "x",
                  "domain": [
                    0,
                    1
                  ],
                  "title": {
                    "text": "dy_12m_acum"
                  }
                }
              }
            }
          },
          "metadata": {},
          "output_type": "display_data"
        }
      ],
      "source": [
        "fii_df2['log_preco_atual'] = np.log(fii_df2['preco_atual'] + 1)\n",
        "\n",
        "fig = px.scatter(fii_df2, x='log_preco_atual', y='dy_12m_acum', color='Setor')\n",
        "fig.show()"
      ]
    },
    {
      "cell_type": "markdown",
      "metadata": {},
      "source": [
        "#### **Matriz de Correlação entre os FIIS**"
      ]
    },
    {
      "cell_type": "code",
      "execution_count": 22,
      "metadata": {
        "id": "wpjg3NgIT7t-"
      },
      "outputs": [
        {
          "data": {
            "image/png": "[encoded data removed]",
            "text/plain": [
              "<Figure size 1080x1080 with 2 Axes>"
            ]
          },
          "metadata": {
            "needs_background": "light"
          },
          "output_type": "display_data"
        }
      ],
      "source": [
        "corr_matrix = fii_df.corr(method='spearman')\n",
        "\n",
        "fig, ax = plt.subplots(figsize=(15,15))\n",
        "plot = sns.heatmap(corr_matrix, annot=True, fmt='.1f', linewidths=0.7)\n",
        "\n",
        "font_options = {'family': 'monospace',\n",
        "                'weight': 'bold'}\n",
        "plt.rc('font', **font_options)\n",
        "plt.rcParams.update({'font.size': 10})\n",
        "titulo_config = {'fontsize': 16, 'fontweight': 'bold', 'color': 'black'}\n",
        "plt.title('Matriz de Correlação entre os FIIs', **titulo_config)\n",
        "plt.show()"
      ]
    },
    {
      "cell_type": "markdown",
      "metadata": {},
      "source": [
        "#### **Média e Mediana do Dividend Yield Acumulado em 12 meses por Setor**"
      ]
    },
    {
      "cell_type": "code",
      "execution_count": 23,
      "metadata": {
        "id": "Pv8V8PVgUmJC"
      },
      "outputs": [
        {
          "data": {
            "text/html": [
              "<div>\n",
              "<style scoped>\n",
              "    .dataframe tbody tr th:only-of-type {\n",
              "        vertical-align: middle;\n",
              "    }\n",
              "\n",
              "    .dataframe tbody tr th {\n",
              "        vertical-align: top;\n",
              "    }\n",
              "\n",
              "    .dataframe thead th {\n",
              "        text-align: right;\n",
              "    }\n",
              "</style>\n",
              "<table border=\"1\" class=\"dataframe\">\n",
              "  <thead>\n",
              "    <tr style=\"text-align: right;\">\n",
              "      <th></th>\n",
              "      <th>mean</th>\n",
              "      <th>median</th>\n",
              "    </tr>\n",
              "    <tr>\n",
              "      <th>Setor</th>\n",
              "      <th></th>\n",
              "      <th></th>\n",
              "    </tr>\n",
              "  </thead>\n",
              "  <tbody>\n",
              "    <tr>\n",
              "      <th>Outros</th>\n",
              "      <td>9.675758</td>\n",
              "      <td>10.110</td>\n",
              "    </tr>\n",
              "    <tr>\n",
              "      <th>Títulos e Val. Mob.</th>\n",
              "      <td>8.917209</td>\n",
              "      <td>10.510</td>\n",
              "    </tr>\n",
              "    <tr>\n",
              "      <th>Logística</th>\n",
              "      <td>8.192857</td>\n",
              "      <td>8.130</td>\n",
              "    </tr>\n",
              "    <tr>\n",
              "      <th>Híbrido</th>\n",
              "      <td>7.543684</td>\n",
              "      <td>8.025</td>\n",
              "    </tr>\n",
              "    <tr>\n",
              "      <th>Hotel</th>\n",
              "      <td>7.535000</td>\n",
              "      <td>7.535</td>\n",
              "    </tr>\n",
              "    <tr>\n",
              "      <th>Lajes Corporativas</th>\n",
              "      <td>7.470968</td>\n",
              "      <td>7.550</td>\n",
              "    </tr>\n",
              "    <tr>\n",
              "      <th>Hospital</th>\n",
              "      <td>6.870000</td>\n",
              "      <td>6.870</td>\n",
              "    </tr>\n",
              "    <tr>\n",
              "      <th>Shoppings</th>\n",
              "      <td>5.923684</td>\n",
              "      <td>6.830</td>\n",
              "    </tr>\n",
              "    <tr>\n",
              "      <th>Residencial</th>\n",
              "      <td>4.190000</td>\n",
              "      <td>3.675</td>\n",
              "    </tr>\n",
              "  </tbody>\n",
              "</table>\n",
              "</div>"
            ],
            "text/plain": [
              "                         mean  median\n",
              "Setor                                \n",
              "Outros               9.675758  10.110\n",
              "Títulos e Val. Mob.  8.917209  10.510\n",
              "Logística            8.192857   8.130\n",
              "Híbrido              7.543684   8.025\n",
              "Hotel                7.535000   7.535\n",
              "Lajes Corporativas   7.470968   7.550\n",
              "Hospital             6.870000   6.870\n",
              "Shoppings            5.923684   6.830\n",
              "Residencial          4.190000   3.675"
            ]
          },
          "execution_count": 23,
          "metadata": {},
          "output_type": "execute_result"
        }
      ],
      "source": [
        "pivot_table_FIIs = pd.pivot_table(fii_df, values='dy_12m_acum', index=['Setor'], columns=[]\n",
        "                                  , aggfunc=('mean', 'median'))\n",
        "pivot_table_FIIs.sort_values('mean', ascending=False)"
      ]
    },
    {
      "cell_type": "code",
      "execution_count": 26,
      "metadata": {
        "id": "nowiRFjwYX_o"
      },
      "outputs": [
        {
          "name": "stderr",
          "output_type": "stream",
          "text": [
            "<ipython-input-26-40fbfdda8d36>:5: UserWarning:\n",
            "\n",
            "Boolean Series key will be reindexed to match DataFrame index.\n",
            "\n"
          ]
        },
        {
          "data": {
            "text/html": [
              "<div>\n",
              "<style scoped>\n",
              "    .dataframe tbody tr th:only-of-type {\n",
              "        vertical-align: middle;\n",
              "    }\n",
              "\n",
              "    .dataframe tbody tr th {\n",
              "        vertical-align: top;\n",
              "    }\n",
              "\n",
              "    .dataframe thead th {\n",
              "        text-align: right;\n",
              "    }\n",
              "</style>\n",
              "<table border=\"1\" class=\"dataframe\">\n",
              "  <thead>\n",
              "    <tr style=\"text-align: right;\">\n",
              "      <th></th>\n",
              "      <th>codigo_fundo</th>\n",
              "      <th>Setor</th>\n",
              "      <th>preco_atual</th>\n",
              "      <th>liquidez_diaria</th>\n",
              "      <th>dividendo</th>\n",
              "      <th>dividend_yield</th>\n",
              "      <th>dy_3m_acum</th>\n",
              "      <th>dy_6m_acum</th>\n",
              "      <th>dy_12m_acum</th>\n",
              "      <th>dy_3m_media</th>\n",
              "      <th>...</th>\n",
              "      <th>Rent_periodo</th>\n",
              "      <th>rent_acum</th>\n",
              "      <th>patr_liq</th>\n",
              "      <th>vpa</th>\n",
              "      <th>p_vpa</th>\n",
              "      <th>dy_patr</th>\n",
              "      <th>var_patr</th>\n",
              "      <th>rent_patr_no_per</th>\n",
              "      <th>rent_patr_acum</th>\n",
              "      <th>qtd_ativos</th>\n",
              "    </tr>\n",
              "  </thead>\n",
              "  <tbody>\n",
              "    <tr>\n",
              "      <th>3</th>\n",
              "      <td>SPTW11</td>\n",
              "      <td>Lajes Corporativas</td>\n",
              "      <td>43.89</td>\n",
              "      <td>4357.0</td>\n",
              "      <td>0.40</td>\n",
              "      <td>0.90</td>\n",
              "      <td>2.71</td>\n",
              "      <td>5.30</td>\n",
              "      <td>16.30</td>\n",
              "      <td>0.90</td>\n",
              "      <td>...</td>\n",
              "      <td>0.07</td>\n",
              "      <td>1.30</td>\n",
              "      <td>9.506514e+07</td>\n",
              "      <td>52.87</td>\n",
              "      <td>83.0</td>\n",
              "      <td>0.76</td>\n",
              "      <td>True</td>\n",
              "      <td>0.81</td>\n",
              "      <td>3.30</td>\n",
              "      <td>1</td>\n",
              "    </tr>\n",
              "    <tr>\n",
              "      <th>12</th>\n",
              "      <td>PORD11</td>\n",
              "      <td>Títulos e Val. Mob.</td>\n",
              "      <td>96.30</td>\n",
              "      <td>11835.0</td>\n",
              "      <td>1.41</td>\n",
              "      <td>1.49</td>\n",
              "      <td>3.95</td>\n",
              "      <td>7.54</td>\n",
              "      <td>13.24</td>\n",
              "      <td>1.32</td>\n",
              "      <td>...</td>\n",
              "      <td>2.02</td>\n",
              "      <td>6.72</td>\n",
              "      <td>3.698597e+08</td>\n",
              "      <td>99.20</td>\n",
              "      <td>97.0</td>\n",
              "      <td>1.42</td>\n",
              "      <td>True</td>\n",
              "      <td>1.45</td>\n",
              "      <td>4.92</td>\n",
              "      <td>0</td>\n",
              "    </tr>\n",
              "    <tr>\n",
              "      <th>24</th>\n",
              "      <td>HSAF11</td>\n",
              "      <td>Títulos e Val. Mob.</td>\n",
              "      <td>94.33</td>\n",
              "      <td>5512.0</td>\n",
              "      <td>1.15</td>\n",
              "      <td>1.21</td>\n",
              "      <td>3.60</td>\n",
              "      <td>7.00</td>\n",
              "      <td>13.07</td>\n",
              "      <td>1.20</td>\n",
              "      <td>...</td>\n",
              "      <td>0.86</td>\n",
              "      <td>5.57</td>\n",
              "      <td>1.684045e+08</td>\n",
              "      <td>94.95</td>\n",
              "      <td>99.0</td>\n",
              "      <td>1.21</td>\n",
              "      <td>True</td>\n",
              "      <td>1.61</td>\n",
              "      <td>4.24</td>\n",
              "      <td>0</td>\n",
              "    </tr>\n",
              "    <tr>\n",
              "      <th>34</th>\n",
              "      <td>VGIP11</td>\n",
              "      <td>Outros</td>\n",
              "      <td>99.40</td>\n",
              "      <td>21774.0</td>\n",
              "      <td>1.50</td>\n",
              "      <td>1.51</td>\n",
              "      <td>4.09</td>\n",
              "      <td>8.54</td>\n",
              "      <td>15.11</td>\n",
              "      <td>1.36</td>\n",
              "      <td>...</td>\n",
              "      <td>0.28</td>\n",
              "      <td>3.92</td>\n",
              "      <td>8.695117e+08</td>\n",
              "      <td>93.56</td>\n",
              "      <td>106.0</td>\n",
              "      <td>1.60</td>\n",
              "      <td>True</td>\n",
              "      <td>-1.33</td>\n",
              "      <td>3.87</td>\n",
              "      <td>0</td>\n",
              "    </tr>\n",
              "    <tr>\n",
              "      <th>61</th>\n",
              "      <td>URPR11</td>\n",
              "      <td>Outros</td>\n",
              "      <td>111.95</td>\n",
              "      <td>46599.0</td>\n",
              "      <td>1.84</td>\n",
              "      <td>1.72</td>\n",
              "      <td>4.53</td>\n",
              "      <td>9.11</td>\n",
              "      <td>18.42</td>\n",
              "      <td>1.51</td>\n",
              "      <td>...</td>\n",
              "      <td>-6.89</td>\n",
              "      <td>-5.71</td>\n",
              "      <td>5.495307e+08</td>\n",
              "      <td>99.58</td>\n",
              "      <td>112.0</td>\n",
              "      <td>1.85</td>\n",
              "      <td>True</td>\n",
              "      <td>3.33</td>\n",
              "      <td>11.46</td>\n",
              "      <td>0</td>\n",
              "    </tr>\n",
              "  </tbody>\n",
              "</table>\n",
              "<p>5 rows × 24 columns</p>\n",
              "</div>"
            ],
            "text/plain": [
              "   codigo_fundo                Setor  preco_atual  liquidez_diaria  dividendo  \\\n",
              "3        SPTW11   Lajes Corporativas        43.89           4357.0       0.40   \n",
              "12       PORD11  Títulos e Val. Mob.        96.30          11835.0       1.41   \n",
              "24       HSAF11  Títulos e Val. Mob.        94.33           5512.0       1.15   \n",
              "34       VGIP11               Outros        99.40          21774.0       1.50   \n",
              "61       URPR11               Outros       111.95          46599.0       1.84   \n",
              "\n",
              "    dividend_yield  dy_3m_acum  dy_6m_acum  dy_12m_acum  dy_3m_media  ...  \\\n",
              "3             0.90        2.71        5.30        16.30         0.90  ...   \n",
              "12            1.49        3.95        7.54        13.24         1.32  ...   \n",
              "24            1.21        3.60        7.00        13.07         1.20  ...   \n",
              "34            1.51        4.09        8.54        15.11         1.36  ...   \n",
              "61            1.72        4.53        9.11        18.42         1.51  ...   \n",
              "\n",
              "    Rent_periodo  rent_acum      patr_liq    vpa  p_vpa  dy_patr  var_patr  \\\n",
              "3           0.07       1.30  9.506514e+07  52.87   83.0     0.76      True   \n",
              "12          2.02       6.72  3.698597e+08  99.20   97.0     1.42      True   \n",
              "24          0.86       5.57  1.684045e+08  94.95   99.0     1.21      True   \n",
              "34          0.28       3.92  8.695117e+08  93.56  106.0     1.60      True   \n",
              "61         -6.89      -5.71  5.495307e+08  99.58  112.0     1.85      True   \n",
              "\n",
              "    rent_patr_no_per  rent_patr_acum  qtd_ativos  \n",
              "3               0.81            3.30           1  \n",
              "12              1.45            4.92           0  \n",
              "24              1.61            4.24           0  \n",
              "34             -1.33            3.87           0  \n",
              "61              3.33           11.46           0  \n",
              "\n",
              "[5 rows x 24 columns]"
            ]
          },
          "execution_count": 26,
          "metadata": {},
          "output_type": "execute_result"
        }
      ],
      "source": [
        "fii_df['var_patr'] = fii_df['var_patr'] < 100\n",
        "fii_VPA = fii_df[fii_df['var_patr']]\n",
        "\n",
        "# Dividen Yield Maior que 10%\n",
        "fii_VPA_Select = fii_VPA[fii_VPA['dy_12m_acum'] > 12.75][fii_VPA['liquidez_diaria'] > fii_VPA['liquidez_diaria'].median()]\n",
        "fii_VPA_Select.head()"
      ]
    },
    {
      "cell_type": "markdown",
      "metadata": {},
      "source": [
        "#### **Criando um Gráfico de Caixa com os FIIs com Maior DY Acum em 12 meses**"
      ]
    },
    {
      "cell_type": "code",
      "execution_count": 32,
      "metadata": {
        "id": "HGtocUJ4a8QX"
      },
      "outputs": [
        {
          "data": {
            "image/png": "[encoded data removed]",
            "text/plain": [
              "<Figure size 576x576 with 1 Axes>"
            ]
          },
          "metadata": {
            "needs_background": "light"
          },
          "output_type": "display_data"
        }
      ],
      "source": [
        "fii_df_10maiores = fii_df.sort_values(by=['dy_12m_acum'], ascending=False).head(10)\n",
        "\n",
        "labels = fii_df_10maiores['codigo_fundo'].to_list()\n",
        "sizes = fii_df_10maiores['dy_12m_acum'].astype(float).to_list()\n",
        "labels_ = list()\n",
        "for i in range(len(labels)):\n",
        "    label = f\"{labels[i]} ({sizes[i]}%)\"\n",
        "    labels_.append(label)\n",
        "colors = [plt.cm.Spectral(i/float(len(fii_df_10maiores['codigo_fundo']))) for i in range(len(fii_df_10maiores['codigo_fundo']))]\n",
        "\n",
        "plt.figure(figsize = (8, 8))\n",
        "squarify.plot(sizes=sizes\n",
        "              , label=labels_\n",
        "              , color=colors\n",
        "              , bar_kwargs={'linewidth': 0.5, \"edgecolor\": \"#111111\"}\n",
        "              , pad=True)\n",
        "\n",
        "font_options = {'family': 'monospace',\n",
        "                'weight': 'bold'}\n",
        "plt.rc('font', **font_options)\n",
        "plt.rcParams.update({'font.size': 10})\n",
        "titulo_config = {'fontsize': 16, 'fontweight': 'bold', 'color': 'black'}\n",
        "plt.title(\"Maiores FIIS - DY Acumulados (12 meses)\", **titulo_config)\n",
        "plt.show()"
      ]
    },
    {
      "cell_type": "code",
      "execution_count": null,
      "metadata": {},
      "outputs": [],
      "source": []
    }
  ],
  "metadata": {
    "colab": {
      "authorship_tag": "ABX9TyM2hssWvybk7xEqW1GZfaL5",
      "include_colab_link": true,
      "name": "Analisando FIIS com Python .ipynb",
      "private_outputs": true,
      "provenance": []
    },
    "kernelspec": {
      "display_name": "Python 3",
      "name": "python3"
    },
    "language_info": {
      "codemirror_mode": {
        "name": "ipython",
        "version": 3
      },
      "file_extension": ".py",
      "mimetype": "text/x-python",
      "name": "python",
      "nbconvert_exporter": "python",
      "pygments_lexer": "ipython3",
      "version": "3.8.5"
    }
  },
  "nbformat": 4,
  "nbformat_minor": 0
}
