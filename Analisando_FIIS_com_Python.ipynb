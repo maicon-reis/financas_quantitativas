{
  "nbformat": 4,
  "nbformat_minor": 0,
  "metadata": {
    "colab": {
      "name": "Analisando FIIS com Python .ipynb",
      "private_outputs": true,
      "provenance": [],
      "authorship_tag": "ABX9TyM2hssWvybk7xEqW1GZfaL5",
      "include_colab_link": true
    },
    "kernelspec": {
      "name": "python3",
      "display_name": "Python 3"
    },
    "language_info": {
      "name": "python"
    }
  },
  "cells": [
    {
      "cell_type": "markdown",
      "metadata": {
        "id": "view-in-github",
        "colab_type": "text"
      },
      "source": [
        "<a href=\"https://colab.research.google.com/github/maicon-reis/financas_quantitativas/blob/main/Analisando_FIIS_com_Python.ipynb\" target=\"_parent\"><img src=\"https://colab.research.google.com/assets/colab-badge.svg\" alt=\"Open In Colab\"/></a>"
      ]
    },
    {
      "cell_type": "markdown",
      "source": [
        "<hr>\n",
        "\n",
        "## **Web Scrapping de FIIS com Python**\n",
        "\n",
        "<hr>"
      ],
      "metadata": {
        "id": "5LMKoFK-1_GM"
      }
    },
    {
      "cell_type": "code",
      "source": [
        "# Instalando as libs\n",
        "!pip install -q requests\n",
        "!pip install -q bs4"
      ],
      "metadata": {
        "id": "843v3qYh1P6b"
      },
      "execution_count": null,
      "outputs": []
    },
    {
      "cell_type": "code",
      "source": [
        "# Bibliotecas utilizadas\n",
        "import pandas as pd\n",
        "import numpy as np\n",
        "import matplotlib.pyplot as plt\n",
        "import seaborn as sns\n",
        "import requests\n",
        "from bs4 import BeautifulSoup\n",
        "import plotly.express as px"
      ],
      "metadata": {
        "id": "YnLvGObb1hlA"
      },
      "execution_count": null,
      "outputs": []
    },
    {
      "cell_type": "code",
      "source": [
        "# Realizando o scraping do site\n",
        "fii_url = 'https://fundsexplorer.com.br/ranking'\n",
        "fii_re = requests.get(fii_url)\n",
        "\n",
        "fii_bs4 = BeautifulSoup(fii_re.text, \"html.parser\")\n",
        "fii_table = fii_bs4.findAll(attrs={\"id\": \"scroll-wrapper\"})[0].findAll('table')\n",
        "fii_df = pd.read_html(str(fii_table[0]))[0]"
      ],
      "metadata": {
        "id": "k37AQ6rc2kOz"
      },
      "execution_count": null,
      "outputs": []
    },
    {
      "cell_type": "code",
      "source": [
        "# Criando uma lista com os tickers dos FIIS\n",
        "fii_lista = fii_df['Códigodo fundo'].to_list()\n",
        "\n",
        "print(f'Foram coletados  {len(fii_lista)} FIIS no ranking do site Funds Explorer.')"
      ],
      "metadata": {
        "id": "PQqZCLe92-FP"
      },
      "execution_count": null,
      "outputs": []
    },
    {
      "cell_type": "code",
      "source": [
        "# Eliminando colunas com mais de 50% de valores faltantes\n",
        "fii_isna = dict(fii_df.isna().sum() / fii_df.shape[0] * 100)\n",
        "\n",
        "for k, v in fii_isna.items():\n",
        "    if fii_isna[k] > 50:\n",
        "        fii_df.drop(k, axis=1, inplace=True)"
      ],
      "metadata": {
        "id": "2dqp8GiRI-8m"
      },
      "execution_count": null,
      "outputs": []
    },
    {
      "cell_type": "code",
      "source": [
        "# Renomeando as colunas\n",
        "fii_df.columns = ['codigo_fundo', 'Setor', 'preco_atual', 'liquidez_diaria',\n",
        "       'dividendo', 'dividend_yield', 'dy_3m_acum', 'dy_6m_acum',\n",
        "       'dy_12m_acum', 'dy_3m_media', 'dy_6m_media', 'dy_12m_media', 'DY Ano',\n",
        "       'var_preco', 'Rent_periodo', 'rent_acum', 'patr_liq', 'vpa', 'p_vpa', \n",
        "       'dy_patr', 'var_patr', 'rent_patr_no_per', 'rent_patr_acum', 'qtd_ativos']"
      ],
      "metadata": {
        "id": "XxEuAjv_5J_B"
      },
      "execution_count": null,
      "outputs": []
    },
    {
      "cell_type": "code",
      "source": [
        "# Tratamento dos dados \n",
        "fii_df = fii_df.replace(to_replace=r'^R\\$ ', value='', regex=True)\n",
        "fii_df = fii_df.replace(to_replace=r'%$', value='', regex=True)\n",
        "\n",
        "fii_df['preco_atual'] = fii_df['preco_atual'].str.replace('.', '')\n",
        "fii_df['patr_liq'] = fii_df['patr_liq'].str.replace('.', '')\n",
        "fii_df['vpa'] = fii_df['vpa'].str.replace('.', '')\n",
        "\n",
        "colunas = ['preco_atual', 'dividendo', 'dividend_yield', 'dy_3m_acum', \n",
        "           'dy_6m_acum', 'dy_12m_acum', 'dy_3m_media', 'dy_6m_media',\n",
        "           'dy_12m_media', 'DY Ano', 'var_preco', 'Rent_periodo', 'rent_acum',\n",
        "           'patr_liq', 'vpa', 'dy_patr', 'var_patr', 'rent_patr_no_per',\n",
        "           'rent_patr_acum']\n",
        "\n",
        "for coluna in colunas:\n",
        "    fii_df[coluna] = fii_df[coluna].str.replace(',', '.')"
      ],
      "metadata": {
        "id": "NEnroDVY7GTi"
      },
      "execution_count": null,
      "outputs": []
    },
    {
      "cell_type": "code",
      "source": [
        "fii_df.info()"
      ],
      "metadata": {
        "id": "SH2nzFxk9U0q"
      },
      "execution_count": null,
      "outputs": []
    },
    {
      "cell_type": "code",
      "source": [
        "# Modificação do tipo de dado de object para float\n",
        "for coluna in colunas:\n",
        "    fii_df[coluna] = fii_df[coluna].astype(float)"
      ],
      "metadata": {
        "id": "5sWqmPuDA3mA"
      },
      "execution_count": null,
      "outputs": []
    },
    {
      "cell_type": "code",
      "source": [
        "# Excluindo os FIIS com dados faltantes.\n",
        "fii_df.dropna(axis=0, inplace=True)"
      ],
      "metadata": {
        "id": "oQEOpOKzBsv7"
      },
      "execution_count": null,
      "outputs": []
    },
    {
      "cell_type": "code",
      "source": [
        "# Resetando o índice após o tratamento dos dados\n",
        "fii_df.reset_index(drop=True, inplace=True)"
      ],
      "metadata": {
        "id": "miagFcHNB2eP"
      },
      "execution_count": null,
      "outputs": []
    },
    {
      "cell_type": "code",
      "source": [
        "# Verificação dos dados\n",
        "fii_df.head()"
      ],
      "metadata": {
        "id": "By6nZT9R4q0J"
      },
      "execution_count": null,
      "outputs": []
    },
    {
      "cell_type": "code",
      "source": [
        "# Fazendo a transposição da tabela para fornecer mais uma forma de visualização.\n",
        "fii_df_transposta = fii_df.transpose()\n",
        "\n",
        "# Verificando os dados\n",
        "fii_df_transposta.head()"
      ],
      "metadata": {
        "id": "RvYmwqKQCILp"
      },
      "execution_count": null,
      "outputs": []
    },
    {
      "cell_type": "markdown",
      "source": [
        "<hr>\n",
        "\n",
        "## **4. Análises Estatísticas exploratórias do FIIs**\n",
        "<hr>"
      ],
      "metadata": {
        "id": "LHcJW4hRPpIa"
      }
    },
    {
      "cell_type": "markdown",
      "source": [
        "4.1. Quanto mais caro maior o DY(12m) Acumulado?"
      ],
      "metadata": {
        "id": "iHYjDIbaP0Cm"
      }
    },
    {
      "cell_type": "code",
      "source": [
        "fig = px.scatter(fii_df, x='preco_atual', y='dy_12m_acum', color='Setor')\n",
        "fig.show()"
      ],
      "metadata": {
        "id": "vtFj2BQRQEmI"
      },
      "execution_count": null,
      "outputs": []
    },
    {
      "cell_type": "code",
      "source": [
        "fii_df['log_preco_atual'] = np.log(fii_df['preco_atual'] + 1)\n",
        "\n",
        "fig = px.scatter(fii_df, x='log_preco_atual', y='dy_12m_acum', color='Setor')\n",
        "fig.show()"
      ],
      "metadata": {
        "id": "zuYvSfgkQSNW"
      },
      "execution_count": null,
      "outputs": []
    },
    {
      "cell_type": "code",
      "source": [
        "fig, ax = plt.subplots(figsize=(15,15))\n",
        "\n",
        "corr_matrix = fii_df.corr(method='spearman')\n",
        "plot = sns.heatmap(corr_matrix, annot=True, fmt='.1f', linewidths=0.7)\n",
        "plt.rcParams.update({'font.size': 10})"
      ],
      "metadata": {
        "id": "wpjg3NgIT7t-"
      },
      "execution_count": null,
      "outputs": []
    },
    {
      "cell_type": "code",
      "source": [
        "pivot_table_FIIs = pd.pivot_table(fii_df, values='dy_12m_acum', index=['Setor'], columns=[]\n",
        "                                  , aggfunc=('mean', 'median'))\n",
        "pivot_table_FIIs.sort_values('mean', ascending=False)"
      ],
      "metadata": {
        "id": "Pv8V8PVgUmJC"
      },
      "execution_count": null,
      "outputs": []
    },
    {
      "cell_type": "code",
      "source": [
        "fii_df['var_patr'] = fii_df['var_patr'] < 100\n",
        "fii_VPA = fii_df[fii_df['var_patr']]\n",
        "fii_VPA"
      ],
      "metadata": {
        "id": "nowiRFjwYX_o"
      },
      "execution_count": null,
      "outputs": []
    },
    {
      "cell_type": "code",
      "source": [
        "# Dividen Yield Maior que 10%\n",
        "fii_VPA_Select = fii_VPA[fii_VPA['dy_12m_acum'] > 12.75][fii_VPA['liquidez_diaria'] > fii_VPA['liquidez_diaria'].median()]\n",
        "fii_VPA_Select"
      ],
      "metadata": {
        "id": "HGtocUJ4a8QX"
      },
      "execution_count": null,
      "outputs": []
    }
  ]
}