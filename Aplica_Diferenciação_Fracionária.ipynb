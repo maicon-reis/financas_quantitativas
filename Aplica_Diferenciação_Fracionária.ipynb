{
  "cells": [
    {
      "cell_type": "markdown",
      "metadata": {
        "id": "view-in-github",
        "colab_type": "text"
      },
      "source": [
        "<a href=\"https://colab.research.google.com/github/maicon-reis/financas_quantitativas/blob/main/Aplica_Diferencia%C3%A7%C3%A3o_Fracion%C3%A1ria.ipynb\" target=\"_parent\"><img src=\"https://colab.research.google.com/assets/colab-badge.svg\" alt=\"Open In Colab\"/></a>"
      ]
    },
    {
      "cell_type": "code",
      "execution_count": null,
      "metadata": {
        "colab": {
          "base_uri": "https://localhost:8080/"
        },
        "id": "OsFM_6FsFyH4",
        "outputId": "b241aceb-1262-49a3-df4e-87837f827709"
      },
      "outputs": [
        {
          "output_type": "stream",
          "name": "stderr",
          "text": [
            "/usr/local/lib/python3.7/dist-packages/statsmodels/tools/_testing.py:19: FutureWarning: pandas.util.testing is deprecated. Use the functions in the public API at pandas.testing instead.\n",
            "  import pandas.util.testing as tm\n"
          ]
        }
      ],
      "source": [
        "# Importando as bibliotecas\n",
        "import pandas as pd\n",
        "import numpy as np\n",
        "from statsmodels.tsa.stattools import adfuller\n",
        "import matplotlib.pyplot as plt"
      ]
    },
    {
      "cell_type": "markdown",
      "metadata": {
        "id": "6j2NI7MtFyH8"
      },
      "source": [
        "### **Funções Utilizadas**"
      ]
    },
    {
      "cell_type": "code",
      "execution_count": null,
      "metadata": {
        "id": "_iNEjf6MFyH_"
      },
      "outputs": [],
      "source": [
        "# Função que calcula o array de pesos para a Diferenciação Fracionária\n",
        "def calcula_pesos(d, lim = 0.01): # Lim exclui pesos insignificantes\n",
        "        w = [1.]\n",
        "        k = 1\n",
        "        while abs(w[-1]) >= lim:\n",
        "            w_ = -w[-1] / k * (d - k + 1)\n",
        "            w.append(w_)\n",
        "            k += 1\n",
        "        w = np.array(w[::-1]).reshape(-1, 1)[1:]\n",
        "        return w\n",
        "\n",
        "# Função que aplica a array de pesos sobre a base de dados original\n",
        "def fracDiff(series, d, lim=0.01):\n",
        "    w = calcula_pesos(d, lim)\n",
        "    tam = len(w) - 1\n",
        "    df = {}\n",
        "    for nome in series.columns:\n",
        "        seriesF = series[[nome]].fillna(method = 'ffill').dropna()\n",
        "        df_ = pd.Series()\n",
        "        for iloc1 in range(tam, seriesF.shape[0]):\n",
        "            loc0 = seriesF.index[iloc1 - tam]\n",
        "            loc1 = seriesF.index[iloc1]\n",
        "            if not np.isfinite(series.loc[loc1, nome]):\n",
        "                continue\n",
        "            df_[loc1] = np.dot(w.T, seriesF.loc[loc0 : loc1])[0, 0]\n",
        "        df[nome] = df_.copy(deep = True)\n",
        "    df = pd.concat(df, axis = 1)\n",
        "    return df\n",
        "\n",
        "# Função que calcula o menor fator de diferenciação fracionária\n",
        "def det_min_d(series, lim=0.01):\n",
        "    res = pd.DataFrame(columns = ['adfStat', 'pVal', 'lags', 'nObs'\n",
        "                                , '95% conf', 'corr'])\n",
        "        \n",
        "    for d in np.linspace(0, 1, 11):\n",
        "        df1 = np.log(series) #.resample('1D').last()\n",
        "        df2 = fracDiff(df1, d, lim)\n",
        "        corr = np.corrcoef(df1.loc[df2.index, \"Adj Close\"]\n",
        "                           , df2[\"Adj Close\"])[0, 1]\n",
        "        adf = adfuller(df2['Adj Close'], maxlag = 1, regression = 'c'\n",
        "                        , autolag = None)\n",
        "        res.loc[d] = list(adf[ : 4]) + [adf[4]['5%']] + [corr]\n",
        "        \n",
        "    min_d = res[res['pVal'] < 0.05].index[0]\n",
        "    return res, min_d\n",
        "\n",
        "# Funçao que faz o cálculo do zscore para reduzir a heterocedasticidade\n",
        "def reduz_heterocedasticiade(df):\n",
        "    v = list()\n",
        "    ret_desvios = [1]\n",
        "    v.append(abs(df['log_ret_diff'].iloc[0]))\n",
        "    for i in range(1,len(df['log_ret_diff'])):\n",
        "        v.append(np.sqrt(0.94*v[-1]*v[-1] + (1-0.94) * df['log_ret_diff'].iloc[i] * df['log_ret_diff'].iloc[i]))\n",
        "        ret_desvios.append((df['log_ret_diff'].iloc[i]-sum(df['log_ret_diff'].iloc[0:i])/len(df['log_ret_diff'].iloc[0:i]))/v[i-1])\n",
        "    df['log_ret_diff'] = ret_desvios\n",
        "    return df\n",
        "\n",
        "# criando função para realizar o teste de adfuler\n",
        "def teste_adfuller(data):\n",
        "    resultados = adfuller(data, maxlag = 1, regression = 'c', autolag = None)\n",
        "    rotulos    = ['Teste estatístico ADF', 'p-value', '#lags', 'no de observações usadas']\n",
        "    \n",
        "    for valor, rotulo in zip(resultados, rotulos):\n",
        "        print('{}: {}'.format(rotulo, valor))\n",
        "    \n",
        "    if resultados[1]>0.05:\n",
        "        print('Falhou em rejeitar a hipótese nula, os dados são NÃO ESTACIONÁRIOS.')\n",
        "    else:\n",
        "        print('Rejeitamos a hipótese nula, os dados são ESTACIONÁRIOS.')\n",
        "    \n",
        "    return None"
      ]
    },
    {
      "cell_type": "code",
      "execution_count": null,
      "metadata": {
        "colab": {
          "base_uri": "https://localhost:8080/",
          "height": 238
        },
        "id": "PqMpgfNJFyIB",
        "outputId": "cc8b4de6-4a4f-40b2-a1f7-38289c324a32"
      },
      "outputs": [
        {
          "output_type": "execute_result",
          "data": {
            "text/plain": [
              "               Open     High      Low    Close  Adj Close\n",
              "Date                                                     \n",
              "2000-01-03  17098.0  17408.0  16719.0  16930.0    16930.0\n",
              "2000-01-04  16908.0  16908.0  15851.0  15851.0    15851.0\n",
              "2000-01-05  15871.0  16302.0  15350.0  16245.0    16245.0\n",
              "2000-01-06  16237.0  16499.0  15977.0  16107.0    16107.0\n",
              "2000-01-07  16125.0  16449.0  16125.0  16309.0    16309.0"
            ],
            "text/html": [
              "\n",
              "  <div id=\"df-ff9ca4d5-14e5-49fe-a6c2-2ab364aff384\">\n",
              "    <div class=\"colab-df-container\">\n",
              "      <div>\n",
              "<style scoped>\n",
              "    .dataframe tbody tr th:only-of-type {\n",
              "        vertical-align: middle;\n",
              "    }\n",
              "\n",
              "    .dataframe tbody tr th {\n",
              "        vertical-align: top;\n",
              "    }\n",
              "\n",
              "    .dataframe thead th {\n",
              "        text-align: right;\n",
              "    }\n",
              "</style>\n",
              "<table border=\"1\" class=\"dataframe\">\n",
              "  <thead>\n",
              "    <tr style=\"text-align: right;\">\n",
              "      <th></th>\n",
              "      <th>Open</th>\n",
              "      <th>High</th>\n",
              "      <th>Low</th>\n",
              "      <th>Close</th>\n",
              "      <th>Adj Close</th>\n",
              "    </tr>\n",
              "    <tr>\n",
              "      <th>Date</th>\n",
              "      <th></th>\n",
              "      <th></th>\n",
              "      <th></th>\n",
              "      <th></th>\n",
              "      <th></th>\n",
              "    </tr>\n",
              "  </thead>\n",
              "  <tbody>\n",
              "    <tr>\n",
              "      <th>2000-01-03</th>\n",
              "      <td>17098.0</td>\n",
              "      <td>17408.0</td>\n",
              "      <td>16719.0</td>\n",
              "      <td>16930.0</td>\n",
              "      <td>16930.0</td>\n",
              "    </tr>\n",
              "    <tr>\n",
              "      <th>2000-01-04</th>\n",
              "      <td>16908.0</td>\n",
              "      <td>16908.0</td>\n",
              "      <td>15851.0</td>\n",
              "      <td>15851.0</td>\n",
              "      <td>15851.0</td>\n",
              "    </tr>\n",
              "    <tr>\n",
              "      <th>2000-01-05</th>\n",
              "      <td>15871.0</td>\n",
              "      <td>16302.0</td>\n",
              "      <td>15350.0</td>\n",
              "      <td>16245.0</td>\n",
              "      <td>16245.0</td>\n",
              "    </tr>\n",
              "    <tr>\n",
              "      <th>2000-01-06</th>\n",
              "      <td>16237.0</td>\n",
              "      <td>16499.0</td>\n",
              "      <td>15977.0</td>\n",
              "      <td>16107.0</td>\n",
              "      <td>16107.0</td>\n",
              "    </tr>\n",
              "    <tr>\n",
              "      <th>2000-01-07</th>\n",
              "      <td>16125.0</td>\n",
              "      <td>16449.0</td>\n",
              "      <td>16125.0</td>\n",
              "      <td>16309.0</td>\n",
              "      <td>16309.0</td>\n",
              "    </tr>\n",
              "  </tbody>\n",
              "</table>\n",
              "</div>\n",
              "      <button class=\"colab-df-convert\" onclick=\"convertToInteractive('df-ff9ca4d5-14e5-49fe-a6c2-2ab364aff384')\"\n",
              "              title=\"Convert this dataframe to an interactive table.\"\n",
              "              style=\"display:none;\">\n",
              "        \n",
              "  <svg xmlns=\"http://www.w3.org/2000/svg\" height=\"24px\"viewBox=\"0 0 24 24\"\n",
              "       width=\"24px\">\n",
              "    <path d=\"M0 0h24v24H0V0z\" fill=\"none\"/>\n",
              "    <path d=\"M18.56 5.44l.94 2.06.94-2.06 2.06-.94-2.06-.94-.94-2.06-.94 2.06-2.06.94zm-11 1L8.5 8.5l.94-2.06 2.06-.94-2.06-.94L8.5 2.5l-.94 2.06-2.06.94zm10 10l.94 2.06.94-2.06 2.06-.94-2.06-.94-.94-2.06-.94 2.06-2.06.94z\"/><path d=\"M17.41 7.96l-1.37-1.37c-.4-.4-.92-.59-1.43-.59-.52 0-1.04.2-1.43.59L10.3 9.45l-7.72 7.72c-.78.78-.78 2.05 0 2.83L4 21.41c.39.39.9.59 1.41.59.51 0 1.02-.2 1.41-.59l7.78-7.78 2.81-2.81c.8-.78.8-2.07 0-2.86zM5.41 20L4 18.59l7.72-7.72 1.47 1.35L5.41 20z\"/>\n",
              "  </svg>\n",
              "      </button>\n",
              "      \n",
              "  <style>\n",
              "    .colab-df-container {\n",
              "      display:flex;\n",
              "      flex-wrap:wrap;\n",
              "      gap: 12px;\n",
              "    }\n",
              "\n",
              "    .colab-df-convert {\n",
              "      background-color: #E8F0FE;\n",
              "      border: none;\n",
              "      border-radius: 50%;\n",
              "      cursor: pointer;\n",
              "      display: none;\n",
              "      fill: #1967D2;\n",
              "      height: 32px;\n",
              "      padding: 0 0 0 0;\n",
              "      width: 32px;\n",
              "    }\n",
              "\n",
              "    .colab-df-convert:hover {\n",
              "      background-color: #E2EBFA;\n",
              "      box-shadow: 0px 1px 2px rgba(60, 64, 67, 0.3), 0px 1px 3px 1px rgba(60, 64, 67, 0.15);\n",
              "      fill: #174EA6;\n",
              "    }\n",
              "\n",
              "    [theme=dark] .colab-df-convert {\n",
              "      background-color: #3B4455;\n",
              "      fill: #D2E3FC;\n",
              "    }\n",
              "\n",
              "    [theme=dark] .colab-df-convert:hover {\n",
              "      background-color: #434B5C;\n",
              "      box-shadow: 0px 1px 3px 1px rgba(0, 0, 0, 0.15);\n",
              "      filter: drop-shadow(0px 1px 2px rgba(0, 0, 0, 0.3));\n",
              "      fill: #FFFFFF;\n",
              "    }\n",
              "  </style>\n",
              "\n",
              "      <script>\n",
              "        const buttonEl =\n",
              "          document.querySelector('#df-ff9ca4d5-14e5-49fe-a6c2-2ab364aff384 button.colab-df-convert');\n",
              "        buttonEl.style.display =\n",
              "          google.colab.kernel.accessAllowed ? 'block' : 'none';\n",
              "\n",
              "        async function convertToInteractive(key) {\n",
              "          const element = document.querySelector('#df-ff9ca4d5-14e5-49fe-a6c2-2ab364aff384');\n",
              "          const dataTable =\n",
              "            await google.colab.kernel.invokeFunction('convertToInteractive',\n",
              "                                                     [key], {});\n",
              "          if (!dataTable) return;\n",
              "\n",
              "          const docLinkHtml = 'Like what you see? Visit the ' +\n",
              "            '<a target=\"_blank\" href=https://colab.research.google.com/notebooks/data_table.ipynb>data table notebook</a>'\n",
              "            + ' to learn more about interactive tables.';\n",
              "          element.innerHTML = '';\n",
              "          dataTable['output_type'] = 'display_data';\n",
              "          await google.colab.output.renderOutput(dataTable, element);\n",
              "          const docLink = document.createElement('div');\n",
              "          docLink.innerHTML = docLinkHtml;\n",
              "          element.appendChild(docLink);\n",
              "        }\n",
              "      </script>\n",
              "    </div>\n",
              "  </div>\n",
              "  "
            ]
          },
          "metadata": {},
          "execution_count": 4
        }
      ],
      "source": [
        "# Importando a base de dados\n",
        "csv_file = \"https://raw.githubusercontent.com/maicon-reis/financas_quantitativas/main/arquivos/ibov-2000_2021\"\n",
        "\n",
        "# Criando um dataframe\n",
        "df = pd.read_csv(csv_file, usecols=[\"Date\", \"Open\", \"High\", \"Low\", \"Close\", \"Adj Close\"])\n",
        "\n",
        "# Modificando o formato da data\n",
        "pd.to_datetime(df[\"Date\"])\n",
        "\n",
        "# Configurando a data como índice\n",
        "df.set_index(\"Date\", inplace=True)\n",
        "\n",
        "# Verificando a base de dados\n",
        "df.head()"
      ]
    },
    {
      "cell_type": "code",
      "execution_count": null,
      "metadata": {
        "colab": {
          "base_uri": "https://localhost:8080/"
        },
        "id": "9ONc0uXxFyID",
        "outputId": "939d9a21-2612-44fd-cd96-454f235b5cde"
      },
      "outputs": [
        {
          "output_type": "stream",
          "name": "stderr",
          "text": [
            "/usr/local/lib/python3.7/dist-packages/ipykernel_launcher.py:19: DeprecationWarning: The default dtype for empty Series will be 'object' instead of 'float64' in a future version. Specify a dtype explicitly to silence this warning.\n"
          ]
        }
      ],
      "source": [
        "# Calculando o menor fator de diferenciação fracionária\n",
        "out, min_d = det_min_d(df[['Adj Close']])"
      ]
    },
    {
      "cell_type": "code",
      "execution_count": null,
      "metadata": {
        "colab": {
          "base_uri": "https://localhost:8080/"
        },
        "id": "uhVrHclbFyIE",
        "outputId": "151f5a6c-04eb-49dd-8f54-aab05aaa5dc1"
      },
      "outputs": [
        {
          "output_type": "stream",
          "name": "stderr",
          "text": [
            "/usr/local/lib/python3.7/dist-packages/ipykernel_launcher.py:19: DeprecationWarning: The default dtype for empty Series will be 'object' instead of 'float64' in a future version. Specify a dtype explicitly to silence this warning.\n"
          ]
        }
      ],
      "source": [
        "# Transformando a base de dados com o fator de diferenciação fracionário\n",
        "df['log_ret_frac'] = fracDiff(df[['Adj Close']], min_d)"
      ]
    },
    {
      "cell_type": "code",
      "execution_count": null,
      "metadata": {
        "id": "HRsHzwVkFyIF"
      },
      "outputs": [],
      "source": [
        "# Transformando a base de dados com o fator de diferenciação inteiro\n",
        "d = 1\n",
        "df['log_ret_int'] = np.log(df['Adj Close']).diff(d)"
      ]
    },
    {
      "cell_type": "code",
      "execution_count": null,
      "metadata": {
        "colab": {
          "base_uri": "https://localhost:8080/",
          "height": 238
        },
        "id": "Q178TtTaFyIF",
        "outputId": "e953ff46-88ea-4f38-f3b7-a7529bae6050"
      },
      "outputs": [
        {
          "output_type": "execute_result",
          "data": {
            "text/plain": [
              "               Open     High      Low    Close  Adj Close  log_ret_frac  \\\n",
              "Date                                                                      \n",
              "2000-01-17  17678.0  18099.0  17678.0  18053.0    18053.0   5345.464089   \n",
              "2000-01-18  18062.0  18062.0  17625.0  17903.0    17903.0   4951.139458   \n",
              "2000-01-19  17905.0  18075.0  17470.0  17470.0    17470.0   4469.632402   \n",
              "2000-01-20  17487.0  17622.0  17029.0  17177.0    17177.0   4302.544726   \n",
              "2000-01-21  17188.0  17372.0  16901.0  17034.0    17034.0   4290.100295   \n",
              "\n",
              "            log_ret_int  \n",
              "Date                     \n",
              "2000-01-17     0.022123  \n",
              "2000-01-18    -0.008344  \n",
              "2000-01-19    -0.024483  \n",
              "2000-01-20    -0.016914  \n",
              "2000-01-21    -0.008360  "
            ],
            "text/html": [
              "\n",
              "  <div id=\"df-e51cd61b-7fc5-45a9-9f57-2b9152012e1b\">\n",
              "    <div class=\"colab-df-container\">\n",
              "      <div>\n",
              "<style scoped>\n",
              "    .dataframe tbody tr th:only-of-type {\n",
              "        vertical-align: middle;\n",
              "    }\n",
              "\n",
              "    .dataframe tbody tr th {\n",
              "        vertical-align: top;\n",
              "    }\n",
              "\n",
              "    .dataframe thead th {\n",
              "        text-align: right;\n",
              "    }\n",
              "</style>\n",
              "<table border=\"1\" class=\"dataframe\">\n",
              "  <thead>\n",
              "    <tr style=\"text-align: right;\">\n",
              "      <th></th>\n",
              "      <th>Open</th>\n",
              "      <th>High</th>\n",
              "      <th>Low</th>\n",
              "      <th>Close</th>\n",
              "      <th>Adj Close</th>\n",
              "      <th>log_ret_frac</th>\n",
              "      <th>log_ret_int</th>\n",
              "    </tr>\n",
              "    <tr>\n",
              "      <th>Date</th>\n",
              "      <th></th>\n",
              "      <th></th>\n",
              "      <th></th>\n",
              "      <th></th>\n",
              "      <th></th>\n",
              "      <th></th>\n",
              "      <th></th>\n",
              "    </tr>\n",
              "  </thead>\n",
              "  <tbody>\n",
              "    <tr>\n",
              "      <th>2000-01-17</th>\n",
              "      <td>17678.0</td>\n",
              "      <td>18099.0</td>\n",
              "      <td>17678.0</td>\n",
              "      <td>18053.0</td>\n",
              "      <td>18053.0</td>\n",
              "      <td>5345.464089</td>\n",
              "      <td>0.022123</td>\n",
              "    </tr>\n",
              "    <tr>\n",
              "      <th>2000-01-18</th>\n",
              "      <td>18062.0</td>\n",
              "      <td>18062.0</td>\n",
              "      <td>17625.0</td>\n",
              "      <td>17903.0</td>\n",
              "      <td>17903.0</td>\n",
              "      <td>4951.139458</td>\n",
              "      <td>-0.008344</td>\n",
              "    </tr>\n",
              "    <tr>\n",
              "      <th>2000-01-19</th>\n",
              "      <td>17905.0</td>\n",
              "      <td>18075.0</td>\n",
              "      <td>17470.0</td>\n",
              "      <td>17470.0</td>\n",
              "      <td>17470.0</td>\n",
              "      <td>4469.632402</td>\n",
              "      <td>-0.024483</td>\n",
              "    </tr>\n",
              "    <tr>\n",
              "      <th>2000-01-20</th>\n",
              "      <td>17487.0</td>\n",
              "      <td>17622.0</td>\n",
              "      <td>17029.0</td>\n",
              "      <td>17177.0</td>\n",
              "      <td>17177.0</td>\n",
              "      <td>4302.544726</td>\n",
              "      <td>-0.016914</td>\n",
              "    </tr>\n",
              "    <tr>\n",
              "      <th>2000-01-21</th>\n",
              "      <td>17188.0</td>\n",
              "      <td>17372.0</td>\n",
              "      <td>16901.0</td>\n",
              "      <td>17034.0</td>\n",
              "      <td>17034.0</td>\n",
              "      <td>4290.100295</td>\n",
              "      <td>-0.008360</td>\n",
              "    </tr>\n",
              "  </tbody>\n",
              "</table>\n",
              "</div>\n",
              "      <button class=\"colab-df-convert\" onclick=\"convertToInteractive('df-e51cd61b-7fc5-45a9-9f57-2b9152012e1b')\"\n",
              "              title=\"Convert this dataframe to an interactive table.\"\n",
              "              style=\"display:none;\">\n",
              "        \n",
              "  <svg xmlns=\"http://www.w3.org/2000/svg\" height=\"24px\"viewBox=\"0 0 24 24\"\n",
              "       width=\"24px\">\n",
              "    <path d=\"M0 0h24v24H0V0z\" fill=\"none\"/>\n",
              "    <path d=\"M18.56 5.44l.94 2.06.94-2.06 2.06-.94-2.06-.94-.94-2.06-.94 2.06-2.06.94zm-11 1L8.5 8.5l.94-2.06 2.06-.94-2.06-.94L8.5 2.5l-.94 2.06-2.06.94zm10 10l.94 2.06.94-2.06 2.06-.94-2.06-.94-.94-2.06-.94 2.06-2.06.94z\"/><path d=\"M17.41 7.96l-1.37-1.37c-.4-.4-.92-.59-1.43-.59-.52 0-1.04.2-1.43.59L10.3 9.45l-7.72 7.72c-.78.78-.78 2.05 0 2.83L4 21.41c.39.39.9.59 1.41.59.51 0 1.02-.2 1.41-.59l7.78-7.78 2.81-2.81c.8-.78.8-2.07 0-2.86zM5.41 20L4 18.59l7.72-7.72 1.47 1.35L5.41 20z\"/>\n",
              "  </svg>\n",
              "      </button>\n",
              "      \n",
              "  <style>\n",
              "    .colab-df-container {\n",
              "      display:flex;\n",
              "      flex-wrap:wrap;\n",
              "      gap: 12px;\n",
              "    }\n",
              "\n",
              "    .colab-df-convert {\n",
              "      background-color: #E8F0FE;\n",
              "      border: none;\n",
              "      border-radius: 50%;\n",
              "      cursor: pointer;\n",
              "      display: none;\n",
              "      fill: #1967D2;\n",
              "      height: 32px;\n",
              "      padding: 0 0 0 0;\n",
              "      width: 32px;\n",
              "    }\n",
              "\n",
              "    .colab-df-convert:hover {\n",
              "      background-color: #E2EBFA;\n",
              "      box-shadow: 0px 1px 2px rgba(60, 64, 67, 0.3), 0px 1px 3px 1px rgba(60, 64, 67, 0.15);\n",
              "      fill: #174EA6;\n",
              "    }\n",
              "\n",
              "    [theme=dark] .colab-df-convert {\n",
              "      background-color: #3B4455;\n",
              "      fill: #D2E3FC;\n",
              "    }\n",
              "\n",
              "    [theme=dark] .colab-df-convert:hover {\n",
              "      background-color: #434B5C;\n",
              "      box-shadow: 0px 1px 3px 1px rgba(0, 0, 0, 0.15);\n",
              "      filter: drop-shadow(0px 1px 2px rgba(0, 0, 0, 0.3));\n",
              "      fill: #FFFFFF;\n",
              "    }\n",
              "  </style>\n",
              "\n",
              "      <script>\n",
              "        const buttonEl =\n",
              "          document.querySelector('#df-e51cd61b-7fc5-45a9-9f57-2b9152012e1b button.colab-df-convert');\n",
              "        buttonEl.style.display =\n",
              "          google.colab.kernel.accessAllowed ? 'block' : 'none';\n",
              "\n",
              "        async function convertToInteractive(key) {\n",
              "          const element = document.querySelector('#df-e51cd61b-7fc5-45a9-9f57-2b9152012e1b');\n",
              "          const dataTable =\n",
              "            await google.colab.kernel.invokeFunction('convertToInteractive',\n",
              "                                                     [key], {});\n",
              "          if (!dataTable) return;\n",
              "\n",
              "          const docLinkHtml = 'Like what you see? Visit the ' +\n",
              "            '<a target=\"_blank\" href=https://colab.research.google.com/notebooks/data_table.ipynb>data table notebook</a>'\n",
              "            + ' to learn more about interactive tables.';\n",
              "          element.innerHTML = '';\n",
              "          dataTable['output_type'] = 'display_data';\n",
              "          await google.colab.output.renderOutput(dataTable, element);\n",
              "          const docLink = document.createElement('div');\n",
              "          docLink.innerHTML = docLinkHtml;\n",
              "          element.appendChild(docLink);\n",
              "        }\n",
              "      </script>\n",
              "    </div>\n",
              "  </div>\n",
              "  "
            ]
          },
          "metadata": {},
          "execution_count": 10
        }
      ],
      "source": [
        "# Eliminando as linhas que contém elementos faltantes \n",
        "df.dropna(axis=0, inplace=True)\n",
        "\n",
        "# Verificando dados\n",
        "df.head()"
      ]
    },
    {
      "cell_type": "code",
      "execution_count": null,
      "metadata": {
        "colab": {
          "base_uri": "https://localhost:8080/"
        },
        "id": "pOkYpZBjFyIG",
        "outputId": "9d1bd5e4-bfc6-44c9-d6f1-be71acd9d199"
      },
      "outputs": [
        {
          "output_type": "stream",
          "name": "stdout",
          "text": [
            "Teste estatístico ADF: -3.4609646405723904\n",
            "p-value: 0.009048057482653936\n",
            "#lags: 1\n",
            "no de observações usadas: 5429\n",
            "Rejeitamos a hipótese nula, os dados são ESTACIONÁRIOS.\n"
          ]
        }
      ],
      "source": [
        "# Verificando a estacionariedade da base de dados com diferenciação fracionária\n",
        "teste_adfuller(df['log_ret_frac'])"
      ]
    },
    {
      "cell_type": "code",
      "execution_count": null,
      "metadata": {
        "colab": {
          "base_uri": "https://localhost:8080/"
        },
        "id": "qQhxG785FyIH",
        "outputId": "c0f4432f-d8dc-4c78-fd18-5b66561729e6"
      },
      "outputs": [
        {
          "output_type": "stream",
          "name": "stdout",
          "text": [
            "Teste estatístico ADF: -52.92899875102156\n",
            "p-value: 0.0\n",
            "#lags: 1\n",
            "no de observações usadas: 5429\n",
            "Rejeitamos a hipótese nula, os dados são ESTACIONÁRIOS.\n"
          ]
        }
      ],
      "source": [
        "# Verificando a estacionariedade da base de dados com diferenciação inteira\n",
        "teste_adfuller(df['log_ret_int'])"
      ]
    },
    {
      "cell_type": "code",
      "execution_count": null,
      "metadata": {
        "colab": {
          "base_uri": "https://localhost:8080/",
          "height": 374
        },
        "id": "Vv8mO0WgFyII",
        "outputId": "1763cb06-8760-4b51-db2a-c33e122b21e7"
      },
      "outputs": [
        {
          "output_type": "stream",
          "name": "stdout",
          "text": [
            "Correlação entre Diferenciação Inteira e Fracionária com a Base de Dados Original\n",
            "\n",
            "Diferenciação Inteira: 1.19%\n",
            "Diferenciação Fracionária: 99.45%\n",
            "\n"
          ]
        },
        {
          "output_type": "display_data",
          "data": {
            "text/plain": [
              "<Figure size 504x288 with 1 Axes>"
            ],
            "image/png": "[encoded data removed]"
          },
          "metadata": {
            "needs_background": "light"
          }
        }
      ],
      "source": [
        "df_ = df[['Adj Close', 'log_ret_frac', 'log_ret_int', ]]\n",
        "\n",
        "print('Correlação entre Diferenciação Inteira e Fracionária com a Base de Dados Original')\n",
        "print()\n",
        "print('Diferenciação Inteira: {}%'.format(round(df_.corr()['Adj Close'][1:][1]*100, 2)))\n",
        "print('Diferenciação Fracionária: {}%'.format(round(df_.corr()['Adj Close'][1:][0]*100, 2)))\n",
        "print()\n",
        "\n",
        "with plt.style.context(\"seaborn-deep\"):\n",
        "    cores = ['#4D3425','#E4512B']\n",
        "    plt.figure(figsize=(7, 4))\n",
        "    df_.corr()['Adj Close'][1:].plot(kind='bar', color = cores, stacked=True, rot=0)\n",
        "    plt.title('Correlação entre Dif. Fracionária e Dif. Inteira com Adj Close')\n",
        "    plt.ylabel('% de Correlação')\n",
        "\n",
        "    total = []\n",
        "    plt.show()"
      ]
    },
    {
      "cell_type": "code",
      "execution_count": null,
      "metadata": {
        "id": "ycwZASVOFyII",
        "outputId": "c22f0bdf-bddf-40d1-e8f0-223a15dfe2ae"
      },
      "outputs": [
        {
          "data": {
            "image/png": "[encoded data removed]",
            "text/plain": [
              "<Figure size 864x360 with 1 Axes>"
            ]
          },
          "metadata": {
            "needs_background": "light"
          },
          "output_type": "display_data"
        }
      ],
      "source": [
        "df[['log_ret_diff']].plot(figsize=(12,5));"
      ]
    },
    {
      "cell_type": "code",
      "execution_count": null,
      "metadata": {
        "id": "W2mS18X3FyIJ",
        "outputId": "a0886bfa-3ca8-4678-b57b-3d3b2af01055"
      },
      "outputs": [
        {
          "data": {
            "image/png": "[encoded data removed]",
            "text/plain": [
              "<Figure size 864x360 with 1 Axes>"
            ]
          },
          "metadata": {
            "needs_background": "light"
          },
          "output_type": "display_data"
        }
      ],
      "source": [
        "df[['log_ret_diff']].hist(figsize=(12,5));"
      ]
    },
    {
      "cell_type": "code",
      "execution_count": null,
      "metadata": {
        "id": "1weRitEVFyIJ"
      },
      "outputs": [],
      "source": [
        "# Reduzindo a heterocedasticidade com zscore\n",
        "def reduz_heterocedasticiade(df):\n",
        "    v = list()\n",
        "    ret_desvios = [1]\n",
        "    v.append(abs(df['log_ret_diff'].iloc[0]))\n",
        "    for i in range(1,len(df['log_ret_diff'])):\n",
        "        v.append(np.sqrt(0.94*v[-1]*v[-1] + (1-0.94) * df['log_ret_diff'].iloc[i] * df['log_ret_diff'].iloc[i]))\n",
        "        ret_desvios.append((df['log_ret_diff'].iloc[i]-sum(df['log_ret_diff'].iloc[0:i])/len(df['log_ret_diff'].iloc[0:i]))/v[i-1])\n",
        "    df['log_ret_diff'] = ret_desvios\n",
        "    return df"
      ]
    },
    {
      "cell_type": "code",
      "execution_count": null,
      "metadata": {
        "id": "owfgJ9eLFyIK"
      },
      "outputs": [],
      "source": [
        "# Reduzindo a heterocedasticidade da base de dados com transformação fracionária\n",
        "df = reduz_heterocedasticiade(df)"
      ]
    },
    {
      "cell_type": "code",
      "execution_count": null,
      "metadata": {
        "id": "lz67stmSFyIK",
        "outputId": "059b835f-b451-4518-b5be-324116cc1e95"
      },
      "outputs": [
        {
          "data": {
            "image/png": "[encoded data removed]",
            "text/plain": [
              "<Figure size 864x360 with 1 Axes>"
            ]
          },
          "metadata": {
            "needs_background": "light"
          },
          "output_type": "display_data"
        }
      ],
      "source": [
        "# Visualizando o gráfico de retornos da diferenciação fracionária\n",
        "df[['log_ret_diff']].plot(figsize=(12,5));"
      ]
    },
    {
      "cell_type": "code",
      "execution_count": null,
      "metadata": {
        "id": "KuabQkscFyIL",
        "outputId": "5c1c9508-80bf-4302-af9f-2b2d5dace874"
      },
      "outputs": [
        {
          "data": {
            "image/png": "[encoded data removed]",
            "text/plain": [
              "<Figure size 864x360 with 1 Axes>"
            ]
          },
          "metadata": {
            "needs_background": "light"
          },
          "output_type": "display_data"
        }
      ],
      "source": [
        "# Visualizando o gráfico de retornos da diferenciação inteira\n",
        "df[['log_ret_int']].plot(figsize=(12,5));"
      ]
    }
  ],
  "metadata": {
    "kernelspec": {
      "display_name": "Python 3",
      "language": "python",
      "name": "python3"
    },
    "language_info": {
      "codemirror_mode": {
        "name": "ipython",
        "version": 3
      },
      "file_extension": ".py",
      "mimetype": "text/x-python",
      "name": "python",
      "nbconvert_exporter": "python",
      "pygments_lexer": "ipython3",
      "version": "3.8.5"
    },
    "orig_nbformat": 4,
    "colab": {
      "name": "Aplica_Diferenciação_Fracionária.ipynb",
      "provenance": [],
      "include_colab_link": true
    }
  },
  "nbformat": 4,
  "nbformat_minor": 0
}