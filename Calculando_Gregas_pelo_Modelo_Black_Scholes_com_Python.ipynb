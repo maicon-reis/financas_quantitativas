{
  "nbformat": 4,
  "nbformat_minor": 0,
  "metadata": {
    "colab": {
      "private_outputs": true,
      "provenance": [],
      "collapsed_sections": [],
      "authorship_tag": "ABX9TyNFXAjBJ9Vs36ElGlxYWAxK",
      "include_colab_link": true
    },
    "kernelspec": {
      "name": "python3",
      "display_name": "Python 3"
    },
    "language_info": {
      "name": "python"
    }
  },
  "cells": [
    {
      "cell_type": "markdown",
      "metadata": {
        "id": "view-in-github",
        "colab_type": "text"
      },
      "source": [
        "<a href=\"https://colab.research.google.com/github/maicon-reis/financas_quantitativas/blob/main/Calculando_Gregas_pelo_Modelo_Black_Scholes_com_Python.ipynb\" target=\"_parent\"><img src=\"https://colab.research.google.com/assets/colab-badge.svg\" alt=\"Open In Colab\"/></a>"
      ]
    },
    {
      "cell_type": "code",
      "source": [
        "# Implementandos as bibliotecas utilizadas\n",
        "import numpy as np\n",
        "from scipy.stats import norm"
      ],
      "metadata": {
        "id": "bgBrUQm0tauf"
      },
      "execution_count": null,
      "outputs": []
    },
    {
      "cell_type": "code",
      "source": [
        "# Define varibles\n",
        "r = 0.01\n",
        "S = 30.00\n",
        "X = 40.00\n",
        "T = 240/252\n",
        "sigma = 0.3"
      ],
      "metadata": {
        "id": "wKzxfMdctdC-"
      },
      "execution_count": null,
      "outputs": []
    },
    {
      "cell_type": "code",
      "source": [
        "def confIni(r, S, X, T, sigma):\n",
        "    d1 = (np.log(S/X) + (r + sigma**2/2)*T)/(sigma*np.sqrt(T))\n",
        "    d2 = d1 - sigma*np.sqrt(T)\n",
        "    x_e = np.exp(-r*T)\n",
        "    return d1, d2, x_e\n",
        "\n",
        "def blackScholes(r, S, X, T, sigma, tipo=\"c\"):\n",
        "    '''Calcula o Preço Justo pelo modelo de Black-Scholes da Call e da Put.\n",
        "       Parâmetros:\n",
        "            r: taxa de juros\n",
        "            S: Preço atual do ativo-objeto\n",
        "            X: Strike (Preço de Exercício)\n",
        "            T: Tempo (em dias)\n",
        "            sigma: Volatilidade\n",
        "            tip: c - Call ou p - Put\n",
        "    '''\n",
        "    d1, d2, x_e = confIni(r, S, X, T, sigma)\n",
        "    try:\n",
        "        if tipo == \"c\":\n",
        "            price = S * norm.cdf(d1, 0, 1) - X * x_e * norm.cdf(d2, 0, 1)\n",
        "        elif tipo == \"p\":\n",
        "            price = X * x_e * norm.cdf(-d2, 0, 1) - S * norm.cdf(-d1, 0, 1)\n",
        "        return price\n",
        "    except:\n",
        "        print(\"Por favor, confirme o tipo da opção, 'c' - Call 'p' - Put.\")"
      ],
      "metadata": {
        "id": "1mUD5MeOvEpV"
      },
      "execution_count": null,
      "outputs": []
    },
    {
      "cell_type": "code",
      "source": [
        "print(\"Preço da Opção: \", blackScholes(r, S, X, T, sigma, tipo='c'))"
      ],
      "metadata": {
        "id": "TyF0W9vk3dva"
      },
      "execution_count": null,
      "outputs": []
    },
    {
      "cell_type": "markdown",
      "source": [
        "## **Delta**\n",
        "\n",
        "\n",
        "Delta mede a taxa de mudança do preço teórico da opção com a respectiva mudança no preço do ativo-objeto.\n",
        "\n",
        "$\\Delta=\\frac{\\delta V}{\\delta S}$\n",
        "\n",
        "$\\Delta_{call}=N(d_1)$\n",
        "\n",
        "$\\Delta_{put}=-N(-d_1)$"
      ],
      "metadata": {
        "id": "8DoGIgYvy93Z"
      }
    },
    {
      "cell_type": "code",
      "source": [
        "def deltaCalc(r, S, X, T, sigma, tipo=\"c\"):\n",
        "    '''Calcula o Delta de uma Opção\n",
        "        Parâmetros:\n",
        "            r: taxa de juros\n",
        "            S: Preço atual do ativo-objeto\n",
        "            X: Strike (Preço de Exercício)\n",
        "            T: Tempo (em dias)\n",
        "            sigma: Volatilidade\n",
        "            tip: c - Call ou p - Put\n",
        "    '''\n",
        "    d1 = (np.log(S/X) + (r + sigma**2/2)*T)/(sigma*np.sqrt(T))\n",
        "    try:\n",
        "        if tipo == \"c\":\n",
        "            delta_calc = norm.cdf(d1, 0, 1)\n",
        "        elif tipo == \"p\":\n",
        "            delta_calc = -norm.cdf(-d1, 0, 1)\n",
        "        return delta_calc\n",
        "    except:\n",
        "        print(\"Por favor, confirme o tipo da opção, 'c' - Call 'p' - Put.\")"
      ],
      "metadata": {
        "id": "ZosG6qiNyLvu"
      },
      "execution_count": null,
      "outputs": []
    },
    {
      "cell_type": "code",
      "source": [
        "print(\"Delta: \", deltaCalc(r, S, X, T, sigma, tipo='c'))"
      ],
      "metadata": {
        "id": "iU3y5Rpip2FX"
      },
      "execution_count": null,
      "outputs": []
    },
    {
      "cell_type": "markdown",
      "source": [
        "## **Gamma**\n",
        "\n",
        "O Gamma mede a taxa de mudança no delta quando há alterações no preço do ativo-objeto.\n",
        "\n",
        "O Gamma apresenta a mesma fórmula para Calls e Puts.\n",
        "\n",
        "\n",
        "$\\Gamma= \\frac{\\delta \\Delta}{\\delta S} = \\frac{\\delta^{2} V}{\\delta S^2}$\n",
        "\n",
        "$\\Gamma = \\frac{N(d_1)}{S \\sigma \\sqrt{t}}$"
      ],
      "metadata": {
        "id": "eF8Cc_JMl6er"
      }
    },
    {
      "cell_type": "code",
      "source": [
        "def gammaCalc(r, S, K, T, sigma, type=\"c\"):\n",
        "    '''Calcula o Gama de uma Opção.\n",
        "        Parâmetros:\n",
        "            r: taxa de juros\n",
        "            S: Preço atual do ativo-objeto\n",
        "            K: Strike (Preço de Exercício)\n",
        "            T: Tempo (em dias)\n",
        "            sigma: Volatilidade\n",
        "            tip: c - Call ou p - Put\n",
        "    '''\n",
        "    d1 = (np.log(S/K) + (r + sigma**2/2)*T)/(sigma*np.sqrt(T))\n",
        "    try:\n",
        "        gamma_calc = norm.pdf(d1, 0, 1) / (S*sigma*np.sqrt(T))\n",
        "        return gamma_calc\n",
        "    except:\n",
        "        print(\"Por favor, confirme o tipo da opção, 'c' - Call 'p' - Put.\")"
      ],
      "metadata": {
        "id": "EK6_kzxJlnU6"
      },
      "execution_count": null,
      "outputs": []
    },
    {
      "cell_type": "code",
      "source": [
        "print(\"Gama: \", gammaCalc(r, S, K, T, sigma, type='c'))"
      ],
      "metadata": {
        "id": "Y0xvX-RW41DN"
      },
      "execution_count": null,
      "outputs": []
    },
    {
      "cell_type": "markdown",
      "source": [
        "## **Vega**\n",
        "\n",
        "Vega mede a sensibilidade à volatilidade. Vega é a derivada do valor da opção relacionada com a volatilidade do ativo-objeto.\n",
        "\n",
        "O Theta também apresenta uma única fórmula tanto para Calls como para Puts.\n",
        "\n",
        "$\\nu = \\frac{\\delta V}{\\delta \\sigma}$\n",
        "\n",
        "$\\nu = SN(d1)\\sqrt{t}$"
      ],
      "metadata": {
        "id": "T8F3Mz8foUBI"
      }
    },
    {
      "cell_type": "code",
      "source": [
        "def vegaCalc(r, S, X, T, sigma, type=\"c\"):\n",
        "    '''Calcula o Vega de uma Opção.\n",
        "        Parâmetros:\n",
        "            r: taxa de juros\n",
        "            S: Preço atual do ativo-objeto\n",
        "            X: Strike (Preço de Exercício)\n",
        "            T: Tempo (em dias)\n",
        "            sigma: Volatilidade\n",
        "            tip: c - Call ou p - Put\n",
        "    '''\n",
        "    d1 = (np.log(S/X) + (r + sigma**2/2)*T)/(sigma*np.sqrt(T))\n",
        "    d2 = d1 - sigma*np.sqrt(T)\n",
        "    try:\n",
        "        vega_calc = S * norm.pdf(d1, 0, 1) * np.sqrt(T)\n",
        "        return vega_calc\n",
        "    except:\n",
        "        print(\"Por favor, confirme o tipo da opção, 'c' - Call 'p' - Put.\")"
      ],
      "metadata": {
        "id": "DY1105q9n-Lb"
      },
      "execution_count": null,
      "outputs": []
    },
    {
      "cell_type": "code",
      "source": [
        "print(\"Vega: \", vegaCalc(r, S, X, T, sigma, type='c'))"
      ],
      "metadata": {
        "id": "zIuIKFtM5Trk"
      },
      "execution_count": null,
      "outputs": []
    },
    {
      "cell_type": "markdown",
      "source": [
        "## **Theta**\n",
        "\n",
        "O Theta mede a sensibilidade do valor da derivada com a passagem do tempo - time decay.\n",
        "\n",
        "\n",
        "$\\Theta = - \\frac{\\delta V}{\\delta \\tau}$\n",
        "\n",
        "$\\Theta_{call} = -\\frac{SN(d_1)\\sigma}{2\\tau}-rXe^{-rTN(d_2)}$\n",
        "\n",
        "$\\Theta_{put} = -\\frac{SN(d_1)\\sigma}{2\\tau}+rXe^{-rTN(-d_2)}$"
      ],
      "metadata": {
        "id": "6zg_yuNeqakE"
      }
    },
    {
      "cell_type": "code",
      "source": [
        "def thetaCalc(r, S, X, T, sigma, type=\"c\"):\n",
        "    '''Calcula o Theta de uma Opção.\n",
        "        Parâmetros:\n",
        "            r: taxa de juros\n",
        "            S: Preço atual do ativo-objeto\n",
        "            X: Strike (Preço de Exercício)\n",
        "            T: Tempo (em dias)\n",
        "            sigma: Volatilidade\n",
        "            tip: c - Call ou p - Put\n",
        "    '''\n",
        "    d1 = (np.log(S/X) + (r + sigma**2/2)*T)/(sigma*np.sqrt(T))\n",
        "    d2 = d1 - sigma*np.sqrt(T)\n",
        "    try:\n",
        "        if type == \"c\":\n",
        "            theta_calc = -S*norm.pdf(d1, 0, 1) * sigma / (2*np.sqrt(T)) - r*X*np.exp(-r*T)*norm.cdf(d2, 0, 1)\n",
        "        elif type == \"p\":\n",
        "            theta_calc = -S*norm.pdf(d1, 0, 1) * sigma / (2*np.sqrt(T)) + r*X*np.exp(-r*T)*norm.cdf(-d2, 0, 1)\n",
        "        return theta_calc/252\n",
        "    except:\n",
        "        print(\"Por favor, confirme o tipo da opção, 'c' - Call 'p' - Put.\")"
      ],
      "metadata": {
        "id": "lLzTGgnOpuOE"
      },
      "execution_count": null,
      "outputs": []
    },
    {
      "cell_type": "code",
      "source": [
        "print(\"Theta: \", thetaCalc(r, S, X, T, sigma, type='c'))"
      ],
      "metadata": {
        "id": "n6up-btuy7f_"
      },
      "execution_count": null,
      "outputs": []
    },
    {
      "cell_type": "markdown",
      "source": [
        "## **Rho**\n",
        "\n",
        "Rho mede a sensibiliade do preço da opção à taxa de juros.\n",
        "\n",
        "$\\rho = \\frac{\\delta V}{\\delta r}$\n",
        "\n",
        "$\\rho_{call} = XT e^{-rTN(d_2)}$\n",
        "\n",
        "$\\rho_{put} = XT e^{-rTN(d_2)}$"
      ],
      "metadata": {
        "id": "61Pm--NM-Pgw"
      }
    },
    {
      "cell_type": "code",
      "source": [
        "def rhoCalc(r, S, X, T, sigma, type=\"c\"):\n",
        "    '''Calcula o Rho de uma Opção.\n",
        "        Parâmetros:\n",
        "            r: taxa de juros\n",
        "            S: Preço atual do ativo-objeto\n",
        "            X: Strike (Preço de Exercício)\n",
        "            T: Tempo (em dias)\n",
        "            sigma: Volatilidade\n",
        "            tip: c - Call ou p - Put\n",
        "    '''\n",
        "    d1 = (np.log(S/K) + (r + sigma**2/2)*T)/(sigma*np.sqrt(T))\n",
        "    d2 = d1 - sigma*np.sqrt(T)\n",
        "    try:\n",
        "        if type == \"c\":\n",
        "            rho_calc = X*T*np.exp(-r*T)*norm.cdf(d2, 0, 1)\n",
        "        elif type == \"p\":\n",
        "            rho_calc = -X*T*np.exp(-r*T)*norm.cdf(-d2, 0, 1)\n",
        "        return rho_calc * 0.01\n",
        "    except:\n",
        "        print(\"Por favor, confirme o tipo da opção, 'c' - Call 'p' - Put.\")"
      ],
      "metadata": {
        "id": "-zbpTiSttpeG"
      },
      "execution_count": null,
      "outputs": []
    },
    {
      "cell_type": "code",
      "source": [
        "print(\"Rho: \", rhoCalc(r, S, K, T, sigma, type='c'))"
      ],
      "metadata": {
        "id": "sFIzvnbs6HZ8"
      },
      "execution_count": null,
      "outputs": []
    },
    {
      "cell_type": "code",
      "source": [
        "option_type = 'c'\n",
        "print(\"Preço Teórico: R$\", round(blackScholes(r, S, K, T, sigma, option_type), 3))\n",
        "print(\"        Delta: \", round(deltaCalc(r, S, K, T, sigma, option_type), 3))\n",
        "print(\"         Gama: \", round(gammaCalc(r, S, K, T, sigma, option_type), 3))\n",
        "print(\"         Vega: \", round(vegaCalc(r, S, K, T, sigma, option_type), 3))\n",
        "print(\"        Tetha: \", round(thetaCalc(r, S, K, T, sigma, option_type), 3))\n",
        "print(\"          Rho: \", round(thetaCalc(r, S, K, T, sigma, option_type), 3))"
      ],
      "metadata": {
        "id": "JjLqeSSN_fIf"
      },
      "execution_count": null,
      "outputs": []
    }
  ]
}