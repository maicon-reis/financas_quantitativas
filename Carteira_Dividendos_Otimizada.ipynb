{
  "nbformat": 4,
  "nbformat_minor": 0,
  "metadata": {
    "colab": {
      "name": "Carteira_Dividendos_Otimizada.ipynb",
      "private_outputs": true,
      "provenance": [],
      "collapsed_sections": [],
      "authorship_tag": "ABX9TyMbWVHDRp8yQgdQCdlmOyL0",
      "include_colab_link": true
    },
    "kernelspec": {
      "name": "python3",
      "display_name": "Python 3"
    }
  },
  "cells": [
    {
      "cell_type": "markdown",
      "metadata": {
        "id": "view-in-github",
        "colab_type": "text"
      },
      "source": [
        "<a href=\"https://colab.research.google.com/github/maicon-reis/python_para_financas/blob/main/Carteira_Dividendos_Otimizada.ipynb\" target=\"_parent\"><img src=\"https://colab.research.google.com/assets/colab-badge.svg\" alt=\"Open In Colab\"/></a>"
      ]
    },
    {
      "cell_type": "code",
      "metadata": {
        "id": "jTfR-rGmKwCh"
      },
      "source": [
        "# Instalando a Bibliotecha PyPortifolioOpt\n",
        "!pip install -q PyPortfolioOpt"
      ],
      "execution_count": null,
      "outputs": []
    },
    {
      "cell_type": "code",
      "metadata": {
        "id": "X5cBsLAjj4M0"
      },
      "source": [
        "# bibliotecas\n",
        "import pandas as pd\n",
        "import numpy as np\n",
        "import matplotlib.pyplot as plt\n",
        "import seaborn as sns\n",
        "from pandas_datareader import data as wb\n",
        "import matplotlib\n",
        "from scipy import stats\n",
        "from datetime import date\n",
        "from pypfopt.risk_models import CovarianceShrinkage, risk_matrix\n",
        "from pypfopt import plotting, objective_functions, EfficientFrontier, expected_returns\n",
        "from pypfopt import risk_models\n",
        "from pypfopt.plotting import plot_efficient_frontier\n",
        "from pypfopt.discrete_allocation import DiscreteAllocation, get_latest_prices"
      ],
      "execution_count": null,
      "outputs": []
    },
    {
      "cell_type": "code",
      "metadata": {
        "id": "GcvjTg6lkMcJ"
      },
      "source": [
        "# carteira de Ativos\n",
        "ativos = ['TAEE11.SA', 'BAZA3.SA', 'SANB3.SA', 'VIVT3.SA', 'SULA4.SA',\n",
        "          'CPFE3.SA', 'CGRA4.SA', 'EGIE3.SA', 'MRVE3.SA', 'ITSA4.SA']\n",
        "\n",
        "pesos = np.array([0.1, 0.1, 0.1, 0.1, 0.1, 0.1, 0.1, 0.1, 0.1, 0.1])\n",
        "\n",
        "# Período\n",
        "data_inicio = '2011-01-01'\n",
        "data_fim = date.today().isoformat()\n",
        "\n",
        "# criação do DataFrame\n",
        "carteira = pd.DataFrame()\n",
        "\n",
        "for t in ativos:\n",
        "  carteira[t] = wb.DataReader(\n",
        "      t, data_source='yahoo', start=data_inicio, end=data_fim\n",
        "  )['Adj Close']"
      ],
      "execution_count": null,
      "outputs": []
    },
    {
      "cell_type": "code",
      "metadata": {
        "id": "7__F6ZXXJnpi"
      },
      "source": [
        "carteira.head()"
      ],
      "execution_count": null,
      "outputs": []
    },
    {
      "cell_type": "code",
      "metadata": {
        "id": "fP8pU_azJpST"
      },
      "source": [
        "carteira.info()"
      ],
      "execution_count": null,
      "outputs": []
    },
    {
      "cell_type": "markdown",
      "metadata": {
        "id": "voDrLtW-5R0c"
      },
      "source": [
        "**Retorno Esperado e Modelo de Risco**"
      ]
    },
    {
      "cell_type": "code",
      "metadata": {
        "id": "LarQBCJF0tXT"
      },
      "source": [
        "# retorno esperado\n",
        "mu = expected_returns.ema_historical_return(carteira, compounding=False, span=500)\n",
        "\n",
        "# modelo de risco\n",
        "S = CovarianceShrinkage(carteira, frequency=252).ledoit_wolf(shrinkage_target=\"single_factor\")"
      ],
      "execution_count": null,
      "outputs": []
    },
    {
      "cell_type": "markdown",
      "metadata": {
        "id": "4qppCKe35mjQ"
      },
      "source": [
        "**Otimizador de Média-Variância**"
      ]
    },
    {
      "cell_type": "code",
      "metadata": {
        "id": "kTGScQ2Q6JDy"
      },
      "source": [
        "# otimizador de miníma volatilidade\n",
        "ef = EfficientFrontier(mu, S) # weight_bounds=(-1,1)\n",
        "\n",
        "# ef.add_objective(objective_functions.L2_reg, gamma=0.1)\n",
        "w = ef.min_volatility()"
      ],
      "execution_count": null,
      "outputs": []
    },
    {
      "cell_type": "code",
      "metadata": {
        "id": "Gqr5J6au7m2k"
      },
      "source": [
        "cleaned_weights = ef.clean_weights(rounding=2)\n",
        "cleaned_weights"
      ],
      "execution_count": null,
      "outputs": []
    },
    {
      "cell_type": "markdown",
      "metadata": {
        "id": "QFuRxavM5Eim"
      },
      "source": [
        "**Desempenho Esperado**\n"
      ]
    },
    {
      "cell_type": "code",
      "metadata": {
        "id": "dWrfFfk08E-Z"
      },
      "source": [
        "# desempenho esperado\n",
        "ret_tangent, std_tangent, _ = ef.portfolio_performance(verbose=True)"
      ],
      "execution_count": null,
      "outputs": []
    },
    {
      "cell_type": "markdown",
      "metadata": {
        "id": "w3c9efX39sOX"
      },
      "source": [
        "**Fronteira Eficiente**"
      ]
    },
    {
      "cell_type": "code",
      "metadata": {
        "id": "xdMLDAbz-M75"
      },
      "source": [
        "from pypfopt import CLA"
      ],
      "execution_count": null,
      "outputs": []
    },
    {
      "cell_type": "code",
      "metadata": {
        "id": "tgWodoZs_PvV"
      },
      "source": [
        "portifolio_eficiente = CLA(mu, S)"
      ],
      "execution_count": null,
      "outputs": []
    },
    {
      "cell_type": "code",
      "metadata": {
        "id": "W6GEEOoY_YOB"
      },
      "source": [
        "(retorno, volatilidade, peso) = portifolio_eficiente.efficient_frontier()"
      ],
      "execution_count": null,
      "outputs": []
    },
    {
      "cell_type": "code",
      "metadata": {
        "id": "vzBwIWuW_fO8"
      },
      "source": [
        "fix, ax = plt.subplots( figsize=(8,6))\n",
        "ax.scatter(volatilidade, retorno, s=40, c='g', marker='.', label='Fronteira Eficiente')\n",
        "ax.scatter(std_tangent, ret_tangent, s=200, c='r', marker='*', label='Volatilidade Mínima')\n",
        "ax.set_xlabel('Volatilidade')\n",
        "ax.set_ylabel('Retorno Esperado')\n",
        "ax.set_title('Fronteira Eficiente')\n",
        "plt.show()"
      ],
      "execution_count": null,
      "outputs": []
    },
    {
      "cell_type": "markdown",
      "metadata": {
        "id": "Rvba9SEM557a"
      },
      "source": [
        "**Exemplo de Alocação de Patrimônio**"
      ]
    },
    {
      "cell_type": "code",
      "metadata": {
        "id": "-EF2aJzt6Bzv"
      },
      "source": [
        "# preços atuais\n",
        "lp = get_latest_prices(carteira)\n",
        "\n",
        "# Alocação por quantidade de um patrimônio total de R$ 10.000,00\n",
        "da = DiscreteAllocation(w, lp, total_portfolio_value=10000)\n",
        "alocacao, sobras = da.lp_portfolio()\n",
        "alocacao"
      ],
      "execution_count": null,
      "outputs": []
    }
  ]
}