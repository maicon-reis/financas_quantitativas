{
  "nbformat": 4,
  "nbformat_minor": 0,
  "metadata": {
    "colab": {
      "name": "K-Means_and_K-Medoids.ipynb",
      "private_outputs": true,
      "provenance": [],
      "authorship_tag": "ABX9TyO7LvsfgKi2ziltd+fZYV/U",
      "include_colab_link": true
    },
    "kernelspec": {
      "name": "python3",
      "display_name": "Python 3"
    },
    "language_info": {
      "name": "python"
    }
  },
  "cells": [
    {
      "cell_type": "markdown",
      "metadata": {
        "id": "view-in-github",
        "colab_type": "text"
      },
      "source": [
        "<a href=\"https://colab.research.google.com/github/maicon-reis/financas_quantitativas/blob/main/K_Means_and_K_Medoids.ipynb\" target=\"_parent\"><img src=\"https://colab.research.google.com/assets/colab-badge.svg\" alt=\"Open In Colab\"/></a>"
      ]
    },
    {
      "cell_type": "code",
      "source": [
        "# Instalando a biblioteca Yfinance\n",
        "!pip install -q yfinance"
      ],
      "metadata": {
        "id": "nvT8Feetoc2d"
      },
      "execution_count": null,
      "outputs": []
    },
    {
      "cell_type": "code",
      "source": [
        "# Instalando o pacote scikit-learn-extra\n",
        "!pip install -q scikit-learn-extra"
      ],
      "metadata": {
        "id": "TJTIevgQWJto"
      },
      "execution_count": null,
      "outputs": []
    },
    {
      "cell_type": "code",
      "execution_count": null,
      "metadata": {
        "id": "erxmJ8lelxSB"
      },
      "outputs": [],
      "source": [
        "# Importando as bibliotecas\n",
        "import pandas as pd\n",
        "import numpy as np\n",
        "import matplotlib.pyplot as plt\n",
        "import seaborn as sns\n",
        "import yfinance as yf\n",
        "from sklearn.cluster import KMeans\n",
        "from sklearn_extra.cluster import KMedoids\n",
        "from sklearn.preprocessing import StandardScaler\n",
        "from sklearn.decomposition import PCA\n",
        "plt.style.use(\"fivethirtyeight\")"
      ]
    },
    {
      "cell_type": "code",
      "source": [
        "# Importando os dados do Ibov para o ano de 2020\n",
        "data = yf.download('^BVSP', start='2020-1-1', end='2020-12-31')\n",
        "\n",
        "# Criando variáveis\n",
        "data[\"Retorno\"] = np.log(data[\"Adj Close\"]) - np.log(data[\"Adj Close\"].shift(1))\n",
        "data[\"std_10\"] = data[\"Adj Close\"].rolling(10).std()\n",
        "data[\"Dist_10\"] = (data[\"Close\"] / data[\"Close\"].rolling(10).mean()) - 1\n",
        "data[\"dir_D\"] = np.where(data[\"Close\"] > data[\"Open\"] , 1, 0)\n",
        "data[\"dir_D_mean\"] = data[\"dir_D\"].rolling(10).mean()\n",
        "data[\"prop\"] = (data[\"Close\"] - data[\"Open\"] / data[\"High\"] - data[\"Low\"])\n",
        "RetMean = data[\"Retorno\"].min()\n",
        "RetStd = data[\"Retorno\"].max()\n",
        "data[\"zscore\"] = (data[\"Retorno\"] - RetMean) / RetStd\n",
        "\n",
        "# Excluindo as linhas faltantes\n",
        "data.dropna(axis=0, inplace=True)\n",
        "\n",
        "# Verificando a base de dados\n",
        "data.head(10)"
      ],
      "metadata": {
        "id": "q_lRU0oVo1Ub"
      },
      "execution_count": null,
      "outputs": []
    },
    {
      "cell_type": "code",
      "source": [
        "# Padronizando as variáveis\n",
        "vars = [ 'std_10', 'Dist_10', 'dir_D', 'dir_D_mean', 'prop', 'zscore']\n",
        "data_scaled = pd.DataFrame()\n",
        "for var in vars:\n",
        "    var_values = data[var].values.reshape(-1, 1)\n",
        "    sc = StandardScaler().fit(var_values)\n",
        "    data_scaled[[var]] = sc.transform(var_values)"
      ],
      "metadata": {
        "id": "wQIBn4_tDZOF"
      },
      "execution_count": null,
      "outputs": []
    },
    {
      "cell_type": "code",
      "source": [
        "# Treinando o algoritmo KMeans\n",
        "kmeans = KMeans(n_clusters=4, random_state=1)\n",
        "kmeans.fit(data_scaled)\n",
        "data['KMeans_Labels'] = kmeans.predict(data_scaled)"
      ],
      "metadata": {
        "id": "Obv5TW9jjJeo"
      },
      "execution_count": null,
      "outputs": []
    },
    {
      "cell_type": "code",
      "source": [
        "# Treinando o algoritmo K-Medoids\n",
        "kmedo = KMedoids(n_clusters=4, random_state=1)\n",
        "kmedo.fit(data_scaled)\n",
        "data['KMedoids_Labels'] = kmedo.predict(data_scaled)"
      ],
      "metadata": {
        "id": "BAod6jWonwUu"
      },
      "execution_count": null,
      "outputs": []
    },
    {
      "cell_type": "code",
      "source": [
        "pca = PCA(n_components=2)\n",
        "X_reduced_pca = pca.fit_transform(data_scaled)\n",
        "\n",
        "# storing results in a dataframe\n",
        "reduced_data_df_pca = pd.DataFrame(\n",
        "    data=X_reduced_pca, columns=[\"Componente 1\", \"Componente 2\"]\n",
        ")\n",
        "\n",
        "reduced_data_df_pca['KMeans_Labels'] = data['KMeans_Labels'].values\n",
        "reduced_data_df_pca['KMedoids_Labels'] = data['KMedoids_Labels'].values"
      ],
      "metadata": {
        "id": "rONS3nnF9P_5"
      },
      "execution_count": null,
      "outputs": []
    },
    {
      "cell_type": "code",
      "source": [
        "# Calculando a PCA\n",
        "explained_variance = pca.explained_variance_ratio_\n",
        "\n",
        "print(\"Variability's explain: {}%\".format(sum(explained_variance) * 100))"
      ],
      "metadata": {
        "id": "m4oQTPTkOiHh"
      },
      "execution_count": null,
      "outputs": []
    },
    {
      "cell_type": "code",
      "source": [
        "fig = plt.figure(figsize=(11,4))\n",
        "ax1 = fig.add_subplot(1, 2, 1)\n",
        "sns.scatterplot(y=\"Componente 1\", x=\"Componente 2\", hue='KMeans_Labels'\n",
        "                , data=reduced_data_df_pca, palette=\"coolwarm\", legend=\"brief\", ax=ax1)\n",
        "plt.legend(loc='upper right', frameon=True, ncol=2, fancybox=True\n",
        "           , framealpha=0.95, shadow=True, borderpad=1)\n",
        "plt.title('Clusters K-Means')\n",
        "\n",
        "ax2 = fig.add_subplot(1, 2, 2)\n",
        "sns.scatterplot(y=\"Componente 1\", x=\"Componente 2\", hue='KMedoids_Labels',\n",
        "                data=reduced_data_df_pca, palette=\"coolwarm\", legend=\"brief\", ax=ax2)\n",
        "plt.legend(loc='upper right', frameon=True, ncol=2, fancybox=True\n",
        "           , framealpha=0.95, shadow=True, borderpad=1)\n",
        "plt.title('Clusters K-Medoids');"
      ],
      "metadata": {
        "id": "C0a30qO19iYX"
      },
      "execution_count": null,
      "outputs": []
    }
  ]
}