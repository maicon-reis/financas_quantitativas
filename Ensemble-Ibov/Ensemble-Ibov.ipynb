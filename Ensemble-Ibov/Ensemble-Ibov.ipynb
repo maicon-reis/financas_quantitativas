{
  "cells": [
    {
      "cell_type": "code",
      "execution_count": 1,
      "metadata": {
        "id": "vu2dtdgV_xj-"
      },
      "outputs": [],
      "source": [
        "# Carregando as bibliotecas\n",
        "import pandas as pd\n",
        "import numpy as np\n",
        "import yfinance as yf\n",
        "import datetime as dt\n",
        "import seaborn as sns\n",
        "import matplotlib.pyplot as plt\n",
        "import matplotlib.ticker as mtick\n",
        "from sklearn.linear_model import SGDClassifier\n",
        "from xgboost import XGBClassifier\n",
        "from sklearn.ensemble import VotingClassifier, StackingClassifier\n",
        "import sklearn.metrics as metrics\n",
        "from sklearn.metrics import classification_report, confusion_matrix\n",
        "from sklearn.tree import DecisionTreeClassifier\n",
        "from sklearn.linear_model import LogisticRegression\n",
        "\n",
        "import warnings\n",
        "warnings.simplefilter(action='ignore')\n",
        "\n",
        "sns.set(style = 'white')\n",
        "get_ipython().run_line_magic('matplotlib', 'inline')"
      ]
    },
    {
      "cell_type": "code",
      "execution_count": 4,
      "metadata": {
        "id": "sePxW7lGl3mt"
      },
      "outputs": [],
      "source": [
        "# Função que constroi variáveis que serão explicadas\n",
        "def constroi_alvo(df, p):\n",
        "    \n",
        "    # Construção dos alvos\n",
        "    p = 1\n",
        "\n",
        "    # criação do Retorno no período p\n",
        "    df[\"Retorno\"] = np.log(df[\"Adj Close\"]).diff(p)\n",
        "\n",
        "    # criação da colula Alvo obtido com o retorno no período p\n",
        "    df[\"Alvo\"] = df[\"Retorno\"].shift(-p)\n",
        "\n",
        "    # Variação em Pontos do alvo (d+1 - d)\n",
        "    df[\"Pontos\"] = (df[\"Adj Close\"].shift(-p) - df[\"Adj Close\"])\n",
        "\n",
        "    # Criação do Allvo Binário\n",
        "    df[\"Alvo_Bin\"] = np.where(df1[\"Alvo\"] > 0, 1, -1)\n",
        "\n",
        "    return df\n",
        "    \n",
        "# Função que cria variáveis \n",
        "def cria_variaveis(df):\n",
        "\n",
        "    df[\"high_low\"] = np.where((df[\"Retorno\"] > df[\"Retorno\"].shift(1)), 1, 0)\n",
        "    df[\"high_low_p1\"] = df[\"high_low\"].shift(1).fillna(0).apply(int)\n",
        "    df[\"R_r\"] = np.where((df[\"high_low\"] == 0) & (df[\"high_low_p1\"] == 0), 1, 0)\n",
        "\n",
        "    # Desvio Padrão de 5 dias\n",
        "    df[\"std5\"] = df[\"Retorno\"].rolling(5).std()\n",
        "\n",
        "    # Desvio Padrão de 10 dias\n",
        "    df[\"std10\"] = df[\"Retorno\"].rolling(10).std()\n",
        "\n",
        "    # Desvio Padrão de 15 dias\n",
        "    df[\"std15\"] = df[\"Retorno\"].rolling(15).std()\n",
        "\n",
        "    # Média Móvel de 5 dias\n",
        "    df[\"mm_5\"] = df[\"Retorno\"].rolling(5).mean()\n",
        "\n",
        "    # Média Móvel de 10 dias\n",
        "    df[\"mm_10\"] = df[\"Retorno\"].rolling(10).mean()\n",
        "\n",
        "    # Média Móvel de 15 dias\n",
        "    df[\"mm_15\"] = df[\"Retorno\"].rolling(15).mean()\n",
        "\n",
        "    # Proporção do corpo do candle em relação ao range do dia\n",
        "    df[\"prop\"] = (df[\"Close\"] - df[\"Open\"]) / (df[\"High\"] - df[\"Low\"])\n",
        "\n",
        "    # Direção do dia atual\n",
        "    df1[\"dir_d\"] = np.where(df1[\"Close\"] > df1[\"Open\"], 1, 0)\n",
        "    \n",
        "    # Direção do D-1\n",
        "    df[\"dir_d-1\"] = df[\"dir_d\"].shift(1)\n",
        "\n",
        "    # Direção do D-2\n",
        "    df1[\"dir_d-2\"] = df[\"dir_d\"].shift(2)\n",
        "\n",
        "    # Direção do D-3\n",
        "    df[\"dir_d-3\"] = df[\"dir_d\"].shift(3)\n",
        "\n",
        "    # Média Móvel do std de 5 dias\n",
        "    df[\"mm_std5\"] = df[\"std5\"].rolling(15).mean()\n",
        "\n",
        "    # Média Móvel do std de 10 dias\n",
        "    df[\"mm_std10\"] = df[\"std10\"].rolling(15).mean()\n",
        "\n",
        "    # Média Móvel do std de 15 dias\n",
        "    df[\"mm_std15\"] = df[\"std15\"].rolling(15).mean()\n",
        "    \n",
        "    # Zscore de 5 dias\n",
        "    df[\"zscore_5\"] = (df[\"Retorno\"] - df[\"mm_5\"])/ df1[\"std5\"]\n",
        "\n",
        "    # Zscore de 10 dias\n",
        "    df[\"zscore_10\"] = (df[\"Retorno\"] - df[\"mm_10\"])/ df1[\"std10\"]\n",
        "\n",
        "    # Zscore de 15 dias\n",
        "    df[\"zscore_15\"] = (df[\"Retorno\"] - df[\"mm_15\"])/ df1[\"std15\"]\n",
        "\n",
        "    # RSL std5\n",
        "    df[\"rsl_std5\"] = (df[\"std5\"] / df[\"mm_std5\"])-1\n",
        "    \n",
        "    # RSL std10\n",
        "    df[\"rsl_std10\"] = (df[\"std10\"] / df[\"mm_std10\"])-1\n",
        "\n",
        "    # RSL std15\n",
        "    df[\"rsl_std15\"] = (df[\"std15\"] / df[\"mm_std15\"])-1\n",
        "\n",
        "    # cálculo ifr\n",
        "    df[\"mov_alta\"] = df[\"Retorno\"].apply(lambda x: x if x > 0 else 0)\n",
        "    df[\"mov_baixa\"] = df[\"Retorno\"].apply(lambda x: abs(x) if x < 0 else 0)\n",
        "    df[\"media_alta\"] = df[\"mov_alta\"].ewm(span=14).mean()\n",
        "    df[\"media_baixa\"] = df[\"mov_baixa\"].ewm(span=14).mean()\n",
        "    df[\"fr\"] = df[\"media_alta\"] / df[\"media_baixa\"]\n",
        "    df[\"ifr\"] = df[\"fr\"].apply(lambda x: 100 - (100/(x+1)))\n",
        "\n",
        "    # Cálculo do Rayner Teos\n",
        "    tenDays_low = df[\"Adj Close\"].rolling(10).min()\n",
        "    df[\"rt\"] = np.where((df[\"Adj Close\"] > df[\"Adj Close\"].rolling(200).mean())\n",
        "                        & (tenDays_low.diff() < 0)\n",
        "                        & (0.98 * df[\"Adj Close\"] >= tenDays_low.shift(-1))\n",
        "                        , 1, 0)\n",
        "\n",
        "    # Variáveis derivadas da física\n",
        "    #df[\"ema12\"] = df[\"Adj Close\"].ewm(span=12).mean()\n",
        "    #df[\"ema26\"] = df[\"Adj Close\"].ewm(span=26).mean()\n",
        "\n",
        "    # Velocidade de p dias\n",
        "    df[\"v\"] = (df['Retorno'] - df['Retorno'].shift(5)) / 5\n",
        "\n",
        "    # Aceleração de p dias\n",
        "    df['a'] = (df['v'] - df['v'].shift(5))/5\n",
        "\n",
        "    # Força\n",
        "    # Calculando a massa\n",
        "    df[\"m\"] = df['Retorno'].rolling(5).sum()\n",
        "\n",
        "    df[\"f\"] = df[\"m\"] * df[\"a\"]\n",
        "\n",
        "    # Energia cinética\n",
        "    df['t'] = 0.5 * df[\"m\"] * np.power(df[\"v\"], 2)\n",
        "\n",
        "    # Trabalho\n",
        "    # cateto oposto\n",
        "    df[\"cat_op\"] = df[\"Retorno\"].rolling(5).sum() - df[\"Retorno\"].rolling(1).sum()\n",
        "    cat_ad = 5\n",
        "    df[\"cat\"] = df[\"cat_op\"] / cat_ad\n",
        "\n",
        "    df[\"f\"] = df[\"m\"] * df1[\"a\"]\n",
        "\n",
        "    df = df.dropna(axis=0)\n",
        "    df[\"w\"] = df[\"f\"] * np.cos(np.arctan(df[\"cat\"]))\n",
        "\n",
        "    # Energia Potencial\n",
        "    df[\"k\"] = df[\"cat_op\"] * df[\"m\"]\n",
        "\n",
        "    # Torque\n",
        "    df[\"tau\"] = df[\"f\"] * np.sin(np.arctan(df[\"cat\"]))\n",
        "\n",
        "    # Momentum\n",
        "    df[\"M\"] = df[\"m\"] * df[\"v\"]\n",
        "\n",
        "    # Gravidade\n",
        "    df[\"g\"] = df[\"m\"] * df['Retorno'].rolling(5).sum() / (df[\"m\"]/df['Retorno'].rolling(5).sum()) * (df[\"m\"]/df['Retorno'].rolling(5).sum())\n",
        "\n",
        "    # Frequência - 1/T onde T é o número de \"zig-zag\" nos últimos 15 períodos\n",
        "    # pra o zig-zag\n",
        "    df['Retorno_1'] = df['Retorno'].shift(1)\n",
        "    df['Retorno_2'] = df['Retorno'].shift(2)\n",
        "    df[\"zigZag\"] = np.where(((df[\"Retorno\"] > 0) & (df[\"Retorno_1\"] < 0) & (df[\"Retorno_2\"] > 0)) \n",
        "                            | ((df[\"Retorno\"] < 0) & (df[\"Retorno_1\"] > 0) & (df[\"Retorno_2\"] < 0))\n",
        "                            , 1, 0)\n",
        "    df[\"zigZag\"] = df[\"zigZag\"].rolling(15).sum()\n",
        "\n",
        "    v = list()\n",
        "    ret_desvios = list()\n",
        "    v.append(abs(df[\"Retorno\"].iloc[0]))\n",
        "    ret_desvios.append(1)\n",
        "\n",
        "    for i in range(1, df[\"Retorno\"].shape[0]):\n",
        "        v_ = np.sqrt(0.94 * v[-1] * v[-1] + (1-0.94) * df[\"Retorno\"].iloc[i] * df[\"Retorno\"].iloc[i])\n",
        "        v.append(v_)\n",
        "        ret_desvios_ = df[\"Retorno\"].iloc[i] - sum(df[\"Retorno\"].iloc[0:i] / len(df[\"Retorno\"].iloc[0:i]/v[i-1]))\n",
        "        ret_desvios.append(ret_desvios_)\n",
        "    df['ret'] = ret_desvios\n",
        "    return df"
      ]
    },
    {
      "cell_type": "markdown",
      "metadata": {
        "id": "7b4xSVmz3ydL"
      },
      "source": [
        "### **1. Coletando os dados**"
      ]
    },
    {
      "cell_type": "code",
      "execution_count": 20,
      "metadata": {
        "colab": {
          "base_uri": "https://localhost:8080/",
          "height": 256
        },
        "id": "-EGENlDAAkpM",
        "outputId": "0e770568-ebf3-46a4-fa01-e30a1bbff0cb"
      },
      "outputs": [
        {
          "data": {
            "text/html": [
              "<div>\n",
              "<style scoped>\n",
              "    .dataframe tbody tr th:only-of-type {\n",
              "        vertical-align: middle;\n",
              "    }\n",
              "\n",
              "    .dataframe tbody tr th {\n",
              "        vertical-align: top;\n",
              "    }\n",
              "\n",
              "    .dataframe thead th {\n",
              "        text-align: right;\n",
              "    }\n",
              "</style>\n",
              "<table border=\"1\" class=\"dataframe\">\n",
              "  <thead>\n",
              "    <tr style=\"text-align: right;\">\n",
              "      <th></th>\n",
              "      <th>Date</th>\n",
              "      <th>Open</th>\n",
              "      <th>High</th>\n",
              "      <th>Low</th>\n",
              "      <th>Close</th>\n",
              "      <th>Adj Close</th>\n",
              "      <th>Volume</th>\n",
              "    </tr>\n",
              "  </thead>\n",
              "  <tbody>\n",
              "    <tr>\n",
              "      <th>0</th>\n",
              "      <td>2000-01-03</td>\n",
              "      <td>17098.0</td>\n",
              "      <td>17408.0</td>\n",
              "      <td>16719.0</td>\n",
              "      <td>16930.0</td>\n",
              "      <td>16930.0</td>\n",
              "      <td>0</td>\n",
              "    </tr>\n",
              "    <tr>\n",
              "      <th>1</th>\n",
              "      <td>2000-01-04</td>\n",
              "      <td>16908.0</td>\n",
              "      <td>16908.0</td>\n",
              "      <td>15851.0</td>\n",
              "      <td>15851.0</td>\n",
              "      <td>15851.0</td>\n",
              "      <td>0</td>\n",
              "    </tr>\n",
              "    <tr>\n",
              "      <th>2</th>\n",
              "      <td>2000-01-05</td>\n",
              "      <td>15871.0</td>\n",
              "      <td>16302.0</td>\n",
              "      <td>15350.0</td>\n",
              "      <td>16245.0</td>\n",
              "      <td>16245.0</td>\n",
              "      <td>0</td>\n",
              "    </tr>\n",
              "    <tr>\n",
              "      <th>3</th>\n",
              "      <td>2000-01-06</td>\n",
              "      <td>16237.0</td>\n",
              "      <td>16499.0</td>\n",
              "      <td>15977.0</td>\n",
              "      <td>16107.0</td>\n",
              "      <td>16107.0</td>\n",
              "      <td>0</td>\n",
              "    </tr>\n",
              "    <tr>\n",
              "      <th>4</th>\n",
              "      <td>2000-01-07</td>\n",
              "      <td>16125.0</td>\n",
              "      <td>16449.0</td>\n",
              "      <td>16125.0</td>\n",
              "      <td>16309.0</td>\n",
              "      <td>16309.0</td>\n",
              "      <td>0</td>\n",
              "    </tr>\n",
              "  </tbody>\n",
              "</table>\n",
              "</div>"
            ],
            "text/plain": [
              "         Date     Open     High      Low    Close  Adj Close  Volume\n",
              "0  2000-01-03  17098.0  17408.0  16719.0  16930.0    16930.0       0\n",
              "1  2000-01-04  16908.0  16908.0  15851.0  15851.0    15851.0       0\n",
              "2  2000-01-05  15871.0  16302.0  15350.0  16245.0    16245.0       0\n",
              "3  2000-01-06  16237.0  16499.0  15977.0  16107.0    16107.0       0\n",
              "4  2000-01-07  16125.0  16449.0  16125.0  16309.0    16309.0       0"
            ]
          },
          "execution_count": 20,
          "metadata": {},
          "output_type": "execute_result"
        }
      ],
      "source": [
        "# coletando dados\n",
        "df = pd.read_csv(\"/home/maicon/Documents/Python/Data Science/Projetos Github/arquivos/ibov-2000_2021\")\n",
        "\n",
        "# Verificando o dataframe\n",
        "df.head()"
      ]
    },
    {
      "cell_type": "code",
      "execution_count": 21,
      "metadata": {
        "id": "o-rPWEtxzPZz"
      },
      "outputs": [],
      "source": [
        "# Configurando a data como índice\n",
        "df.set_index('Date', inplace=True)"
      ]
    },
    {
      "cell_type": "code",
      "execution_count": 22,
      "metadata": {
        "colab": {
          "base_uri": "https://localhost:8080/",
          "height": 288
        },
        "id": "cxKysMbfBGNO",
        "outputId": "81ef2f55-5510-46f6-a365-ee62208bc20e"
      },
      "outputs": [
        {
          "data": {
            "text/html": [
              "<div>\n",
              "<style scoped>\n",
              "    .dataframe tbody tr th:only-of-type {\n",
              "        vertical-align: middle;\n",
              "    }\n",
              "\n",
              "    .dataframe tbody tr th {\n",
              "        vertical-align: top;\n",
              "    }\n",
              "\n",
              "    .dataframe thead th {\n",
              "        text-align: right;\n",
              "    }\n",
              "</style>\n",
              "<table border=\"1\" class=\"dataframe\">\n",
              "  <thead>\n",
              "    <tr style=\"text-align: right;\">\n",
              "      <th></th>\n",
              "      <th>Open</th>\n",
              "      <th>High</th>\n",
              "      <th>Low</th>\n",
              "      <th>Close</th>\n",
              "      <th>Adj Close</th>\n",
              "      <th>Volume</th>\n",
              "    </tr>\n",
              "  </thead>\n",
              "  <tbody>\n",
              "    <tr>\n",
              "      <th>count</th>\n",
              "      <td>5441.000000</td>\n",
              "      <td>5441.000000</td>\n",
              "      <td>5441.000000</td>\n",
              "      <td>5441.000000</td>\n",
              "      <td>5441.000000</td>\n",
              "      <td>5.441000e+03</td>\n",
              "    </tr>\n",
              "    <tr>\n",
              "      <th>mean</th>\n",
              "      <td>53056.533174</td>\n",
              "      <td>53610.275133</td>\n",
              "      <td>52506.649881</td>\n",
              "      <td>53071.201985</td>\n",
              "      <td>53071.201985</td>\n",
              "      <td>7.370089e+06</td>\n",
              "    </tr>\n",
              "    <tr>\n",
              "      <th>std</th>\n",
              "      <td>29010.729007</td>\n",
              "      <td>29246.980405</td>\n",
              "      <td>28769.429870</td>\n",
              "      <td>29015.877413</td>\n",
              "      <td>29015.877413</td>\n",
              "      <td>2.318854e+07</td>\n",
              "    </tr>\n",
              "    <tr>\n",
              "      <th>min</th>\n",
              "      <td>8397.000000</td>\n",
              "      <td>8513.000000</td>\n",
              "      <td>8225.000000</td>\n",
              "      <td>8371.000000</td>\n",
              "      <td>8371.000000</td>\n",
              "      <td>0.000000e+00</td>\n",
              "    </tr>\n",
              "    <tr>\n",
              "      <th>25%</th>\n",
              "      <td>26612.000000</td>\n",
              "      <td>26824.000000</td>\n",
              "      <td>26267.000000</td>\n",
              "      <td>26618.000000</td>\n",
              "      <td>26618.000000</td>\n",
              "      <td>0.000000e+00</td>\n",
              "    </tr>\n",
              "    <tr>\n",
              "      <th>50%</th>\n",
              "      <td>53738.000000</td>\n",
              "      <td>54236.000000</td>\n",
              "      <td>53091.000000</td>\n",
              "      <td>53748.000000</td>\n",
              "      <td>53748.000000</td>\n",
              "      <td>2.532400e+06</td>\n",
              "    </tr>\n",
              "    <tr>\n",
              "      <th>75%</th>\n",
              "      <td>66951.000000</td>\n",
              "      <td>67502.000000</td>\n",
              "      <td>66342.000000</td>\n",
              "      <td>66954.000000</td>\n",
              "      <td>66954.000000</td>\n",
              "      <td>4.241400e+06</td>\n",
              "    </tr>\n",
              "    <tr>\n",
              "      <th>max</th>\n",
              "      <td>130776.000000</td>\n",
              "      <td>131190.000000</td>\n",
              "      <td>129526.000000</td>\n",
              "      <td>130776.000000</td>\n",
              "      <td>130776.000000</td>\n",
              "      <td>2.322653e+08</td>\n",
              "    </tr>\n",
              "  </tbody>\n",
              "</table>\n",
              "</div>"
            ],
            "text/plain": [
              "                Open           High            Low          Close  \\\n",
              "count    5441.000000    5441.000000    5441.000000    5441.000000   \n",
              "mean    53056.533174   53610.275133   52506.649881   53071.201985   \n",
              "std     29010.729007   29246.980405   28769.429870   29015.877413   \n",
              "min      8397.000000    8513.000000    8225.000000    8371.000000   \n",
              "25%     26612.000000   26824.000000   26267.000000   26618.000000   \n",
              "50%     53738.000000   54236.000000   53091.000000   53748.000000   \n",
              "75%     66951.000000   67502.000000   66342.000000   66954.000000   \n",
              "max    130776.000000  131190.000000  129526.000000  130776.000000   \n",
              "\n",
              "           Adj Close        Volume  \n",
              "count    5441.000000  5.441000e+03  \n",
              "mean    53071.201985  7.370089e+06  \n",
              "std     29015.877413  2.318854e+07  \n",
              "min      8371.000000  0.000000e+00  \n",
              "25%     26618.000000  0.000000e+00  \n",
              "50%     53748.000000  2.532400e+06  \n",
              "75%     66954.000000  4.241400e+06  \n",
              "max    130776.000000  2.322653e+08  "
            ]
          },
          "execution_count": 22,
          "metadata": {},
          "output_type": "execute_result"
        }
      ],
      "source": [
        "# Verificando dados estatísticos do dataframe\n",
        "df.describe()"
      ]
    },
    {
      "cell_type": "code",
      "execution_count": 23,
      "metadata": {
        "colab": {
          "base_uri": "https://localhost:8080/"
        },
        "id": "B9qQnre04Wf8",
        "outputId": "d341ecb5-ae73-4c1a-8056-9019747f3205"
      },
      "outputs": [
        {
          "data": {
            "text/plain": [
              "Open         0\n",
              "High         0\n",
              "Low          0\n",
              "Close        0\n",
              "Adj Close    0\n",
              "Volume       0\n",
              "dtype: int64"
            ]
          },
          "execution_count": 23,
          "metadata": {},
          "output_type": "execute_result"
        }
      ],
      "source": [
        "# Verificando a existência de dados faltantes\n",
        "df.isna().sum()"
      ]
    },
    {
      "cell_type": "markdown",
      "metadata": {
        "id": "Ik2oa5PsBMK3"
      },
      "source": [
        "### **Construção dos alvos**"
      ]
    },
    {
      "cell_type": "markdown",
      "metadata": {
        "id": "1uSl2ymSBQOh"
      },
      "source": [
        "Serão criadas variáveis de retorno, alvo e pontos de uma uma operação de um período.\n",
        "\n",
        "A variável alvo será transformada na variável ```Alvo_Bin``` na qual, se o alvo foi uma alta, a variável Alvo_Bin retornara 1, e caso contrário, retornará 0."
      ]
    },
    {
      "cell_type": "code",
      "execution_count": 24,
      "metadata": {
        "colab": {
          "base_uri": "https://localhost:8080/",
          "height": 301
        },
        "id": "fODPpqHnziZA",
        "outputId": "3c8f6ef4-8b46-4971-baf8-849e6547c2d5"
      },
      "outputs": [
        {
          "data": {
            "image/png": "[encoded data removed]",
            "text/plain": [
              "<Figure size 432x288 with 1 Axes>"
            ]
          },
          "metadata": {
            "needs_background": "light"
          },
          "output_type": "display_data"
        }
      ],
      "source": [
        "# Criando uma cópia do dataframe para preservar os dados originais\n",
        "df1 = df.copy()\n",
        "\n",
        "# construindo o alvo\n",
        "df1 = constroi_alvo(df1, p=1)\n",
        "\n",
        "# Criando um gráfico para verificação da distribuição do alvo\n",
        "cores = ['#4D3425','#E4512B']\n",
        "\n",
        "ax = (df1[\"Alvo_Bin\"].value_counts(normalize=True)*100).plot(\n",
        "                                        kind=\"bar\"\n",
        "                                        , stacked=\"true\"\n",
        "                                        , rot=0\n",
        "                                        , color=cores)\n",
        "ax.yaxis.set_major_formatter(mtick.PercentFormatter())\n",
        "ax.set_ylabel('% Alvo')\n",
        "ax.set_xlabel('Categorias')\n",
        "ax.set_title('Distribuição do Alvo')\n",
        "\n",
        "# Criando uma lista para coletar os dados plt.patches\n",
        "totais = []\n",
        "\n",
        "# encontrando os valores e anexando a lista\n",
        "for i in ax.patches:\n",
        "    totais.append(i.get_width())\n",
        "\n",
        "# Confirgurando rótulos par cada barra individualmente \n",
        "total = sum(totais)\n",
        "\n",
        "for i in ax.patches:\n",
        "    # obtendo largura e altura das barras\n",
        "    ax.text(i.get_x()+.15, i.get_height()-3.5, \\\n",
        "            str(round((i.get_height()/total), 1))+'%',\n",
        "            fontsize=12,\n",
        "            color='white',\n",
        "            weight='bold')"
      ]
    },
    {
      "cell_type": "markdown",
      "metadata": {
        "id": "L-lVPZ2tQSRX"
      },
      "source": [
        "### **Construindo as Variáveis**"
      ]
    },
    {
      "cell_type": "markdown",
      "metadata": {
        "id": "xtvxh_xq6GV5"
      },
      "source": [
        "Neste momentos serão construídas as variáveis que comporão o modelo."
      ]
    },
    {
      "cell_type": "code",
      "execution_count": 25,
      "metadata": {
        "colab": {
          "base_uri": "https://localhost:8080/",
          "height": 395
        },
        "id": "rDjWaR1rbz4X",
        "outputId": "1ec60494-c8d7-46d6-8991-7fd261dbee00"
      },
      "outputs": [
        {
          "data": {
            "text/html": [
              "<div>\n",
              "<style scoped>\n",
              "    .dataframe tbody tr th:only-of-type {\n",
              "        vertical-align: middle;\n",
              "    }\n",
              "\n",
              "    .dataframe tbody tr th {\n",
              "        vertical-align: top;\n",
              "    }\n",
              "\n",
              "    .dataframe thead th {\n",
              "        text-align: right;\n",
              "    }\n",
              "</style>\n",
              "<table border=\"1\" class=\"dataframe\">\n",
              "  <thead>\n",
              "    <tr style=\"text-align: right;\">\n",
              "      <th></th>\n",
              "      <th>Open</th>\n",
              "      <th>High</th>\n",
              "      <th>Low</th>\n",
              "      <th>Close</th>\n",
              "      <th>Adj Close</th>\n",
              "      <th>Volume</th>\n",
              "      <th>Retorno</th>\n",
              "      <th>Alvo</th>\n",
              "      <th>Pontos</th>\n",
              "      <th>Alvo_Bin</th>\n",
              "      <th>...</th>\n",
              "      <th>cat</th>\n",
              "      <th>w</th>\n",
              "      <th>k</th>\n",
              "      <th>tau</th>\n",
              "      <th>M</th>\n",
              "      <th>g</th>\n",
              "      <th>Retorno_1</th>\n",
              "      <th>Retorno_2</th>\n",
              "      <th>zigZag</th>\n",
              "      <th>ret</th>\n",
              "    </tr>\n",
              "    <tr>\n",
              "      <th>Date</th>\n",
              "      <th></th>\n",
              "      <th></th>\n",
              "      <th></th>\n",
              "      <th></th>\n",
              "      <th></th>\n",
              "      <th></th>\n",
              "      <th></th>\n",
              "      <th></th>\n",
              "      <th></th>\n",
              "      <th></th>\n",
              "      <th></th>\n",
              "      <th></th>\n",
              "      <th></th>\n",
              "      <th></th>\n",
              "      <th></th>\n",
              "      <th></th>\n",
              "      <th></th>\n",
              "      <th></th>\n",
              "      <th></th>\n",
              "      <th></th>\n",
              "      <th></th>\n",
              "    </tr>\n",
              "  </thead>\n",
              "  <tbody>\n",
              "    <tr>\n",
              "      <th>2000-02-14</th>\n",
              "      <td>18083.0</td>\n",
              "      <td>18264.0</td>\n",
              "      <td>17746.0</td>\n",
              "      <td>17819.0</td>\n",
              "      <td>17819.0</td>\n",
              "      <td>0</td>\n",
              "      <td>-0.014707</td>\n",
              "      <td>0.005708</td>\n",
              "      <td>102.0</td>\n",
              "      <td>1</td>\n",
              "      <td>...</td>\n",
              "      <td>-0.000475</td>\n",
              "      <td>3.902998e-05</td>\n",
              "      <td>0.000041</td>\n",
              "      <td>-1.854003e-08</td>\n",
              "      <td>0.000087</td>\n",
              "      <td>NaN</td>\n",
              "      <td>NaN</td>\n",
              "      <td>NaN</td>\n",
              "      <td>NaN</td>\n",
              "      <td>1.000000</td>\n",
              "    </tr>\n",
              "    <tr>\n",
              "      <th>2000-02-15</th>\n",
              "      <td>17818.0</td>\n",
              "      <td>17932.0</td>\n",
              "      <td>17451.0</td>\n",
              "      <td>17921.0</td>\n",
              "      <td>17921.0</td>\n",
              "      <td>0</td>\n",
              "      <td>0.005708</td>\n",
              "      <td>0.010601</td>\n",
              "      <td>191.0</td>\n",
              "      <td>1</td>\n",
              "      <td>...</td>\n",
              "      <td>-0.009502</td>\n",
              "      <td>7.858812e-05</td>\n",
              "      <td>0.001986</td>\n",
              "      <td>-7.467330e-07</td>\n",
              "      <td>0.000207</td>\n",
              "      <td>NaN</td>\n",
              "      <td>-0.014707</td>\n",
              "      <td>NaN</td>\n",
              "      <td>NaN</td>\n",
              "      <td>0.020415</td>\n",
              "    </tr>\n",
              "    <tr>\n",
              "      <th>2000-02-16</th>\n",
              "      <td>17921.0</td>\n",
              "      <td>18247.0</td>\n",
              "      <td>17743.0</td>\n",
              "      <td>18112.0</td>\n",
              "      <td>18112.0</td>\n",
              "      <td>0</td>\n",
              "      <td>0.010601</td>\n",
              "      <td>-0.007370</td>\n",
              "      <td>-133.0</td>\n",
              "      <td>-1</td>\n",
              "      <td>...</td>\n",
              "      <td>-0.004851</td>\n",
              "      <td>-3.627507e-05</td>\n",
              "      <td>0.000331</td>\n",
              "      <td>1.759750e-07</td>\n",
              "      <td>-0.000077</td>\n",
              "      <td>NaN</td>\n",
              "      <td>0.005708</td>\n",
              "      <td>-0.014707</td>\n",
              "      <td>NaN</td>\n",
              "      <td>0.015101</td>\n",
              "    </tr>\n",
              "    <tr>\n",
              "      <th>2000-02-17</th>\n",
              "      <td>18116.0</td>\n",
              "      <td>18297.0</td>\n",
              "      <td>17979.0</td>\n",
              "      <td>17979.0</td>\n",
              "      <td>17979.0</td>\n",
              "      <td>0</td>\n",
              "      <td>-0.007370</td>\n",
              "      <td>-0.019886</td>\n",
              "      <td>-354.0</td>\n",
              "      <td>-1</td>\n",
              "      <td>...</td>\n",
              "      <td>-0.005360</td>\n",
              "      <td>-8.974362e-07</td>\n",
              "      <td>0.000916</td>\n",
              "      <td>4.810601e-09</td>\n",
              "      <td>0.000140</td>\n",
              "      <td>NaN</td>\n",
              "      <td>0.010601</td>\n",
              "      <td>0.005708</td>\n",
              "      <td>NaN</td>\n",
              "      <td>-0.007904</td>\n",
              "    </tr>\n",
              "    <tr>\n",
              "      <th>2000-02-18</th>\n",
              "      <td>17979.0</td>\n",
              "      <td>18008.0</td>\n",
              "      <td>17489.0</td>\n",
              "      <td>17625.0</td>\n",
              "      <td>17625.0</td>\n",
              "      <td>0</td>\n",
              "      <td>-0.019886</td>\n",
              "      <td>0.004246</td>\n",
              "      <td>75.0</td>\n",
              "      <td>1</td>\n",
              "      <td>...</td>\n",
              "      <td>-0.001154</td>\n",
              "      <td>-6.543668e-05</td>\n",
              "      <td>0.000148</td>\n",
              "      <td>7.548592e-08</td>\n",
              "      <td>-0.000044</td>\n",
              "      <td>0.000658</td>\n",
              "      <td>-0.007370</td>\n",
              "      <td>0.010601</td>\n",
              "      <td>NaN</td>\n",
              "      <td>-0.018444</td>\n",
              "    </tr>\n",
              "  </tbody>\n",
              "</table>\n",
              "<p>5 rows × 56 columns</p>\n",
              "</div>"
            ],
            "text/plain": [
              "               Open     High      Low    Close  Adj Close  Volume   Retorno  \\\n",
              "Date                                                                          \n",
              "2000-02-14  18083.0  18264.0  17746.0  17819.0    17819.0       0 -0.014707   \n",
              "2000-02-15  17818.0  17932.0  17451.0  17921.0    17921.0       0  0.005708   \n",
              "2000-02-16  17921.0  18247.0  17743.0  18112.0    18112.0       0  0.010601   \n",
              "2000-02-17  18116.0  18297.0  17979.0  17979.0    17979.0       0 -0.007370   \n",
              "2000-02-18  17979.0  18008.0  17489.0  17625.0    17625.0       0 -0.019886   \n",
              "\n",
              "                Alvo  Pontos  Alvo_Bin  ...       cat             w         k  \\\n",
              "Date                                    ...                                     \n",
              "2000-02-14  0.005708   102.0         1  ... -0.000475  3.902998e-05  0.000041   \n",
              "2000-02-15  0.010601   191.0         1  ... -0.009502  7.858812e-05  0.001986   \n",
              "2000-02-16 -0.007370  -133.0        -1  ... -0.004851 -3.627507e-05  0.000331   \n",
              "2000-02-17 -0.019886  -354.0        -1  ... -0.005360 -8.974362e-07  0.000916   \n",
              "2000-02-18  0.004246    75.0         1  ... -0.001154 -6.543668e-05  0.000148   \n",
              "\n",
              "                     tau         M         g  Retorno_1  Retorno_2  zigZag  \\\n",
              "Date                                                                         \n",
              "2000-02-14 -1.854003e-08  0.000087       NaN        NaN        NaN     NaN   \n",
              "2000-02-15 -7.467330e-07  0.000207       NaN  -0.014707        NaN     NaN   \n",
              "2000-02-16  1.759750e-07 -0.000077       NaN   0.005708  -0.014707     NaN   \n",
              "2000-02-17  4.810601e-09  0.000140       NaN   0.010601   0.005708     NaN   \n",
              "2000-02-18  7.548592e-08 -0.000044  0.000658  -0.007370   0.010601     NaN   \n",
              "\n",
              "                 ret  \n",
              "Date                  \n",
              "2000-02-14  1.000000  \n",
              "2000-02-15  0.020415  \n",
              "2000-02-16  0.015101  \n",
              "2000-02-17 -0.007904  \n",
              "2000-02-18 -0.018444  \n",
              "\n",
              "[5 rows x 56 columns]"
            ]
          },
          "execution_count": 25,
          "metadata": {},
          "output_type": "execute_result"
        }
      ],
      "source": [
        "df1 = cria_variaveis(df1)\n",
        "\n",
        "# verificando os dados\n",
        "df1.head()"
      ]
    },
    {
      "cell_type": "markdown",
      "metadata": {
        "id": "8KUC6bhqFDmJ"
      },
      "source": [
        "### **Copiando o Dataframe**\n",
        "\n",
        "---\n",
        "\n",
        "Será criada uma cópia do dataframe excluindo algumas colunas que serviram de base para construção de variáveis."
      ]
    },
    {
      "cell_type": "code",
      "execution_count": 26,
      "metadata": {
        "id": "UxLYKWc-Y5lZ"
      },
      "outputs": [],
      "source": [
        "# Copiando o dataframe fitrado das linhas faltantes\n",
        "df2 = df1.dropna(axis=0)\n",
        "df2 = df2.drop([\"std5\", \"std10\", \"std15\", \"mm_std5\", \"mm_std10\", \"mm_std15\",\n",
        "                 \"Retorno_1\", \"Retorno_2\"], axis=1)"
      ]
    },
    {
      "cell_type": "markdown",
      "metadata": {
        "id": "15SxPJ2RuW95"
      },
      "source": [
        "### **Tranformando as variáveis para ranges**\n",
        "\n",
        "---\n",
        "\n",
        "Vou transformar as variáveis e para um range fixo. Dessa forma podemos capturar padrões nos dados.\n",
        "\n",
        "Estabeleci um valor de corte fixo, mas o ideal é que o exame do inteiro que servirá como corte seja analizado a cada variável."
      ]
    },
    {
      "cell_type": "code",
      "execution_count": 27,
      "metadata": {
        "id": "8L9gia6efJCf"
      },
      "outputs": [],
      "source": [
        "corte = 5\n",
        "\n",
        "# Transformando a variável zscore em categórica baseada em quantis\n",
        "df2[\"zscore_5\"] = pd.qcut(df2[\"zscore_5\"], corte, labels=False)\n",
        "df2[\"zscore_10\"] = pd.qcut(df2[\"zscore_10\"], corte, labels=False)\n",
        "df2[\"zscore_15\"] = pd.qcut(df2[\"zscore_15\"], corte, labels=False)\n",
        "df2[\"fr\"] = pd.qcut(df2[\"fr\"], corte, labels=False)\n",
        "df2[\"ifr\"] = pd.qcut(df2[\"ifr\"], corte, labels=False)\n",
        "df2[\"rsl_std5\"] = pd.qcut(df2[\"rsl_std5\"], corte, labels=False)\n",
        "df2[\"rsl_std10\"] = pd.qcut(df2[\"rsl_std10\"], corte, labels=False)\n",
        "df2[\"rsl_std15\"] = pd.qcut(df2[\"rsl_std15\"], corte, labels=False)\n",
        "df2[\"prop\"] = pd.qcut(df2[\"prop\"], corte, labels=False)\n",
        "df2[\"cat\"] = pd.qcut(df2[\"cat\"], corte, labels=False)\n",
        "df2[\"v\"] = pd.qcut(df2[\"v\"], corte, labels=False)\n",
        "df2[\"a\"] = pd.qcut(df2[\"a\"], corte, labels=False)\n",
        "df2[\"m\"] = pd.qcut(df2[\"m\"], corte, labels=False)\n",
        "df2[\"f\"] = pd.qcut(df2[\"f\"], corte, labels=False)\n",
        "df2[\"t\"] = pd.qcut(df2[\"t\"], corte, labels=False)\n",
        "df2[\"w\"] = pd.qcut(df2[\"w\"], corte, labels=False)\n",
        "df2[\"k\"] = pd.qcut(df2[\"k\"], corte, labels=False)\n",
        "df2[\"tau\"] = pd.qcut(df2[\"tau\"], corte, labels=False)\n",
        "df2[\"M\"] = pd.qcut(df2[\"M\"], corte, labels=False)\n",
        "df2[\"g\"] = pd.qcut(df2[\"g\"], corte, labels=False)\n",
        "df2[\"cat\"] = pd.qcut(df2[\"cat\"], corte, labels=False)\n",
        "df2[\"ret\"] = pd.qcut(df2[\"ret\"], corte, labels=False)"
      ]
    },
    {
      "cell_type": "code",
      "execution_count": 28,
      "metadata": {
        "colab": {
          "base_uri": "https://localhost:8080/",
          "height": 578
        },
        "id": "07fucvJ1N9ht",
        "outputId": "ef6cd47c-c64d-4326-b656-1edab7d55229"
      },
      "outputs": [
        {
          "data": {
            "image/png": "[encoded data removed]",
            "text/plain": [
              "<Figure size 1080x576 with 1 Axes>"
            ]
          },
          "metadata": {
            "needs_background": "light"
          },
          "output_type": "display_data"
        }
      ],
      "source": [
        "# Verificando a correlação entre variáveis com o Alvo_Bin\n",
        "df3 = df2.drop([\"Open\", \"High\", \"Low\", \"Close\", \"Adj Close\", \"Volume\", \"Alvo\",\n",
        "                \"Pontos\", \"Retorno\"], axis=1)\n",
        "\n",
        "plt.figure(figsize=(15, 8))\n",
        "ax = ((df3.corr()['Alvo_Bin'].sort_values(ascending=False)[1:] * 100).plot(kind='bar'))\n",
        "\n",
        "ax.yaxis.set_major_formatter(mtick.PercentFormatter())\n",
        "ax.set_ylabel('% Correlação')\n",
        "ax.set_xlabel('Variáveis')\n",
        "ax.set_title('Correlação das Variáveis com o Alvo (Alvo_Bin)');"
      ]
    },
    {
      "cell_type": "markdown",
      "metadata": {
        "id": "kLEqztdnxTFR"
      },
      "source": [
        "### **Preparação dos Dados**\n",
        "\n",
        "---\n",
        "\n",
        "Separando as variáveis em treino e teste, e entre features e alvo."
      ]
    },
    {
      "cell_type": "code",
      "execution_count": 29,
      "metadata": {
        "colab": {
          "base_uri": "https://localhost:8080/"
        },
        "id": "8KCQPnFSfiLF",
        "outputId": "fe066548-d4f9-4ccf-97d4-40b2a9d151d4"
      },
      "outputs": [
        {
          "name": "stdout",
          "output_type": "stream",
          "text": [
            "df_train: 2679 observações - 48 colunas\n",
            "df_test: 2716 observações - 48 colunas\n"
          ]
        }
      ],
      "source": [
        "# Separando os dados entre treinamento e teste\n",
        "# Nossa base vai de 02-01-2010 a 29-10-2021\n",
        "\n",
        "# Vamos treinar o modelo de 2010 a 2018\n",
        "start_train = \"2000-01-02\"\n",
        "end_train = \"2010-12-30\"\n",
        "\n",
        "# Vamos testar o modelo de 2019 a 2021\n",
        "start_test = \"2011-01-02\"\n",
        "end_test = \"2021-12-30\"\n",
        "\n",
        "# Separando os dataframes de teste e de treino\n",
        "df_train = df2[start_train:end_train]\n",
        "df_test = df2[start_test:end_test]\n",
        "\n",
        "# Verificando o formato dos dados\n",
        "print(\"df_train: {} observações - {} colunas\".format(df_train.shape[0], df_train.shape[1]))\n",
        "print(\"df_test: {} observações - {} colunas\".format(df_test.shape[0], df_test.shape[1]))\n",
        "\n",
        "# Separando as colunas que servirão como features\n",
        "var_columns = df_train.columns[10:]\n",
        "\n",
        "# Separando os dados de treino e teste com as variáveis em x e o alvo y\n",
        "x_train = df_train[var_columns]\n",
        "y_train = df_train[\"Alvo_Bin\"]\n",
        "\n",
        "x_test = df_test[var_columns]\n",
        "y_test = df_test[\"Alvo_Bin\"]"
      ]
    },
    {
      "cell_type": "markdown",
      "metadata": {
        "id": "nQGHLQHmx-6F"
      },
      "source": [
        "### **Treinando os Modelos**\n",
        "\n",
        "---"
      ]
    },
    {
      "cell_type": "code",
      "execution_count": 30,
      "metadata": {
        "colab": {
          "base_uri": "https://localhost:8080/"
        },
        "id": "nzCv6me5h6oZ",
        "outputId": "0d0bdfcc-f34d-4998-ebd9-d3f529a53999"
      },
      "outputs": [
        {
          "name": "stdout",
          "output_type": "stream",
          "text": [
            "Emod0  - Treino: 56.03 - Test: 51.4\n",
            "Emod1  - Treino: 51.96 - Test: 51.25\n",
            "Emod2  - Treino: 58.98 - Test: 48.82\n",
            "[10:37:55] WARNING: ../src/learner.cc:1095: Starting in XGBoost 1.3.0, the default evaluation metric used with the objective 'binary:logistic' was changed from 'error' to 'logloss'. Explicitly set eval_metric if you'd like to restore the old behavior.\n",
            "Emod3  - Treino: 99.96 - Test: 50.37\n"
          ]
        }
      ],
      "source": [
        "modelos = [LogisticRegression(random_state=42),\n",
        "           SGDClassifier(random_state=42),\n",
        "           DecisionTreeClassifier(criterion=\"gini\", max_depth=6, random_state=42),\n",
        "           XGBClassifier(random_state=42)]\n",
        "for i, modelo in enumerate(modelos):\n",
        "    mod = modelo.fit(x_train, y_train)\n",
        "    y_pred_train  = mod.predict(x_train)\n",
        "    y_pred_test  = mod.predict(x_test)\n",
        "    print(\"Emod{}  - Treino: {} - Test: {}\".format(i, round(metrics.accuracy_score(y_train, y_pred_train)* 100, 2),\n",
        "                                                   round(metrics.accuracy_score(y_test, y_pred_test)* 100, 2)))"
      ]
    },
    {
      "cell_type": "markdown",
      "metadata": {
        "id": "JTk_CSLOAPrM"
      },
      "source": [
        "### **Treinamento do Ensemble**\n",
        "\n",
        "---"
      ]
    },
    {
      "cell_type": "code",
      "execution_count": 31,
      "metadata": {
        "colab": {
          "base_uri": "https://localhost:8080/"
        },
        "id": "FudBHKu2AO7V",
        "outputId": "f9648946-f527-4332-a2e2-9fa354dbe894"
      },
      "outputs": [
        {
          "name": "stdout",
          "output_type": "stream",
          "text": [
            "[10:38:13] WARNING: ../src/learner.cc:1095: Starting in XGBoost 1.3.0, the default evaluation metric used with the objective 'binary:logistic' was changed from 'error' to 'logloss'. Explicitly set eval_metric if you'd like to restore the old behavior.\n",
            "[10:38:16] WARNING: ../src/learner.cc:1095: Starting in XGBoost 1.3.0, the default evaluation metric used with the objective 'binary:logistic' was changed from 'error' to 'logloss'. Explicitly set eval_metric if you'd like to restore the old behavior.\n",
            "[10:38:17] WARNING: ../src/learner.cc:1095: Starting in XGBoost 1.3.0, the default evaluation metric used with the objective 'binary:logistic' was changed from 'error' to 'logloss'. Explicitly set eval_metric if you'd like to restore the old behavior.\n",
            "[10:38:17] WARNING: ../src/learner.cc:1095: Starting in XGBoost 1.3.0, the default evaluation metric used with the objective 'binary:logistic' was changed from 'error' to 'logloss'. Explicitly set eval_metric if you'd like to restore the old behavior.\n",
            "[10:38:18] WARNING: ../src/learner.cc:1095: Starting in XGBoost 1.3.0, the default evaluation metric used with the objective 'binary:logistic' was changed from 'error' to 'logloss'. Explicitly set eval_metric if you'd like to restore the old behavior.\n",
            "[10:38:19] WARNING: ../src/learner.cc:1095: Starting in XGBoost 1.3.0, the default evaluation metric used with the objective 'binary:logistic' was changed from 'error' to 'logloss'. Explicitly set eval_metric if you'd like to restore the old behavior.\n",
            "[10:38:19] WARNING: ../src/learner.cc:1095: Starting in XGBoost 1.3.0, the default evaluation metric used with the objective 'binary:logistic' was changed from 'error' to 'logloss'. Explicitly set eval_metric if you'd like to restore the old behavior.\n",
            "e_multi (Acurácia) - Treino: 49.91 | Teste: 50.48\n"
          ]
        }
      ],
      "source": [
        "modelos = [\n",
        "          (\"Emod0\", LogisticRegression(random_state=42)),\n",
        "           (\"Emod1\", SGDClassifier(random_state=42)),\n",
        "          (\"Emod2\", DecisionTreeClassifier(criterion=\"gini\", max_depth=6, random_state=42)),\n",
        "           (\"Emod3\", XGBClassifier(random_state=42))\n",
        "]\n",
        "\n",
        "e_multi = StackingClassifier(modelos, final_estimator=XGBClassifier(max_depth=1\n",
        "                                                                    , colsample_bytree=0.1\n",
        "                                                                    , gamma=2\n",
        "                                                                    , random_state=42),\n",
        "                             passthrough=True).fit(x_train, y_train)\n",
        "\n",
        "# Predizendo para os dados de treino e teste\n",
        "y_pred_train_e_multi = e_multi.predict(x_train)\n",
        "y_pred_test_e_multi = e_multi.predict(x_test)\n",
        "\n",
        "#Acurácia\n",
        "print(\"e_multi (Acurácia) - Treino: {} | Teste: {}\".format(round(metrics.accuracy_score(y_train, y_pred_train_e_multi)* 100, 2),\n",
        "                                                        round(metrics.accuracy_score(y_test, y_pred_test_e_multi)* 100, 2)))"
      ]
    },
    {
      "cell_type": "markdown",
      "metadata": {
        "id": "zkcHx0W9C8fA"
      },
      "source": [
        "##**Avaliação dos Resultados e análise de robustez**\n",
        "\n",
        "---"
      ]
    },
    {
      "cell_type": "markdown",
      "metadata": {
        "id": "xuceOn5GzAkb"
      },
      "source": [
        "#### **Matriz de Confusão**"
      ]
    },
    {
      "cell_type": "code",
      "execution_count": 32,
      "metadata": {
        "colab": {
          "base_uri": "https://localhost:8080/"
        },
        "id": "mSoUMyU9y7p6",
        "outputId": "974ddca3-bbdb-4254-f7aa-e1e9106f070c"
      },
      "outputs": [
        {
          "name": "stdout",
          "output_type": "stream",
          "text": [
            "[[ 199 1133]\n",
            " [ 212 1172]]\n",
            "\n",
            "----------------------------------------------------------\n",
            "\n",
            "              precision    recall  f1-score   support\n",
            "\n",
            "          -1       0.48      0.15      0.23      1332\n",
            "           1       0.51      0.85      0.64      1384\n",
            "\n",
            "    accuracy                           0.50      2716\n",
            "   macro avg       0.50      0.50      0.43      2716\n",
            "weighted avg       0.50      0.50      0.44      2716\n",
            "\n",
            "----------------------------------------------------------\n"
          ]
        }
      ],
      "source": [
        "print(confusion_matrix(y_test, y_pred_test_e_multi))\n",
        "print()\n",
        "print(\"----------------------------------------------------------\")\n",
        "print()\n",
        "print(classification_report(y_test, y_pred_test_e_multi))\n",
        "print(\"----------------------------------------------------------\")"
      ]
    },
    {
      "cell_type": "markdown",
      "metadata": {
        "id": "YNmSf3CtzRnM"
      },
      "source": [
        "#### **Calculando a performance do modelo**"
      ]
    },
    {
      "cell_type": "code",
      "execution_count": 33,
      "metadata": {
        "colab": {
          "base_uri": "https://localhost:8080/",
          "height": 456
        },
        "id": "KCSrDmIGzbZn",
        "outputId": "677e8750-193f-4ccc-f933-2026af6168f1"
      },
      "outputs": [
        {
          "data": {
            "text/html": [
              "<div>\n",
              "<style scoped>\n",
              "    .dataframe tbody tr th:only-of-type {\n",
              "        vertical-align: middle;\n",
              "    }\n",
              "\n",
              "    .dataframe tbody tr th {\n",
              "        vertical-align: top;\n",
              "    }\n",
              "\n",
              "    .dataframe thead th {\n",
              "        text-align: right;\n",
              "    }\n",
              "</style>\n",
              "<table border=\"1\" class=\"dataframe\">\n",
              "  <thead>\n",
              "    <tr style=\"text-align: right;\">\n",
              "      <th></th>\n",
              "    </tr>\n",
              "  </thead>\n",
              "  <tbody>\n",
              "  </tbody>\n",
              "</table>\n",
              "</div>"
            ],
            "text/plain": [
              "Empty DataFrame\n",
              "Columns: []\n",
              "Index: []"
            ]
          },
          "execution_count": 33,
          "metadata": {},
          "output_type": "execute_result"
        },
        {
          "data": {
            "image/png": "[encoded data removed]",
            "text/plain": [
              "<Figure size 1080x432 with 1 Axes>"
            ]
          },
          "metadata": {
            "needs_background": "light"
          },
          "output_type": "display_data"
        }
      ],
      "source": [
        "y_pred_all = e_multi.predict(df2[var_columns])\n",
        "\n",
        "# Calculando a performance\n",
        "df2.loc[:, \"Previsto\"] = y_pred_all\n",
        "\n",
        "# Convertendo para float\n",
        "df2.loc[:, \"Retorno_Modelo\"] = df2.loc[:, \"Previsto\"] *  df2[\"Alvo\"]\n",
        "\n",
        "# Criando um stop de 2,5%\n",
        "stop = 0.025\n",
        "df2.loc[:, \"Retorno_Modelo\"] = np.where(\n",
        "                                    df2.loc[:, \"Retorno_Modelo\"] < -stop, -stop,\n",
        "                                    df2.loc[:, \"Retorno_Modelo\"]\n",
        ")\n",
        "\n",
        "# Criando configurações para fazer um conditional plot\n",
        "df2.index.name = \"Data\"\n",
        "df2.reset_index(inplace=True)\n",
        "df2[\"Data\"] = pd.to_datetime(df2[\"Data\"])\n",
        "df2[\"train_test\"] = np.where(df2[\"Data\"] > end_train, 1, -1)\n",
        "\n",
        "# Criando um resample para reunir os dados por mês\n",
        "base_agregada = df2.resample(\"M\", on=\"Data\").sum()\n",
        "# Calculando o resultado acumulado por mês\n",
        "base_agregada.loc[:, \"Retorno_Modelo_Acumulado\"] = base_agregada[\"Retorno_Modelo\"].cumsum() * 100\n",
        "\n",
        "# Plota gráfico\n",
        "fig, ax = plt.subplots(figsize=(15,6))\n",
        "def grafico(group):\n",
        "    color = \"black\" if (group[\"train_test\"] < 0).all() else \"red\"\n",
        "    lw = 4.0\n",
        "    ax.plot(group.index, group.Retorno_Modelo_Acumulado, c=color, linewidth=lw)\n",
        "    plt.xlabel(\"Ano\", fontsize=18);\n",
        "    plt.ylabel(\"Retorno Acumulado (%)\", fontsize=18);\n",
        "    plt.title(\"Ensemble - Ibov  (2000-2021)\", fontsize=24)\n",
        "    setup = dict(size=16, color='darkgreen')\n",
        "    setup2 = dict(size=14, color=\"black\")\n",
        "\n",
        "base_agregada.groupby((base_agregada[\"train_test\"].shift() * base_agregada[\"train_test\"] < 0).cumsum()).apply(grafico)"
      ]
    },
    {
      "cell_type": "markdown",
      "metadata": {
        "id": "x8M_9JAAr74s"
      },
      "source": [
        "#### **Resumo do Histórico**\n"
      ]
    },
    {
      "cell_type": "code",
      "execution_count": 34,
      "metadata": {
        "colab": {
          "base_uri": "https://localhost:8080/"
        },
        "id": "cEiG7CbEiY_v",
        "outputId": "29235a02-e9f2-4920-a571-f7dc4e4eb192"
      },
      "outputs": [
        {
          "name": "stdout",
          "output_type": "stream",
          "text": [
            "--- OMNP: Resultado Ensemble IBOV de 2000 a 2021 ---\n",
            "\n",
            "Treinamento: 2000-2010\n",
            "Teste: 2011-2021\n",
            "Stop de 2,5% - custos operacionais não incluídos\n",
            "----------------------------------------------------\n",
            "\n",
            "Pior retorno mensal: -14.899999999999999%\n",
            "Melhor retorno mensal: 36.0%\n",
            "Média de ganho mensal : 2.0%\n",
            "----------------------------------------------------\n",
            "\n",
            "Pior retorno anual: -29.599999999999998%\n",
            "Melhor retorno anual: 115.99999999999999%\n",
            "Média de ganho anual: 23.0%\n",
            "----------------------------------------------------\n",
            "\n",
            "Meses positivos: 156\n",
            "Meses negativos: 106\n",
            "----------------------------------------------------\n",
            "\n",
            "Anos positivos: 15\n",
            "Anos negativos: 7\n",
            "----------------------------------------------------\n",
            "\n",
            "Total(simples): 500.8%\n"
          ]
        }
      ],
      "source": [
        "# Resumo histórico ano\n",
        "summary = df2.copy()\n",
        "summary[\"Data\"] = pd.to_datetime(summary[\"Data\"], format=\"%Y-%m\")\n",
        "summary = summary.groupby([summary[\"Data\"].dt.year]).agg({\"Retorno_Modelo\": sum})\n",
        "summary.index = summary.index.set_names([\"Ano\"])\n",
        "\n",
        "# Resumo histórico mês\n",
        "summary_mes = df2.copy()\n",
        "summary_mes[\"Data\"] = pd.to_datetime(summary_mes[\"Data\"], format=\"%Y-%m\")\n",
        "summary_mes = summary_mes.groupby([summary_mes[\"Data\"].dt.year, summary_mes[\"Data\"].dt.month]).agg({\"Retorno_Modelo\": sum})\n",
        "summary_mes.index = summary_mes.index.set_names([\"Ano\", \"Mes\"])\n",
        "\n",
        "print(\"--- OMNP: Resultado Ensemble IBOV de 2000 a 2021 ---\")\n",
        "print()\n",
        "print(\"Treinamento: 2000-2010\")\n",
        "print(\"Teste: 2011-2021\")\n",
        "print(\"Stop de 2,5% - custos operacionais não incluídos\")\n",
        "print(\"----------------------------------------------------\")\n",
        "print()\n",
        "print(\"Pior retorno mensal: {}%\".format(round(summary_mes[\"Retorno_Modelo\"].min(), 3)*100))\n",
        "print(\"Melhor retorno mensal: {}%\".format(round(summary_mes[\"Retorno_Modelo\"].max(), 2)*100))\n",
        "print(\"Média de ganho mensal : {}%\".format(round(summary_mes[\"Retorno_Modelo\"].mean(), 2)*100))\n",
        "print(\"----------------------------------------------------\")\n",
        "print()\n",
        "print(\"Pior retorno anual: {}%\".format(round(summary[\"Retorno_Modelo\"].min(), 3)*100))\n",
        "print(\"Melhor retorno anual: {}%\".format(round(summary[\"Retorno_Modelo\"].max(), 2)*100))\n",
        "print(\"Média de ganho anual: {}%\".format(round(summary[\"Retorno_Modelo\"].mean(), 2)*100))\n",
        "print(\"----------------------------------------------------\")\n",
        "print()\n",
        "print(\"Meses positivos: {}\".format((summary_mes[\"Retorno_Modelo\"] > 0).sum()))\n",
        "print(\"Meses negativos: {}\".format((summary_mes[\"Retorno_Modelo\"] < 0).sum()))\n",
        "print(\"----------------------------------------------------\")\n",
        "print()\n",
        "print(\"Anos positivos: {}\".format((summary[\"Retorno_Modelo\"] > 0).sum()))\n",
        "print(\"Anos negativos: {}\".format((summary[\"Retorno_Modelo\"] < 0).sum()))\n",
        "print(\"----------------------------------------------------\")\n",
        "print()\n",
        "print(\"Total(simples): {}%\".format(round(summary_mes[\"Retorno_Modelo\"].sum(), 3)*100))"
      ]
    }
  ],
  "metadata": {
    "colab": {
      "collapsed_sections": [],
      "name": "Ensemble-Ind_Ibov-v-2.ipynb",
      "provenance": []
    },
    "kernelspec": {
      "display_name": "Python 3",
      "language": "python",
      "name": "python3"
    },
    "language_info": {
      "codemirror_mode": {
        "name": "ipython",
        "version": 3
      },
      "file_extension": ".py",
      "mimetype": "text/x-python",
      "name": "python",
      "nbconvert_exporter": "python",
      "pygments_lexer": "ipython3",
      "version": "3.8.5"
    }
  },
  "nbformat": 4,
  "nbformat_minor": 0
}
